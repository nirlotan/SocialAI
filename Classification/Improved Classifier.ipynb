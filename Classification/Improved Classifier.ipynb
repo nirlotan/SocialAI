{
 "cells": [
  {
   "cell_type": "code",
   "execution_count": 133,
   "metadata": {
    "ExecuteTime": {
     "end_time": "2023-08-16T16:11:59.729929Z",
     "start_time": "2023-08-16T16:11:59.714624Z"
    }
   },
   "outputs": [],
   "source": [
    "import yaml\n",
    "import pandas as pd\n",
    "from tqdm import tqdm\n",
    "from yaspin import yaspin\n",
    "from yaspin.spinners import Spinners\n",
    "import ast\n",
    "import swifter\n",
    "from datetime import datetime\n",
    "from socialvec.socialvec import SocialVec\n",
    "from sklearn.preprocessing import LabelEncoder\n",
    "from sklearn.model_selection import train_test_split\n",
    "from tensorflow import keras\n",
    "\n",
    "tqdm.pandas()\n",
    "\n",
    "from aux_functions import *"
   ]
  },
  {
   "cell_type": "code",
   "execution_count": 147,
   "metadata": {
    "ExecuteTime": {
     "end_time": "2023-08-16T16:17:59.268698Z",
     "start_time": "2023-08-16T16:17:59.252505Z"
    }
   },
   "outputs": [],
   "source": [
    "\n",
    "config = \"config-political.yaml\"\n",
    "\n",
    "with open(config, 'r') as file:\n",
    "    conf = yaml.load(file, Loader=yaml.FullLoader)\n"
   ]
  },
  {
   "cell_type": "code",
   "execution_count": 136,
   "metadata": {
    "ExecuteTime": {
     "end_time": "2023-08-16T16:12:16.446650Z",
     "start_time": "2023-08-16T16:12:13.699887Z"
    }
   },
   "outputs": [
    {
     "name": "stdout",
     "output_type": "stream",
     "text": [
      "\u001b[K0m Reading Data\u001b[K\u001b[?25h"
     ]
    }
   ],
   "source": [
    "# read and arrange data\n",
    "with yaspin(Spinners.arc, text=\"Reading Data\") as sp:\n",
    "    try:\n",
    "        data_for_training = pd.read_csv(conf['data_file'])\n",
    "    except:\n",
    "        data_for_training = pd.read_csv(conf['data_file'], compression='gzip')\n",
    "    data_for_training.reset_index(inplace=True)\n",
    "    data_for_training.drop('index', axis=1, inplace=True)\n",
    "    data_for_training.drop(data_for_training.columns[data_for_training.columns.str.contains('unnamed',case = False)],axis = 1, inplace = True)\n",
    "\n",
    "    data_for_training = data_for_training[data_for_training['source']==conf[\"source_for_modeling\"]]\n",
    "    data_for_training = data_for_training[~data_for_training['list'].isna()]"
   ]
  },
  {
   "cell_type": "code",
   "execution_count": 143,
   "metadata": {
    "ExecuteTime": {
     "end_time": "2023-08-16T16:14:37.987387Z",
     "start_time": "2023-08-16T16:13:42.266740Z"
    }
   },
   "outputs": [
    {
     "name": "stdout",
     "output_type": "stream",
     "text": [
      "Parsing Lists\n"
     ]
    },
    {
     "name": "stderr",
     "output_type": "stream",
     "text": [
      "100%|██████████| 6313/6313 [00:00<00:00, 50630.60it/s]\n"
     ]
    },
    {
     "data": {
      "application/vnd.jupyter.widget-view+json": {
       "model_id": "daba34ffa17b4b17b3277a56c98be365",
       "version_major": 2,
       "version_minor": 0
      },
      "text/plain": [
       "Pandas Apply:   0%|          | 0/6313 [00:00<?, ?it/s]"
      ]
     },
     "metadata": {},
     "output_type": "display_data"
    }
   ],
   "source": [
    "print(\"Parsing Lists\")\n",
    "data_for_training['list'] = data_for_training.progress_apply(lambda x: fix_list(x), axis=1)\n",
    "data_for_training.list = data_for_training.list.swifter.apply(lambda x: list(ast.literal_eval(x.strip())))"
   ]
  },
  {
   "cell_type": "code",
   "execution_count": 145,
   "metadata": {
    "ExecuteTime": {
     "end_time": "2023-08-16T16:15:00.768607Z",
     "start_time": "2023-08-16T16:15:00.745586Z"
    }
   },
   "outputs": [],
   "source": [
    "data_for_training['list_len']= data_for_training.list.apply(lambda x: len(x))"
   ]
  },
  {
   "cell_type": "markdown",
   "metadata": {},
   "source": [
    "## filter by pmi"
   ]
  },
  {
   "cell_type": "code",
   "execution_count": null,
   "metadata": {
    "ExecuteTime": {
     "end_time": "2023-08-07T10:23:17.541351Z",
     "start_time": "2023-08-07T10:23:17.533615Z"
    }
   },
   "outputs": [],
   "source": [
    "def filter_relevant_accounts(curr_list):\n",
    "    return list(set(curr_list).intersection(relevant_accounts))"
   ]
  },
  {
   "cell_type": "code",
   "execution_count": 150,
   "metadata": {
    "ExecuteTime": {
     "end_time": "2023-08-16T16:22:23.455692Z",
     "start_time": "2023-08-16T16:22:18.702511Z"
    }
   },
   "outputs": [],
   "source": [
    "pmi = pd.read_excel(conf['pmi_file'])"
   ]
  },
  {
   "cell_type": "code",
   "execution_count": 156,
   "metadata": {
    "ExecuteTime": {
     "end_time": "2023-08-16T16:23:09.618757Z",
     "start_time": "2023-08-16T16:23:08.632653Z"
    }
   },
   "outputs": [
    {
     "name": "stderr",
     "output_type": "stream",
     "text": [
      "/tmp/ipykernel_8668/1315705038.py:2: SettingWithCopyWarning: \n",
      "A value is trying to be set on a copy of a slice from a DataFrame.\n",
      "Try using .loc[row_indexer,col_indexer] = value instead\n",
      "\n",
      "See the caveats in the documentation: https://pandas.pydata.org/pandas-docs/stable/user_guide/indexing.html#returning-a-view-versus-a-copy\n",
      "  data_for_training['filtered_list'] = data_for_training['list'].apply(filter_relevant_accounts)\n",
      "/tmp/ipykernel_8668/1315705038.py:3: SettingWithCopyWarning: \n",
      "A value is trying to be set on a copy of a slice from a DataFrame.\n",
      "Try using .loc[row_indexer,col_indexer] = value instead\n",
      "\n",
      "See the caveats in the documentation: https://pandas.pydata.org/pandas-docs/stable/user_guide/indexing.html#returning-a-view-versus-a-copy\n",
      "  data_for_training['filtered_list_len']= data_for_training.filtered_list.apply(lambda x: len(x))\n"
     ]
    }
   ],
   "source": [
    "relevant_accounts = set(pmi.account.values)\n",
    "data_for_training['filtered_list'] = data_for_training['list'].apply(filter_relevant_accounts)\n",
    "data_for_training['filtered_list_len']= data_for_training.filtered_list.apply(lambda x: len(x))\n",
    "data_for_training = data_for_training[data_for_training['filtered_list_len']>=10].copy()"
   ]
  },
  {
   "cell_type": "code",
   "execution_count": 159,
   "metadata": {
    "ExecuteTime": {
     "end_time": "2023-08-16T16:23:45.268198Z",
     "start_time": "2023-08-16T16:23:45.255352Z"
    }
   },
   "outputs": [],
   "source": [
    "data_for_training.drop(columns=['list','list_len'], inplace=True)\n",
    "data_for_training.rename(columns={'filtered_list':'list','filtered_list_len':'list_len'}, inplace=True)"
   ]
  },
  {
   "cell_type": "markdown",
   "metadata": {
    "ExecuteTime": {
     "end_time": "2023-08-03T12:08:25.014035Z",
     "start_time": "2023-08-03T12:08:25.008062Z"
    }
   },
   "source": [
    "## train test split"
   ]
  },
  {
   "cell_type": "code",
   "execution_count": 164,
   "metadata": {
    "ExecuteTime": {
     "end_time": "2023-08-16T16:24:26.203487Z",
     "start_time": "2023-08-16T16:24:24.890864Z"
    }
   },
   "outputs": [
    {
     "name": "stdout",
     "output_type": "stream",
     "text": [
      "Creating a new train/test split ‼️‼️\n"
     ]
    }
   ],
   "source": [
    "if conf[\"use_existing_train_test_split\"] == True:\n",
    "\n",
    "    print(\"Using existing train/test split ✅✅\")\n",
    "    df_test_set = pd.read_excel(conf['train_test_split_file'])\n",
    "    data_for_training = data_for_training.merge(df_test_set, on='twitter_id', how='left')\n",
    "else:\n",
    "\n",
    "    print(\"Creating a new train/test split ‼️‼️\")\n",
    "    # Split the data into train and test sets, stratified by a specific column\n",
    "    train_df, test_df = train_test_split(data_for_training,\n",
    "                                         test_size=0.2,\n",
    "                                         stratify=data_for_training[conf['field_to_classify']])\n",
    "\n",
    "    # Create a new column 'dataset' and initialize with 'train' for all rows\n",
    "    data_for_training.loc[data_for_training.index.isin(train_df.index), 'train_test'] = 'train'\n",
    "\n",
    "    # Use the loc accessor to update the 'dataset' column for the test set rows\n",
    "    data_for_training.loc[data_for_training.index.isin(test_df.index), 'train_test'] = 'test'\n",
    "\n",
    "    date_string = datetime.now().strftime(\"%Y%m%d\")\n",
    "    data_for_training[['twitter_id','train_test']].to_excel(f'../data/{conf[\"field_to_classify\"]}_train_test_split_{date_string}.xlsx', index=False)"
   ]
  },
  {
   "cell_type": "code",
   "execution_count": 169,
   "metadata": {
    "ExecuteTime": {
     "end_time": "2023-08-16T16:26:43.543423Z",
     "start_time": "2023-08-16T16:26:43.530113Z"
    }
   },
   "outputs": [
    {
     "name": "stdout",
     "output_type": "stream",
     "text": [
      "train    4656\n",
      "test     1164\n",
      "Name: train_test, dtype: int64\n"
     ]
    }
   ],
   "source": [
    "print(data_for_training['train_test'].value_counts())"
   ]
  },
  {
   "cell_type": "code",
   "execution_count": 170,
   "metadata": {
    "ExecuteTime": {
     "end_time": "2023-08-16T16:27:06.577820Z",
     "start_time": "2023-08-16T16:26:51.511827Z"
    }
   },
   "outputs": [
    {
     "name": "stdout",
     "output_type": "stream",
     "text": [
      "\u001b[K✅ \u001b[0m Initialize Model5h\u001b[K\u001b[K\n",
      "\u001b[K✅ \u001b[0m Load Metadata[?25h\u001b[K\u001b[K\n"
     ]
    },
    {
     "data": {
      "application/vnd.jupyter.widget-view+json": {
       "model_id": "7e7415673a9f41acb6f0392221db83df",
       "version_major": 2,
       "version_minor": 0
      },
      "text/plain": [
       "Pandas Apply:   0%|          | 0/5820 [00:00<?, ?it/s]"
      ]
     },
     "metadata": {},
     "output_type": "display_data"
    }
   ],
   "source": [
    "sv = SocialVec(conf[\"SocialVec_version\"])\n",
    "data_for_training[['socialvec', 'socialvec_len']] = data_for_training.progress_apply(lambda x: sv.get_average_embeddings(x['list']), axis=1, result_type='expand' )"
   ]
  },
  {
   "cell_type": "code",
   "execution_count": null,
   "metadata": {
    "ExecuteTime": {
     "end_time": "2023-07-24T13:29:02.861191Z",
     "start_time": "2023-07-24T13:29:02.858608Z"
    }
   },
   "outputs": [],
   "source": [
    "#data_for_training.drop('political_train_test', axis=1, inplace=True)"
   ]
  },
  {
   "cell_type": "code",
   "execution_count": 172,
   "metadata": {
    "ExecuteTime": {
     "end_time": "2023-08-16T16:27:15.243914Z",
     "start_time": "2023-08-16T16:27:15.219785Z"
    }
   },
   "outputs": [
    {
     "name": "stdout",
     "output_type": "stream",
     "text": [
      "number of samples after filtering by SocialVec len: 5773\n"
     ]
    }
   ],
   "source": [
    "le = LabelEncoder()\n",
    "data_for_training['class'] = le.fit_transform(data_for_training[conf['field_to_classify']])\n",
    "data_for_training = data_for_training[data_for_training['socialvec_len']>conf['minimal_socialvec_len']]\n",
    "print (f\"number of samples after filtering by SocialVec len: {data_for_training.shape[0]}\")"
   ]
  },
  {
   "cell_type": "code",
   "execution_count": 173,
   "metadata": {
    "ExecuteTime": {
     "end_time": "2023-08-16T16:27:23.423763Z",
     "start_time": "2023-08-16T16:27:23.412486Z"
    }
   },
   "outputs": [
    {
     "data": {
      "text/plain": [
       "{0: 'Democrat', 1: 'Republican'}"
      ]
     },
     "execution_count": 173,
     "metadata": {},
     "output_type": "execute_result"
    }
   ],
   "source": [
    "dict(zip(range(len(le.classes_)), le.classes_))"
   ]
  },
  {
   "cell_type": "code",
   "execution_count": 176,
   "metadata": {
    "ExecuteTime": {
     "end_time": "2023-08-16T16:27:49.575314Z",
     "start_time": "2023-08-16T16:27:49.569154Z"
    }
   },
   "outputs": [],
   "source": [
    "#data_for_training.drop_duplicates(subset=['twitter_id', 'screen_name', 'name'],inplace=True)"
   ]
  },
  {
   "cell_type": "code",
   "execution_count": 177,
   "metadata": {
    "ExecuteTime": {
     "end_time": "2023-08-16T16:27:51.292193Z",
     "start_time": "2023-08-16T16:27:51.275329Z"
    }
   },
   "outputs": [],
   "source": [
    "train_df = data_for_training[data_for_training['train_test']=='train'].copy()\n",
    "test_df = data_for_training[data_for_training['train_test']=='test'].copy()"
   ]
  },
  {
   "cell_type": "code",
   "execution_count": 178,
   "metadata": {
    "ExecuteTime": {
     "end_time": "2023-08-16T16:27:53.679145Z",
     "start_time": "2023-08-16T16:27:53.649783Z"
    }
   },
   "outputs": [],
   "source": [
    "X_train, y_train     = prep_tf_inputs(train_df, 'socialvec')\n",
    "X_test,  y_test      = prep_tf_inputs(test_df, 'socialvec')"
   ]
  },
  {
   "cell_type": "code",
   "execution_count": 180,
   "metadata": {
    "ExecuteTime": {
     "end_time": "2023-08-16T16:28:04.758129Z",
     "start_time": "2023-08-16T16:28:04.746614Z"
    }
   },
   "outputs": [],
   "source": [
    "def label_smoothing_loss(y_true, y_pred, smoothing=0.1):\n",
    "    \"\"\"\n",
    "    Custom loss function implementing label smoothing.\n",
    "    \"\"\"\n",
    "    num_classes = y_true.shape[-1]\n",
    "    smooth_positives = 1.0 - smoothing\n",
    "    smooth_negatives = smoothing / num_classes\n",
    "    y_true = y_true * smooth_positives + smooth_negatives\n",
    "\n",
    "    return keras.losses.categorical_crossentropy(y_true, y_pred)\n"
   ]
  },
  {
   "cell_type": "markdown",
   "metadata": {},
   "source": [
    "## Model Training"
   ]
  },
  {
   "cell_type": "code",
   "execution_count": 181,
   "metadata": {
    "ExecuteTime": {
     "end_time": "2023-08-16T16:28:08.394222Z",
     "start_time": "2023-08-16T16:28:08.280938Z"
    }
   },
   "outputs": [
    {
     "name": "stdout",
     "output_type": "stream",
     "text": [
      "Model: \"sequential\"\n",
      "_________________________________________________________________\n",
      " Layer (type)                Output Shape              Param #   \n",
      "=================================================================\n",
      " dense (Dense)               (None, 64)                6464      \n",
      "                                                                 \n",
      " dense_1 (Dense)             (None, 2)                 130       \n",
      "                                                                 \n",
      "=================================================================\n",
      "Total params: 6,594\n",
      "Trainable params: 6,594\n",
      "Non-trainable params: 0\n",
      "_________________________________________________________________\n"
     ]
    }
   ],
   "source": [
    "from tensorflow import keras\n",
    "from tensorflow.keras import layers\n",
    "from tensorflow.keras.metrics import Precision\n",
    "\n",
    "tf.keras.backend.clear_session()\n",
    "\n",
    "input_shape = (X_train.shape[1],)\n",
    "\n",
    "# Create the model\n",
    "model = keras.Sequential()\n",
    "\n",
    "# Add a Dense layer with 64 units and ReLU activation\n",
    "model.add(layers.Dense(64, activation='relu', input_shape=input_shape))\n",
    "\n",
    "# Add a Dense layer with 2 output neurons (representing the two classes) and softmax activation\n",
    "model.add(layers.Dense(2, activation='softmax'))\n",
    "\n",
    "# Compile the model\n",
    "model.compile(optimizer='adam',\n",
    "                loss= label_smoothing_loss, #'categorical_crossentropy',\n",
    "                metrics=[Precision()],\n",
    "                run_eagerly=True)\n",
    "\n",
    "# Print the model summary\n",
    "model.summary()"
   ]
  },
  {
   "cell_type": "code",
   "execution_count": 182,
   "metadata": {
    "ExecuteTime": {
     "end_time": "2023-08-16T16:28:11.462906Z",
     "start_time": "2023-08-16T16:28:11.445528Z"
    }
   },
   "outputs": [],
   "source": [
    "import numpy as np\n",
    "from sklearn.preprocessing import OneHotEncoder\n",
    "\n",
    "# One-dimensional array containing zeros and ones\n",
    "data = y_train\n",
    "\n",
    "# Reshape the data to a 2D array with a single feature\n",
    "data_2d = data.reshape(-1, 1)\n",
    "\n",
    "# Initialize the OneHotEncoder\n",
    "encoder = OneHotEncoder(sparse=False)\n",
    "\n",
    "# Fit and transform the data\n",
    "one_hot_encoded = tf.constant(encoder.fit_transform(data_2d))"
   ]
  },
  {
   "cell_type": "code",
   "execution_count": null,
   "metadata": {
    "ExecuteTime": {
     "end_time": "2023-08-16T16:31:09.203381Z",
     "start_time": "2023-08-16T16:28:18.240374Z"
    }
   },
   "outputs": [],
   "source": [
    "model.fit(X_train,\n",
    "              one_hot_encoded,\n",
    "              epochs=100,\n",
    "              batch_size=50,\n",
    "              validation_split=0.1,\n",
    "              verbose=True)"
   ]
  },
  {
   "cell_type": "markdown",
   "metadata": {},
   "source": [
    "## Load Model and predict"
   ]
  },
  {
   "cell_type": "code",
   "execution_count": null,
   "metadata": {
    "ExecuteTime": {
     "end_time": "2023-06-03T10:08:34.874190Z",
     "start_time": "2023-06-03T10:08:34.769841Z"
    }
   },
   "outputs": [],
   "source": [
    "if conf['load_model']:\n",
    "\n",
    "    custom_objects = {'label_smoothing_loss': label_smoothing_loss}\n",
    "    with keras.utils.custom_object_scope(custom_objects):    \n",
    "        model = keras.models.load_model(f\"models/{conf['model_name']}.h5\")"
   ]
  },
  {
   "cell_type": "code",
   "execution_count": 184,
   "metadata": {
    "ExecuteTime": {
     "end_time": "2023-08-16T16:33:08.152075Z",
     "start_time": "2023-08-16T16:33:07.947428Z"
    }
   },
   "outputs": [
    {
     "name": "stdout",
     "output_type": "stream",
     "text": [
      "37/37 [==============================] - 0s 2ms/step\n"
     ]
    }
   ],
   "source": [
    "preds_full = model.predict(X_test)"
   ]
  },
  {
   "cell_type": "code",
   "execution_count": 185,
   "metadata": {
    "ExecuteTime": {
     "end_time": "2023-08-16T16:33:10.614683Z",
     "start_time": "2023-08-16T16:33:10.421225Z"
    }
   },
   "outputs": [
    {
     "name": "stdout",
     "output_type": "stream",
     "text": [
      "37/37 [==============================] - 0s 3ms/step\n"
     ]
    }
   ],
   "source": [
    "test_preds = tf.argmax(model.predict(X_test), axis=1)"
   ]
  },
  {
   "cell_type": "code",
   "execution_count": 186,
   "metadata": {
    "ExecuteTime": {
     "end_time": "2023-08-16T16:33:12.170002Z",
     "start_time": "2023-08-16T16:33:12.148518Z"
    }
   },
   "outputs": [
    {
     "name": "stdout",
     "output_type": "stream",
     "text": [
      "              precision    recall  f1-score   support\n",
      "\n",
      "           0       0.96      0.97      0.97       523\n",
      "           1       0.97      0.97      0.97       634\n",
      "\n",
      "    accuracy                           0.97      1157\n",
      "   macro avg       0.97      0.97      0.97      1157\n",
      "weighted avg       0.97      0.97      0.97      1157\n",
      "\n"
     ]
    }
   ],
   "source": [
    "from sklearn.metrics import classification_report\n",
    "print(classification_report(y_test, test_preds))"
   ]
  },
  {
   "cell_type": "code",
   "execution_count": 187,
   "metadata": {
    "ExecuteTime": {
     "end_time": "2023-08-16T16:33:50.112828Z",
     "start_time": "2023-08-16T16:33:50.102231Z"
    }
   },
   "outputs": [],
   "source": [
    "test_df['preds'] = test_preds\n",
    "test_df['confidence'] = np.max((preds_full), axis=1)"
   ]
  },
  {
   "cell_type": "code",
   "execution_count": 188,
   "metadata": {
    "ExecuteTime": {
     "end_time": "2023-08-16T16:33:52.049498Z",
     "start_time": "2023-08-16T16:33:51.931609Z"
    }
   },
   "outputs": [
    {
     "data": {
      "image/png": "[encoded data removed]",
      "text/plain": [
       "<Figure size 432x288 with 1 Axes>"
      ]
     },
     "metadata": {
      "needs_background": "light"
     },
     "output_type": "display_data"
    }
   ],
   "source": [
    "import seaborn as sns\n",
    "from sklearn.metrics import confusion_matrix\n",
    "# y_test  : actual labels or target\n",
    "# y_preds : predicted labels or target\n",
    "sns.heatmap(confusion_matrix(y_test, test_preds),square=True, annot=True, cmap='Blues', fmt='d', cbar=False);"
   ]
  },
  {
   "cell_type": "code",
   "execution_count": 189,
   "metadata": {
    "ExecuteTime": {
     "end_time": "2023-08-16T16:34:04.638142Z",
     "start_time": "2023-08-16T16:34:04.607272Z"
    }
   },
   "outputs": [
    {
     "data": {
      "text/html": [
       "<div>\n",
       "<style scoped>\n",
       "    .dataframe tbody tr th:only-of-type {\n",
       "        vertical-align: middle;\n",
       "    }\n",
       "\n",
       "    .dataframe tbody tr th {\n",
       "        vertical-align: top;\n",
       "    }\n",
       "\n",
       "    .dataframe thead th {\n",
       "        text-align: right;\n",
       "    }\n",
       "</style>\n",
       "<table border=\"1\" class=\"dataframe\">\n",
       "  <thead>\n",
       "    <tr style=\"text-align: right;\">\n",
       "      <th></th>\n",
       "      <th>twitter_id</th>\n",
       "      <th>political</th>\n",
       "      <th>political_train_test</th>\n",
       "      <th>source</th>\n",
       "      <th>list</th>\n",
       "      <th>list_len</th>\n",
       "      <th>train_test</th>\n",
       "      <th>socialvec</th>\n",
       "      <th>socialvec_len</th>\n",
       "      <th>preds</th>\n",
       "      <th>confidence</th>\n",
       "    </tr>\n",
       "    <tr>\n",
       "      <th>class</th>\n",
       "      <th></th>\n",
       "      <th></th>\n",
       "      <th></th>\n",
       "      <th></th>\n",
       "      <th></th>\n",
       "      <th></th>\n",
       "      <th></th>\n",
       "      <th></th>\n",
       "      <th></th>\n",
       "      <th></th>\n",
       "      <th></th>\n",
       "    </tr>\n",
       "  </thead>\n",
       "  <tbody>\n",
       "    <tr>\n",
       "      <th>0</th>\n",
       "      <td>367</td>\n",
       "      <td>367</td>\n",
       "      <td>367</td>\n",
       "      <td>367</td>\n",
       "      <td>367</td>\n",
       "      <td>367</td>\n",
       "      <td>367</td>\n",
       "      <td>367</td>\n",
       "      <td>367</td>\n",
       "      <td>367</td>\n",
       "      <td>367</td>\n",
       "    </tr>\n",
       "    <tr>\n",
       "      <th>1</th>\n",
       "      <td>616</td>\n",
       "      <td>616</td>\n",
       "      <td>616</td>\n",
       "      <td>616</td>\n",
       "      <td>616</td>\n",
       "      <td>616</td>\n",
       "      <td>616</td>\n",
       "      <td>616</td>\n",
       "      <td>616</td>\n",
       "      <td>616</td>\n",
       "      <td>616</td>\n",
       "    </tr>\n",
       "  </tbody>\n",
       "</table>\n",
       "</div>"
      ],
      "text/plain": [
       "       twitter_id  political  political_train_test  source  list  list_len  \\\n",
       "class                                                                        \n",
       "0             367        367                   367     367   367       367   \n",
       "1             616        616                   616     616   616       616   \n",
       "\n",
       "       train_test  socialvec  socialvec_len  preds  confidence  \n",
       "class                                                           \n",
       "0             367        367            367    367         367  \n",
       "1             616        616            616    616         616  "
      ]
     },
     "execution_count": 189,
     "metadata": {},
     "output_type": "execute_result"
    }
   ],
   "source": [
    "test_df[test_df['confidence']>0.9].groupby('class').count()"
   ]
  },
  {
   "cell_type": "code",
   "execution_count": 191,
   "metadata": {
    "ExecuteTime": {
     "end_time": "2023-08-16T16:34:38.798430Z",
     "start_time": "2023-08-16T16:34:38.785564Z"
    }
   },
   "outputs": [
    {
     "data": {
      "text/plain": [
       "0.8496110630942092"
      ]
     },
     "execution_count": 191,
     "metadata": {},
     "output_type": "execute_result"
    }
   ],
   "source": [
    "test_df[test_df['confidence']>0.9].shape[0] / test_df.shape[0]"
   ]
  },
  {
   "cell_type": "markdown",
   "metadata": {},
   "source": [
    "## High confidence results"
   ]
  },
  {
   "cell_type": "code",
   "execution_count": 192,
   "metadata": {
    "ExecuteTime": {
     "end_time": "2023-08-16T16:35:23.310377Z",
     "start_time": "2023-08-16T16:35:23.298994Z"
    }
   },
   "outputs": [
    {
     "data": {
      "text/plain": [
       "0.92064214"
      ]
     },
     "execution_count": 192,
     "metadata": {},
     "output_type": "execute_result"
    }
   ],
   "source": [
    "test_df['confidence'].mean()"
   ]
  },
  {
   "cell_type": "code",
   "execution_count": 193,
   "metadata": {
    "ExecuteTime": {
     "end_time": "2023-08-16T16:35:34.302795Z",
     "start_time": "2023-08-16T16:35:34.292621Z"
    }
   },
   "outputs": [],
   "source": [
    "test_df_high_confidence = test_df[test_df['confidence']>0.9].copy()"
   ]
  },
  {
   "cell_type": "code",
   "execution_count": 194,
   "metadata": {
    "ExecuteTime": {
     "end_time": "2023-08-16T16:35:35.171127Z",
     "start_time": "2023-08-16T16:35:35.149166Z"
    }
   },
   "outputs": [
    {
     "name": "stdout",
     "output_type": "stream",
     "text": [
      "              precision    recall  f1-score   support\n",
      "\n",
      "           0       0.97      0.98      0.98       367\n",
      "           1       0.99      0.98      0.99       616\n",
      "\n",
      "    accuracy                           0.98       983\n",
      "   macro avg       0.98      0.98      0.98       983\n",
      "weighted avg       0.98      0.98      0.98       983\n",
      "\n"
     ]
    }
   ],
   "source": [
    "from sklearn.metrics import classification_report\n",
    "print(classification_report(test_df_high_confidence['class'], test_df_high_confidence['preds']))"
   ]
  },
  {
   "cell_type": "code",
   "execution_count": 195,
   "metadata": {
    "ExecuteTime": {
     "end_time": "2023-08-16T16:36:15.601930Z",
     "start_time": "2023-08-16T16:36:15.486511Z"
    }
   },
   "outputs": [
    {
     "data": {
      "image/png": "[encoded data removed]",
      "text/plain": [
       "<Figure size 432x288 with 1 Axes>"
      ]
     },
     "metadata": {
      "needs_background": "light"
     },
     "output_type": "display_data"
    }
   ],
   "source": [
    "sns.heatmap(confusion_matrix(test_df_high_confidence['class'], test_df_high_confidence['preds']),square=True, annot=True, cmap='Blues', fmt='d', cbar=False);"
   ]
  },
  {
   "cell_type": "markdown",
   "metadata": {},
   "source": [
    "## Save Model"
   ]
  },
  {
   "cell_type": "code",
   "execution_count": 196,
   "metadata": {
    "ExecuteTime": {
     "end_time": "2023-08-16T16:36:19.941684Z",
     "start_time": "2023-08-16T16:36:19.931568Z"
    }
   },
   "outputs": [
    {
     "data": {
      "text/plain": [
       "keras.engine.sequential.Sequential"
      ]
     },
     "execution_count": 196,
     "metadata": {},
     "output_type": "execute_result"
    }
   ],
   "source": [
    "type(model)"
   ]
  },
  {
   "cell_type": "code",
   "execution_count": 197,
   "metadata": {
    "ExecuteTime": {
     "end_time": "2023-08-16T16:36:37.618680Z",
     "start_time": "2023-08-16T16:36:37.606001Z"
    }
   },
   "outputs": [],
   "source": [
    "import pickle\n",
    "from datetime import datetime\n",
    "# @dataclass\n",
    "# class ClassificationModel:\n",
    "#     attribute: str = \"Gender\"\n",
    "#     SocialVec_version: str= \"2020\"\n",
    "#     model: keras.Sequential = model\n",
    "#     labels: LabelEncoder = le\n",
    "#     relevant_accounts: list = field(default_factory=lambda: relevant_accounts)\n",
    "        \n",
    "version = datetime.now().strftime('%y%m%d')\n",
    "    \n",
    "model_data = {\n",
    "    'model_type': 'Classification',\n",
    "    'attribute': 'Political',\n",
    "    'SocialVec_version': '2020',\n",
    "    'version': version,\n",
    "    'model': model,\n",
    "    'labels': le,\n",
    "    'relevant_accounts': relevant_accounts,\n",
    "    'description': 'Political classifier with PMI filtering using SocialVec2020'\n",
    "}"
   ]
  },
  {
   "cell_type": "code",
   "execution_count": 200,
   "metadata": {
    "ExecuteTime": {
     "end_time": "2023-08-16T16:37:41.562694Z",
     "start_time": "2023-08-16T16:37:41.460142Z"
    }
   },
   "outputs": [],
   "source": [
    "\n",
    "model_file_path = f\"models/{model_data['attribute']}_{model_data['SocialVec_version']}_{datetime.now().strftime('%y%m%d')}.pkl\"\n",
    "\n",
    "with open(model_file_path, 'wb') as file:\n",
    "    # Save the object using pickle.dump()\n",
    "    pickle.dump(model_data, file)"
   ]
  },
  {
   "cell_type": "markdown",
   "metadata": {},
   "source": [
    "## Save the wrong predictions for debug"
   ]
  },
  {
   "cell_type": "code",
   "execution_count": null,
   "metadata": {
    "ExecuteTime": {
     "end_time": "2023-06-03T07:15:26.652365Z",
     "start_time": "2023-06-03T07:15:19.757266Z"
    }
   },
   "outputs": [],
   "source": [
    "test_df_debug = test_df[['twitter_id', 'list', conf[\"field_to_classify\"], 'source', 'train_test',\n",
    "       'socialvec_len', 'class', 'preds', 'confidence']].copy()\n",
    "\n",
    "test_df_debug.to_csv(f\"{conf['field_to_classify']}_test_df_debug.csv.gz\", compression='gzip')"
   ]
  },
  {
   "cell_type": "code",
   "execution_count": null,
   "metadata": {
    "ExecuteTime": {
     "end_time": "2023-06-03T09:52:13.448802Z",
     "start_time": "2023-06-03T09:52:13.437737Z"
    }
   },
   "outputs": [],
   "source": [
    "test_df['confidence'].mean()"
   ]
  },
  {
   "cell_type": "code",
   "execution_count": null,
   "metadata": {},
   "outputs": [],
   "source": []
  }
 ],
 "metadata": {
  "kernelspec": {
   "display_name": "Python 3 (ipykernel)",
   "language": "python",
   "name": "python3"
  },
  "language_info": {
   "codemirror_mode": {
    "name": "ipython",
    "version": 3
   },
   "file_extension": ".py",
   "mimetype": "text/x-python",
   "name": "python",
   "nbconvert_exporter": "python",
   "pygments_lexer": "ipython3",
   "version": "3.8.13"
  },
  "toc": {
   "base_numbering": 1,
   "nav_menu": {},
   "number_sections": true,
   "sideBar": true,
   "skip_h1_title": false,
   "title_cell": "Table of Contents",
   "title_sidebar": "Contents",
   "toc_cell": false,
   "toc_position": {},
   "toc_section_display": true,
   "toc_window_display": false
  },
  "varInspector": {
   "cols": {
    "lenName": 16,
    "lenType": 16,
    "lenVar": 40
   },
   "kernels_config": {
    "python": {
     "delete_cmd_postfix": "",
     "delete_cmd_prefix": "del ",
     "library": "var_list.py",
     "varRefreshCmd": "print(var_dic_list())"
    },
    "r": {
     "delete_cmd_postfix": ") ",
     "delete_cmd_prefix": "rm(",
     "library": "var_list.r",
     "varRefreshCmd": "cat(var_dic_list()) "
    }
   },
   "types_to_exclude": [
    "module",
    "function",
    "builtin_function_or_method",
    "instance",
    "_Feature"
   ],
   "window_display": false
  }
 },
 "nbformat": 4,
 "nbformat_minor": 1
}
