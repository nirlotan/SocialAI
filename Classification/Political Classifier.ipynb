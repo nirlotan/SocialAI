{
 "cells": [
  {
   "cell_type": "code",
   "execution_count": null,
   "id": "f2ddcc00",
   "metadata": {
    "ExecuteTime": {
     "end_time": "2022-10-10T12:53:39.774383Z",
     "start_time": "2022-10-10T12:53:39.770164Z"
    }
   },
   "outputs": [],
   "source": [
    "#%pip uninstall -y mla_lab\n",
    "#%pip install -U ../../mla_lab-0.1.9999-py3-none-any.whl"
   ]
  },
  {
   "cell_type": "code",
   "execution_count": 49,
   "id": "451ab7cd",
   "metadata": {
    "ExecuteTime": {
     "end_time": "2022-10-22T18:23:59.975553Z",
     "start_time": "2022-10-22T18:23:59.967285Z"
    }
   },
   "outputs": [],
   "source": [
    "import pandas as pd\n",
    "from tqdm import tqdm\n",
    "import os\n",
    "import swifter\n",
    "import ast\n",
    "import re\n",
    "import numpy as np\n",
    "\n",
    "tqdm.pandas()\n",
    "\n",
    "import sklearn.metrics as skm\n",
    "import matplotlib.pyplot as plt\n",
    "from socialvec.socialvec import SocialVec\n",
    "from sklearn.preprocessing import LabelEncoder\n",
    "from sklearn.model_selection import train_test_split\n",
    "\n",
    "import tensorflow as tf"
   ]
  },
  {
   "cell_type": "markdown",
   "id": "67bb1460",
   "metadata": {},
   "source": [
    "## Configs"
   ]
  },
  {
   "cell_type": "code",
   "execution_count": 50,
   "id": "60fb6ccc",
   "metadata": {
    "ExecuteTime": {
     "end_time": "2022-10-22T18:24:00.888410Z",
     "start_time": "2022-10-22T18:24:00.883272Z"
    }
   },
   "outputs": [],
   "source": [
    "data_path = \"../../Twitter/Data/Volkova/\"\n",
    "\n",
    "data_file = \"Volkova_attribues_test_train_split.csv\"\n",
    "\n",
    "train_test_split_by = 'file'\n",
    "\n",
    "data_file = \"volkova_SocialVec_political_augmented_2020.csv\"\n",
    "#data_file = \"volkova_SocialVec_political_augmented.csv\""
   ]
  },
  {
   "cell_type": "markdown",
   "id": "fbe589c7",
   "metadata": {},
   "source": [
    "## read and manipulate file"
   ]
  },
  {
   "cell_type": "code",
   "execution_count": 51,
   "id": "03a3271c",
   "metadata": {
    "ExecuteTime": {
     "end_time": "2022-10-22T18:24:03.294049Z",
     "start_time": "2022-10-22T18:24:02.254003Z"
    }
   },
   "outputs": [
    {
     "data": {
      "text/plain": [
       "(8103, 6)"
      ]
     },
     "execution_count": 51,
     "metadata": {},
     "output_type": "execute_result"
    }
   ],
   "source": [
    "df = pd.read_csv(os.path.join(data_path,data_file),index_col=0)\n",
    "df.reset_index(inplace=True)\n",
    "df.shape"
   ]
  },
  {
   "cell_type": "code",
   "execution_count": 52,
   "id": "fea8e45b",
   "metadata": {
    "ExecuteTime": {
     "end_time": "2022-10-22T18:24:04.553890Z",
     "start_time": "2022-10-22T18:24:04.542550Z"
    }
   },
   "outputs": [],
   "source": [
    "if data_file == \"Volkova_attribues_test_train_split.csv\":\n",
    "    df = df[['user_id','popular_list','political','political_train_test']]\n",
    "    df.rename(columns={\"popular_list\":\"list\"},inplace=True)\n",
    "    df['source']='volkova'\n",
    "    requested_source = 'volkova'\n",
    "else:\n",
    "    requested_source = 'aug'\n",
    "    df = df[df['source']=='aug']"
   ]
  },
  {
   "cell_type": "code",
   "execution_count": 53,
   "id": "ed70bf07",
   "metadata": {
    "ExecuteTime": {
     "end_time": "2022-10-22T18:24:05.633400Z",
     "start_time": "2022-10-22T18:24:05.624121Z"
    }
   },
   "outputs": [
    {
     "data": {
      "text/plain": [
       "Republican    3470\n",
       "Democrat      2843\n",
       "Name: political, dtype: int64"
      ]
     },
     "execution_count": 53,
     "metadata": {},
     "output_type": "execute_result"
    }
   ],
   "source": [
    "df.political.value_counts()"
   ]
  },
  {
   "cell_type": "code",
   "execution_count": 54,
   "id": "af065c25",
   "metadata": {
    "ExecuteTime": {
     "end_time": "2022-10-22T18:24:50.002976Z",
     "start_time": "2022-10-22T18:24:06.853127Z"
    }
   },
   "outputs": [
    {
     "data": {
      "application/vnd.jupyter.widget-view+json": {
       "model_id": "1a6b1f4c24aa4194b366a8a6611d4a68",
       "version_major": 2,
       "version_minor": 0
      },
      "text/plain": [
       "Pandas Apply:   0%|          | 0/6313 [00:00<?, ?it/s]"
      ]
     },
     "metadata": {},
     "output_type": "display_data"
    }
   ],
   "source": [
    "df.list = df.list.swifter.apply(lambda x: list(ast.literal_eval(x.strip())))"
   ]
  },
  {
   "cell_type": "code",
   "execution_count": 56,
   "id": "f333ab90",
   "metadata": {
    "ExecuteTime": {
     "end_time": "2022-10-22T18:25:41.119279Z",
     "start_time": "2022-10-22T18:24:59.919525Z"
    }
   },
   "outputs": [
    {
     "name": "stdout",
     "output_type": "stream",
     "text": [
      "\u001b[K✅ \u001b[0m Initialize Model5h\u001b[K\n",
      "\u001b[K✅ \u001b[0m Load Metadata[?25h\u001b[K\n"
     ]
    },
    {
     "data": {
      "application/vnd.jupyter.widget-view+json": {
       "model_id": "8708d8e448a54a58beaab420c542ff1f",
       "version_major": 2,
       "version_minor": 0
      },
      "text/plain": [
       "Pandas Apply:   0%|          | 0/6313 [00:00<?, ?it/s]"
      ]
     },
     "metadata": {},
     "output_type": "display_data"
    },
    {
     "data": {
      "application/vnd.jupyter.widget-view+json": {
       "model_id": "deaef303f5d140b1b373582e9d6ef892",
       "version_major": 2,
       "version_minor": 0
      },
      "text/plain": [
       "Pandas Apply:   0%|          | 0/6313 [00:00<?, ?it/s]"
      ]
     },
     "metadata": {},
     "output_type": "display_data"
    }
   ],
   "source": [
    "#sv = SocialVec(\"SocialVec2020_2022.pkl.gz\")\n",
    "sv = SocialVec()\n",
    "df['socialvec'] = df['list'].progress_apply(lambda x: sv.get_average_embeddings(x)[0])\n",
    "df['socialvec_len'] = df['list'].progress_apply(lambda x: sv.get_average_embeddings(x)[1])"
   ]
  },
  {
   "cell_type": "markdown",
   "id": "c60b2f1c",
   "metadata": {
    "ExecuteTime": {
     "end_time": "2022-08-13T21:09:36.614219Z",
     "start_time": "2022-08-13T21:09:36.590491Z"
    }
   },
   "source": [
    "## read targets from Volkova for classification"
   ]
  },
  {
   "cell_type": "code",
   "execution_count": 57,
   "id": "69c5b785",
   "metadata": {
    "ExecuteTime": {
     "end_time": "2022-10-22T18:25:43.900407Z",
     "start_time": "2022-10-22T18:25:43.895797Z"
    }
   },
   "outputs": [],
   "source": [
    "target_name = 'political'\n",
    "target = target_name + \"_enum\""
   ]
  },
  {
   "cell_type": "code",
   "execution_count": 58,
   "id": "301855be",
   "metadata": {
    "ExecuteTime": {
     "end_time": "2022-10-22T18:25:44.937599Z",
     "start_time": "2022-10-22T18:25:44.928647Z"
    }
   },
   "outputs": [],
   "source": [
    "df = df[df[target_name].isin(['Democrat','Republican'])]"
   ]
  },
  {
   "cell_type": "code",
   "execution_count": 59,
   "id": "84cd51b2",
   "metadata": {
    "ExecuteTime": {
     "end_time": "2022-10-22T18:25:46.141969Z",
     "start_time": "2022-10-22T18:25:46.132922Z"
    }
   },
   "outputs": [],
   "source": [
    "le = LabelEncoder()\n",
    "df[target] = le.fit_transform(df[target_name])"
   ]
  },
  {
   "cell_type": "code",
   "execution_count": 60,
   "id": "69d7fbc3",
   "metadata": {
    "ExecuteTime": {
     "end_time": "2022-10-22T18:25:47.296954Z",
     "start_time": "2022-10-22T18:25:47.286299Z"
    }
   },
   "outputs": [
    {
     "data": {
      "text/plain": [
       "(6313, 9)"
      ]
     },
     "execution_count": 60,
     "metadata": {},
     "output_type": "execute_result"
    }
   ],
   "source": [
    "df = df[~df[target_name].isna()]\n",
    "df.shape"
   ]
  },
  {
   "cell_type": "code",
   "execution_count": 61,
   "id": "7407a746",
   "metadata": {
    "ExecuteTime": {
     "end_time": "2022-10-22T18:25:49.055474Z",
     "start_time": "2022-10-22T18:25:49.051550Z"
    }
   },
   "outputs": [],
   "source": [
    "#df_test = df[df['source']=='volkova'].copy()#.sample(frac=0.1)"
   ]
  },
  {
   "cell_type": "code",
   "execution_count": 62,
   "id": "1b0d1c41",
   "metadata": {
    "ExecuteTime": {
     "end_time": "2022-10-22T18:25:50.042915Z",
     "start_time": "2022-10-22T18:25:49.878984Z"
    }
   },
   "outputs": [
    {
     "name": "stdout",
     "output_type": "stream",
     "text": [
      "(6313, 9)\n",
      "(6281, 9)\n"
     ]
    }
   ],
   "source": [
    "print(df.shape)\n",
    "sub_df = df[df['source']==requested_source]\n",
    "sub_df = sub_df[sub_df['socialvec_len']>10]\n",
    "print(sub_df.shape)\n",
    "\n",
    "X = sub_df['socialvec']\n",
    "y = sub_df[target]"
   ]
  },
  {
   "cell_type": "markdown",
   "id": "bdb0b97f",
   "metadata": {
    "ExecuteTime": {
     "end_time": "2022-10-10T12:50:23.291157Z",
     "start_time": "2022-10-10T12:50:23.286689Z"
    },
    "heading_collapsed": true
   },
   "source": [
    "## Check by similarity to BarackObama"
   ]
  },
  {
   "cell_type": "code",
   "execution_count": 63,
   "id": "f9ce2710",
   "metadata": {
    "ExecuteTime": {
     "end_time": "2022-10-22T18:25:55.060991Z",
     "start_time": "2022-10-22T18:25:55.050904Z"
    },
    "hidden": true
   },
   "outputs": [],
   "source": [
    "if train_test_split_by == 'file':\n",
    "    df_test = df[df['political_train_test']=='test'].copy()\n",
    "else:\n",
    "    X_train, X_test, y_train, y_test = train_test_split(X,\n",
    "                                                y,\n",
    "                                                test_size=0.2,\n",
    "                                                stratify=y,\n",
    "                                                random_state=7)\n",
    "    df_test = pd.concat([pd.DataFrame(X_test),\n",
    "                         pd.DataFrame(y_test)],axis=1)"
   ]
  },
  {
   "cell_type": "code",
   "execution_count": 64,
   "id": "2e82b3bc",
   "metadata": {
    "ExecuteTime": {
     "end_time": "2022-10-22T18:25:55.977381Z",
     "start_time": "2022-10-22T18:25:55.944173Z"
    },
    "hidden": true
   },
   "outputs": [
    {
     "ename": "NameError",
     "evalue": "name 'political_affiliation' is not defined",
     "output_type": "error",
     "traceback": [
      "\u001b[0;31m---------------------------------------------------------------------------\u001b[0m",
      "\u001b[0;31mNameError\u001b[0m                                 Traceback (most recent call last)",
      "Input \u001b[0;32mIn [64]\u001b[0m, in \u001b[0;36m<cell line: 8>\u001b[0;34m()\u001b[0m\n\u001b[1;32m      5\u001b[0m     \u001b[38;5;28;01melse\u001b[39;00m:\n\u001b[1;32m      6\u001b[0m         \u001b[38;5;28;01mreturn\u001b[39;00m \u001b[38;5;241m0\u001b[39m\n\u001b[0;32m----> 8\u001b[0m df_test[\u001b[38;5;124m'\u001b[39m\u001b[38;5;124mpred\u001b[39m\u001b[38;5;124m'\u001b[39m] \u001b[38;5;241m=\u001b[39m df_test[\u001b[38;5;124m'\u001b[39m\u001b[38;5;124msocialvec\u001b[39m\u001b[38;5;124m'\u001b[39m]\u001b[38;5;241m.\u001b[39mprogress_apply(\u001b[43mpolitical_affiliation\u001b[49m)\n\u001b[1;32m     10\u001b[0m y_true \u001b[38;5;241m=\u001b[39m \u001b[38;5;28mlist\u001b[39m(df_test[\u001b[38;5;124m'\u001b[39m\u001b[38;5;124mpolitical_enum\u001b[39m\u001b[38;5;124m'\u001b[39m])\n\u001b[1;32m     11\u001b[0m y_score \u001b[38;5;241m=\u001b[39m \u001b[38;5;28mlist\u001b[39m(df_test[\u001b[38;5;124m'\u001b[39m\u001b[38;5;124mpred\u001b[39m\u001b[38;5;124m'\u001b[39m])\n",
      "\u001b[0;31mNameError\u001b[0m: name 'political_affiliation' is not defined"
     ]
    }
   ],
   "source": [
    "def paolitical_affiliation(social_vector):\n",
    "    if sv.get_similarity(social_vector, 'realDonaldTrump') > sv.get_similarity(\n",
    "            social_vector, 'barackobama'):\n",
    "        return 1\n",
    "    else:\n",
    "        return 0\n",
    "\n",
    "df_test['pred'] = df_test['socialvec'].progress_apply(political_affiliation)\n",
    "\n",
    "y_true = list(df_test['political_enum'])\n",
    "y_score = list(df_test['pred'])\n",
    "\n",
    "print(f\"ROC: {skm.roc_auc_score(y_true, y_score)}\")\n",
    "print(f\"f1_score: {skm.f1_score(y_true, y_score)}\")\n",
    "print(f\"recall: {skm.recall_score(y_true, y_score)}\")\n",
    "print(f\"precision: {skm.precision_score(y_true, y_score)}\")\n",
    "\n",
    "\n",
    "skm.ConfusionMatrixDisplay.from_predictions(y_true, y_score)\n",
    "plt.show()"
   ]
  },
  {
   "cell_type": "code",
   "execution_count": null,
   "id": "36aa1db2",
   "metadata": {
    "ExecuteTime": {
     "end_time": "2022-10-05T19:23:29.629091Z",
     "start_time": "2022-10-05T19:23:24.489Z"
    },
    "hidden": true
   },
   "outputs": [],
   "source": [
    "# Democrat - 0\n",
    "# Republican - 1"
   ]
  },
  {
   "cell_type": "markdown",
   "id": "cfb7120a",
   "metadata": {},
   "source": [
    "## Train test split"
   ]
  },
  {
   "cell_type": "code",
   "execution_count": 65,
   "id": "4226814c",
   "metadata": {
    "ExecuteTime": {
     "end_time": "2022-10-22T18:26:09.741830Z",
     "start_time": "2022-10-22T18:26:09.723806Z"
    }
   },
   "outputs": [],
   "source": [
    "X_train, X_test, y_train, y_test = train_test_split(X,\n",
    "                                                y,\n",
    "                                                test_size=0.2,\n",
    "                                                stratify=y,\n",
    "                                                random_state=7)"
   ]
  },
  {
   "cell_type": "code",
   "execution_count": 66,
   "id": "645369d6",
   "metadata": {
    "ExecuteTime": {
     "end_time": "2022-10-22T18:26:10.576383Z",
     "start_time": "2022-10-22T18:26:10.570044Z"
    }
   },
   "outputs": [
    {
     "data": {
      "text/plain": [
       "(5024,)"
      ]
     },
     "execution_count": 66,
     "metadata": {},
     "output_type": "execute_result"
    }
   ],
   "source": [
    "X_train.shape"
   ]
  },
  {
   "cell_type": "markdown",
   "id": "b2932a84",
   "metadata": {},
   "source": [
    "### Train/Test split as indicated in the file"
   ]
  },
  {
   "cell_type": "code",
   "execution_count": 67,
   "id": "c7429bb8",
   "metadata": {
    "ExecuteTime": {
     "end_time": "2022-10-22T18:26:12.415100Z",
     "start_time": "2022-10-22T18:26:12.397432Z"
    }
   },
   "outputs": [
    {
     "name": "stdout",
     "output_type": "stream",
     "text": [
      "train/test split by file\n"
     ]
    }
   ],
   "source": [
    "if train_test_split_by == 'file':\n",
    "    print('train/test split by file')\n",
    "    X_train, X_test, y_train, y_test = df[\n",
    "        df['political_train_test'] == \"train\"]['socialvec'].values, df[\n",
    "            df['political_train_test'] == \"test\"]['socialvec'].values, df[\n",
    "                df['political_train_test'] ==\n",
    "                \"train\"]['political_enum'].values, df[\n",
    "                    df['political_train_test'] == \"test\"]['political_enum'].values"
   ]
  },
  {
   "cell_type": "markdown",
   "id": "6b55aa75",
   "metadata": {
    "ExecuteTime": {
     "end_time": "2022-10-10T13:05:27.935489Z",
     "start_time": "2022-10-10T13:05:27.931031Z"
    }
   },
   "source": [
    "### convert to tensors"
   ]
  },
  {
   "cell_type": "code",
   "execution_count": 68,
   "id": "a538657f",
   "metadata": {
    "ExecuteTime": {
     "end_time": "2022-10-22T18:26:19.889443Z",
     "start_time": "2022-10-22T18:26:19.844814Z"
    }
   },
   "outputs": [],
   "source": [
    "X_train_ = []\n",
    "X_test_ = []\n",
    "\n",
    "for line in X_train:\n",
    "    X_train_.append(line.tolist())\n",
    "\n",
    "for line in X_test:\n",
    "    X_test_.append(line.tolist())\n",
    "\n",
    "    X_train_ = tf.stack(X_train_)\n",
    "X_test_ = tf.stack(X_test_)"
   ]
  },
  {
   "cell_type": "markdown",
   "id": "7808dd9e",
   "metadata": {},
   "source": [
    "# Model Train Test Keras"
   ]
  },
  {
   "cell_type": "code",
   "execution_count": 69,
   "id": "742589f9",
   "metadata": {
    "ExecuteTime": {
     "end_time": "2022-10-22T18:26:22.841288Z",
     "start_time": "2022-10-22T18:26:22.836794Z"
    }
   },
   "outputs": [],
   "source": [
    "#tf.keras.backend.clear_session()"
   ]
  },
  {
   "cell_type": "markdown",
   "id": "8d144af5",
   "metadata": {
    "ExecuteTime": {
     "end_time": "2022-08-14T17:46:40.510194Z",
     "start_time": "2022-08-14T17:46:40.505874Z"
    },
    "heading_collapsed": true
   },
   "source": [
    "# Model train/test Factory\n"
   ]
  },
  {
   "cell_type": "code",
   "execution_count": null,
   "id": "8ba50606",
   "metadata": {
    "ExecuteTime": {
     "end_time": "2022-10-10T13:22:40.480745Z",
     "start_time": "2022-10-10T13:22:40.335239Z"
    },
    "hidden": true
   },
   "outputs": [],
   "source": [
    "from hyperopt.pyll.base import scope\n",
    "from hyperopt import hp\n",
    "\n",
    "from mlab.utils.modeling.house_model.house_model_config import HouseModelConfig\n",
    "from mlab.utils.modeling.house_model.mla_neural_net_classifier import MlaNeuralNetClassifier, NeuralNetModelUtils"
   ]
  },
  {
   "cell_type": "code",
   "execution_count": null,
   "id": "0bc909d0",
   "metadata": {
    "ExecuteTime": {
     "end_time": "2022-10-05T19:23:29.634808Z",
     "start_time": "2022-10-05T19:23:24.504Z"
    },
    "hidden": true
   },
   "outputs": [],
   "source": [
    "# from neuralnet import NeuralNetClassifier\n",
    "# from model_utilities import ModelUtils\n",
    "# from hyperopt.pyll.base import scope"
   ]
  },
  {
   "cell_type": "code",
   "execution_count": null,
   "id": "7c41f2c9",
   "metadata": {
    "ExecuteTime": {
     "end_time": "2022-10-05T20:15:01.400097Z",
     "start_time": "2022-10-05T20:15:01.383220Z"
    },
    "hidden": true
   },
   "outputs": [],
   "source": [
    "space = {'rate': hp.uniform('rate', 0.01, 0.5),\n",
    "         'batch_size': scope.int(hp.quniform('batch_size', 25, 200, 25)),\n",
    "         'epochs' : scope.int(hp.quniform('epochs', 20, 100, 10)),\n",
    "         'activation': hp.choice('activation', [\"relu\",\"sigmoid\"]),\n",
    "         #\"activation\" : \"sigmoid\",\n",
    "         'num_of_hidden_layers': scope.int(hp.quniform('num_of_hidden_layers', 0, 2, 1)),\n",
    "#          'hidden_layer_dim_0' : scope.int(hp.quniform('hidden_layer_dim_0', 1, 100, 5)),\n",
    "#          'hidden_layer_dim_1' : scope.int(hp.quniform('hidden_layer_dim_1', 1, 70, 5)),\n",
    "#          'hidden_layer_dim_2' : scope.int(hp.quniform('hidden_layer_dim_2', 1, 20, 5)), \n",
    "         'validation_split':0.2,\n",
    "         #'num_of_hidden_layers': 0,\n",
    "         'metrics' : ['accuracy', tf.keras.metrics.AUC()],\n",
    "         'loss' : 'binary_crossentropy',\n",
    "         'optimizer' : 'adam',\n",
    "         \"normalize\" : False\n",
    "         }"
   ]
  },
  {
   "cell_type": "code",
   "execution_count": null,
   "id": "5103f763",
   "metadata": {
    "ExecuteTime": {
     "end_time": "2022-10-05T20:15:02.174520Z",
     "start_time": "2022-10-05T20:15:02.170292Z"
    },
    "hidden": true
   },
   "outputs": [],
   "source": [
    "tt_model = MlaNeuralNetClassifier(\n",
    "    HouseModelConfig(hyper_params_dict=space, hyper_opt_iterations=50))"
   ]
  },
  {
   "cell_type": "code",
   "execution_count": null,
   "id": "2cba8a97",
   "metadata": {
    "ExecuteTime": {
     "end_time": "2022-10-05T20:15:02.734382Z",
     "start_time": "2022-10-05T20:15:02.730937Z"
    },
    "hidden": true
   },
   "outputs": [],
   "source": [
    "\n",
    "#pd.DataFrame(X_train,columns=[\"n\"]).explode(\"n\").unstack()"
   ]
  },
  {
   "cell_type": "code",
   "execution_count": null,
   "id": "e4e96aef",
   "metadata": {
    "ExecuteTime": {
     "end_time": "2022-10-05T20:25:24.552438Z",
     "start_time": "2022-10-05T20:15:03.779657Z"
    },
    "hidden": true
   },
   "outputs": [],
   "source": [
    "tt_model.train(pd.DataFrame(pd.DataFrame(X_train)[0].tolist()),y_train)"
   ]
  },
  {
   "cell_type": "code",
   "execution_count": null,
   "id": "ee7181f0",
   "metadata": {
    "ExecuteTime": {
     "end_time": "2022-10-05T19:23:29.637859Z",
     "start_time": "2022-10-05T19:23:24.510Z"
    },
    "hidden": true
   },
   "outputs": [],
   "source": [
    "tt_model._model.summary()"
   ]
  },
  {
   "cell_type": "code",
   "execution_count": null,
   "id": "e4ec2088",
   "metadata": {
    "ExecuteTime": {
     "end_time": "2022-10-05T20:14:05.882282Z",
     "start_time": "2022-10-05T20:14:05.577577Z"
    },
    "hidden": true
   },
   "outputs": [],
   "source": [
    "tt_model._model.evaluate(pd.DataFrame(pd.DataFrame(X_test)[0].tolist()), y_test)#le.fit_transform(y_test))"
   ]
  },
  {
   "cell_type": "code",
   "execution_count": null,
   "id": "a2985a3e",
   "metadata": {
    "ExecuteTime": {
     "end_time": "2022-10-10T15:35:36.136436Z",
     "start_time": "2022-10-10T15:35:36.067194Z"
    },
    "hidden": true
   },
   "outputs": [],
   "source": [
    "from sklearn import svm"
   ]
  },
  {
   "cell_type": "code",
   "execution_count": null,
   "id": "364b77d5",
   "metadata": {
    "ExecuteTime": {
     "end_time": "2022-10-10T15:48:21.992366Z",
     "start_time": "2022-10-10T15:48:21.982478Z"
    },
    "hidden": true
   },
   "outputs": [],
   "source": [
    "seed = 8\n",
    "X_train, X_test, y_train, y_test = train_test_split(X,\n",
    "                                                    y,\n",
    "                                                    test_size=0.2,\n",
    "                                                    stratify=y,\n",
    "                                                    random_state=seed)"
   ]
  },
  {
   "cell_type": "code",
   "execution_count": null,
   "id": "6dd32958",
   "metadata": {
    "ExecuteTime": {
     "end_time": "2022-10-10T15:50:15.089375Z",
     "start_time": "2022-10-10T15:50:15.026337Z"
    },
    "hidden": true
   },
   "outputs": [],
   "source": [
    "clf = svm.SVC(kernel=)\n",
    "clf.fit(X_train_, y_train)"
   ]
  },
  {
   "cell_type": "code",
   "execution_count": null,
   "id": "aaa7279e",
   "metadata": {
    "ExecuteTime": {
     "end_time": "2022-10-10T15:49:42.849327Z",
     "start_time": "2022-10-10T15:49:42.832112Z"
    },
    "hidden": true
   },
   "outputs": [],
   "source": [
    "clf.predict(X_test_)"
   ]
  },
  {
   "cell_type": "markdown",
   "id": "ba234578",
   "metadata": {},
   "source": [
    "# Keras"
   ]
  },
  {
   "cell_type": "code",
   "execution_count": 70,
   "id": "75aff50b",
   "metadata": {
    "ExecuteTime": {
     "end_time": "2022-10-22T18:26:27.771471Z",
     "start_time": "2022-10-22T18:26:27.766342Z"
    }
   },
   "outputs": [],
   "source": [
    "from keras.layers import Dense, BatchNormalization, Input\n",
    "from keras.models import Sequential"
   ]
  },
  {
   "cell_type": "code",
   "execution_count": 71,
   "id": "705d6a37",
   "metadata": {
    "ExecuteTime": {
     "end_time": "2022-10-22T18:26:28.648809Z",
     "start_time": "2022-10-22T18:26:28.640592Z"
    }
   },
   "outputs": [],
   "source": [
    "tf.keras.backend.clear_session()"
   ]
  },
  {
   "cell_type": "code",
   "execution_count": 72,
   "id": "08a49d8d",
   "metadata": {
    "ExecuteTime": {
     "end_time": "2022-10-22T18:26:29.844102Z",
     "start_time": "2022-10-22T18:26:29.810717Z"
    }
   },
   "outputs": [],
   "source": [
    "model = Sequential()\n",
    "model.add(Dense(100, activation = 'sigmoid'))\n",
    "model.add(Dense(1,activation = 'sigmoid'))\n",
    "model.compile(optimizer='adam',\n",
    "              loss='binary_crossentropy',\n",
    "              metrics=['accuracy',\n",
    "              tf.keras.metrics.AUC()],\n",
    "              run_eagerly=True)\n"
   ]
  },
  {
   "cell_type": "markdown",
   "id": "73c79979",
   "metadata": {
    "ExecuteTime": {
     "end_time": "2022-10-22T18:35:19.846736Z",
     "start_time": "2022-10-22T18:35:19.831134Z"
    }
   },
   "source": [
    "### model.summary()"
   ]
  },
  {
   "cell_type": "code",
   "execution_count": 73,
   "id": "249f24d2",
   "metadata": {
    "ExecuteTime": {
     "end_time": "2022-10-22T18:26:31.559562Z",
     "start_time": "2022-10-22T18:26:31.554361Z"
    }
   },
   "outputs": [],
   "source": [
    "loop_range = range(370, len(X_train_), 1000)\n",
    "#loop_range = range(len(X_train_)-1,len(X_train_))"
   ]
  },
  {
   "cell_type": "code",
   "execution_count": 81,
   "id": "93ba75ae",
   "metadata": {
    "ExecuteTime": {
     "end_time": "2022-10-22T18:35:37.956540Z",
     "start_time": "2022-10-22T18:35:37.779981Z"
    }
   },
   "outputs": [],
   "source": [
    "\n",
    "seed = 8\n",
    "X_train, X_test, y_train, y_test = train_test_split(X,\n",
    "                                            y,\n",
    "                                            test_size=0.2,\n",
    "                                            stratify=y,\n",
    "                                            random_state=seed)\n",
    "# Convert to tensors:\n",
    "X_train_, X_test_ = [], []\n",
    "\n",
    "for line in X_train:\n",
    "    X_train_.append(line.tolist())\n",
    "\n",
    "for line in X_test:\n",
    "    X_test_.append(line.tolist())\n",
    "\n",
    "X_train_, X_test_ = tf.stack(X_train_), tf.stack(X_test_)\n"
   ]
  },
  {
   "cell_type": "code",
   "execution_count": 82,
   "id": "9bd80b27",
   "metadata": {
    "ExecuteTime": {
     "end_time": "2022-10-22T18:35:38.733968Z",
     "start_time": "2022-10-22T18:35:38.727752Z"
    }
   },
   "outputs": [
    {
     "data": {
      "text/plain": [
       "range(370, 6313, 1000)"
      ]
     },
     "execution_count": 82,
     "metadata": {},
     "output_type": "execute_result"
    }
   ],
   "source": [
    "loop_range"
   ]
  },
  {
   "cell_type": "code",
   "execution_count": 89,
   "id": "6e4da780",
   "metadata": {
    "ExecuteTime": {
     "end_time": "2022-10-22T19:10:56.914281Z",
     "start_time": "2022-10-22T18:37:33.266565Z"
    }
   },
   "outputs": [
    {
     "name": "stderr",
     "output_type": "stream",
     "text": [
      "100%|██████████| 6/6 [05:34<00:00, 55.67s/it]\n",
      "100%|██████████| 6/6 [05:33<00:00, 55.63s/it]\n",
      "100%|██████████| 6/6 [05:33<00:00, 55.61s/it]\n",
      "100%|██████████| 6/6 [05:32<00:00, 55.50s/it]\n",
      "100%|██████████| 6/6 [05:33<00:00, 55.61s/it]\n",
      "100%|██████████| 6/6 [05:35<00:00, 55.90s/it]\n"
     ]
    }
   ],
   "source": [
    "df_res = pd.DataFrame()\n",
    "\n",
    "for exp in range(0,6):\n",
    "    tf.keras.backend.clear_session()\n",
    "    \n",
    "    model = Sequential()\n",
    "    model.add(Dense(100, activation = 'sigmoid'))\n",
    "    model.add(Dense(1,activation = 'sigmoid'))\n",
    "    model.compile(optimizer='adam',\n",
    "                  loss='binary_crossentropy',\n",
    "                  metrics=['accuracy',\n",
    "                  tf.keras.metrics.AUC()],\n",
    "                  run_eagerly=True)\n",
    "\n",
    "    for train_subset_size in tqdm(loop_range):\n",
    "        train_subset_size = min(train_subset_size,5024)\n",
    "\n",
    "        # Train\n",
    "        X_subset = tf.slice(X_train_, begin=[0, 0], size=[train_subset_size, 100])\n",
    "        y_subset = y_train[:train_subset_size]\n",
    "\n",
    "        model.fit(X_subset,\n",
    "                  y_subset,\n",
    "                  epochs=100,\n",
    "                  batch_size=50,\n",
    "                  validation_split=0.1,\n",
    "                  verbose=False)\n",
    "\n",
    "        preds = model.predict(X_test_).round()\n",
    "\n",
    "        _, accuracy, auc = model.evaluate(X_test_, y_test, verbose=False)\n",
    "\n",
    "        df_res = pd.concat([\n",
    "            df_res,\n",
    "            pd.DataFrame.from_dict({\n",
    "                'seed': seed,\n",
    "                'train_size': train_subset_size,\n",
    "                'roc_auc' : auc,\n",
    "                'accuracy' : accuracy,\n",
    "                'f1_score': [skm.f1_score(preds, y_test)],\n",
    "                'recall': [skm.recall_score(preds, y_test)],\n",
    "                'precision': [skm.precision_score(preds, y_test)]\n",
    "            })\n",
    "        ])"
   ]
  },
  {
   "cell_type": "code",
   "execution_count": 90,
   "id": "421a69a1",
   "metadata": {
    "ExecuteTime": {
     "end_time": "2022-10-22T19:25:56.592673Z",
     "start_time": "2022-10-22T19:25:56.585178Z"
    }
   },
   "outputs": [
    {
     "data": {
      "text/plain": [
       "Index(['seed', 'train_size', 'roc_auc', 'accuracy', 'f1_score', 'recall',\n",
       "       'precision'],\n",
       "      dtype='object')"
      ]
     },
     "execution_count": 90,
     "metadata": {},
     "output_type": "execute_result"
    }
   ],
   "source": [
    "df_res.columns"
   ]
  },
  {
   "cell_type": "code",
   "execution_count": 91,
   "id": "fbb85a64",
   "metadata": {
    "ExecuteTime": {
     "end_time": "2022-10-22T19:26:02.427275Z",
     "start_time": "2022-10-22T19:26:02.412597Z"
    }
   },
   "outputs": [],
   "source": [
    "df_res_mean = df_res.pivot_table(index='train_size',values=['roc_auc', 'accuracy', 'f1_score', 'recall',\n",
    "       'precision'], aggfunc=['mean'])"
   ]
  },
  {
   "cell_type": "code",
   "execution_count": 92,
   "id": "48cfecae",
   "metadata": {
    "ExecuteTime": {
     "end_time": "2022-10-22T19:26:04.049732Z",
     "start_time": "2022-10-22T19:26:04.044528Z"
    }
   },
   "outputs": [],
   "source": [
    "df_res_mean.columns = df_res_mean.columns.get_level_values(1)"
   ]
  },
  {
   "cell_type": "code",
   "execution_count": 93,
   "id": "d2f453bb",
   "metadata": {
    "ExecuteTime": {
     "end_time": "2022-10-22T19:26:04.914562Z",
     "start_time": "2022-10-22T19:26:04.909251Z"
    }
   },
   "outputs": [],
   "source": [
    "df_res_mean['type'] = 1"
   ]
  },
  {
   "cell_type": "code",
   "execution_count": 94,
   "id": "5210ff05",
   "metadata": {
    "ExecuteTime": {
     "end_time": "2022-10-22T19:26:10.626861Z",
     "start_time": "2022-10-22T19:26:10.608623Z"
    }
   },
   "outputs": [
    {
     "data": {
      "text/html": [
       "<div>\n",
       "<style scoped>\n",
       "    .dataframe tbody tr th:only-of-type {\n",
       "        vertical-align: middle;\n",
       "    }\n",
       "\n",
       "    .dataframe tbody tr th {\n",
       "        vertical-align: top;\n",
       "    }\n",
       "\n",
       "    .dataframe thead th {\n",
       "        text-align: right;\n",
       "    }\n",
       "</style>\n",
       "<table border=\"1\" class=\"dataframe\">\n",
       "  <thead>\n",
       "    <tr style=\"text-align: right;\">\n",
       "      <th></th>\n",
       "      <th>accuracy</th>\n",
       "      <th>f1_score</th>\n",
       "      <th>precision</th>\n",
       "      <th>recall</th>\n",
       "      <th>roc_auc</th>\n",
       "      <th>type</th>\n",
       "    </tr>\n",
       "    <tr>\n",
       "      <th>train_size</th>\n",
       "      <th></th>\n",
       "      <th></th>\n",
       "      <th></th>\n",
       "      <th></th>\n",
       "      <th></th>\n",
       "      <th></th>\n",
       "    </tr>\n",
       "  </thead>\n",
       "  <tbody>\n",
       "    <tr>\n",
       "      <th>370</th>\n",
       "      <td>0.939936</td>\n",
       "      <td>0.945636</td>\n",
       "      <td>0.953072</td>\n",
       "      <td>0.938321</td>\n",
       "      <td>0.977143</td>\n",
       "      <td>1</td>\n",
       "    </tr>\n",
       "    <tr>\n",
       "      <th>1370</th>\n",
       "      <td>0.947892</td>\n",
       "      <td>0.952370</td>\n",
       "      <td>0.950411</td>\n",
       "      <td>0.954348</td>\n",
       "      <td>0.979986</td>\n",
       "      <td>1</td>\n",
       "    </tr>\n",
       "    <tr>\n",
       "      <th>2370</th>\n",
       "      <td>0.946036</td>\n",
       "      <td>0.951089</td>\n",
       "      <td>0.956942</td>\n",
       "      <td>0.945349</td>\n",
       "      <td>0.980240</td>\n",
       "      <td>1</td>\n",
       "    </tr>\n",
       "    <tr>\n",
       "      <th>3370</th>\n",
       "      <td>0.954256</td>\n",
       "      <td>0.958071</td>\n",
       "      <td>0.953314</td>\n",
       "      <td>0.962911</td>\n",
       "      <td>0.978920</td>\n",
       "      <td>1</td>\n",
       "    </tr>\n",
       "    <tr>\n",
       "      <th>4370</th>\n",
       "      <td>0.953328</td>\n",
       "      <td>0.957200</td>\n",
       "      <td>0.952346</td>\n",
       "      <td>0.962192</td>\n",
       "      <td>0.980266</td>\n",
       "      <td>1</td>\n",
       "    </tr>\n",
       "    <tr>\n",
       "      <th>5024</th>\n",
       "      <td>0.957836</td>\n",
       "      <td>0.961455</td>\n",
       "      <td>0.959361</td>\n",
       "      <td>0.963583</td>\n",
       "      <td>0.980921</td>\n",
       "      <td>1</td>\n",
       "    </tr>\n",
       "  </tbody>\n",
       "</table>\n",
       "</div>"
      ],
      "text/plain": [
       "            accuracy  f1_score  precision    recall   roc_auc  type\n",
       "train_size                                                         \n",
       "370         0.939936  0.945636   0.953072  0.938321  0.977143     1\n",
       "1370        0.947892  0.952370   0.950411  0.954348  0.979986     1\n",
       "2370        0.946036  0.951089   0.956942  0.945349  0.980240     1\n",
       "3370        0.954256  0.958071   0.953314  0.962911  0.978920     1\n",
       "4370        0.953328  0.957200   0.952346  0.962192  0.980266     1\n",
       "5024        0.957836  0.961455   0.959361  0.963583  0.980921     1"
      ]
     },
     "execution_count": 94,
     "metadata": {},
     "output_type": "execute_result"
    }
   ],
   "source": [
    "df_res_mean"
   ]
  },
  {
   "cell_type": "code",
   "execution_count": 98,
   "id": "ceaf3989",
   "metadata": {
    "ExecuteTime": {
     "end_time": "2022-10-22T19:28:46.653933Z",
     "start_time": "2022-10-22T19:28:46.649119Z"
    }
   },
   "outputs": [],
   "source": [
    "df_res_mean_2020 = df_res_mean"
   ]
  },
  {
   "cell_type": "code",
   "execution_count": 112,
   "id": "428836ac",
   "metadata": {
    "ExecuteTime": {
     "end_time": "2022-10-22T19:55:39.521375Z",
     "start_time": "2022-10-22T19:55:39.513302Z"
    }
   },
   "outputs": [],
   "source": [
    "def tytest(type_):\n",
    "    return \"SocialVec_2020\" if type_ == 1 else \"SocialVec_2020_2022\"\n",
    "\n",
    "df_res_mean['type_'] = df_res_mean['type'].apply(tytest)"
   ]
  },
  {
   "cell_type": "code",
   "execution_count": 115,
   "id": "57c06e6a",
   "metadata": {
    "ExecuteTime": {
     "end_time": "2022-10-22T19:56:45.424477Z",
     "start_time": "2022-10-22T19:56:45.396921Z"
    }
   },
   "outputs": [
    {
     "name": "stdout",
     "output_type": "stream",
     "text": [
      "\\begin{tabular}{llrrrrrr}\n",
      "\\toprule\n",
      "{} &                type\\_ &  train\\_size &  accuracy &  f1\\_score &  precision &  recall &  roc\\_auc \\\\\n",
      "\\midrule\n",
      "0  &       SocialVec\\_2020 &         370 &     0.940 &     0.946 &      0.953 &   0.938 &    0.977 \\\\\n",
      "1  &       SocialVec\\_2020 &        1370 &     0.948 &     0.952 &      0.950 &   0.954 &    0.980 \\\\\n",
      "2  &       SocialVec\\_2020 &        2370 &     0.946 &     0.951 &      0.957 &   0.945 &    0.980 \\\\\n",
      "3  &       SocialVec\\_2020 &        3370 &     0.954 &     0.958 &      0.953 &   0.963 &    0.979 \\\\\n",
      "4  &       SocialVec\\_2020 &        4370 &     0.953 &     0.957 &      0.952 &   0.962 &    0.980 \\\\\n",
      "6  &  SocialVec\\_2020\\_2022 &         370 &     0.954 &     0.957 &      0.939 &   0.976 &    0.982 \\\\\n",
      "7  &  SocialVec\\_2020\\_2022 &        1370 &     0.955 &     0.959 &      0.957 &   0.962 &    0.981 \\\\\n",
      "8  &  SocialVec\\_2020\\_2022 &        2370 &     0.953 &     0.956 &      0.950 &   0.963 &    0.980 \\\\\n",
      "9  &  SocialVec\\_2020\\_2022 &        3370 &     0.955 &     0.958 &      0.952 &   0.965 &    0.981 \\\\\n",
      "10 &  SocialVec\\_2020\\_2022 &        4370 &     0.957 &     0.961 &      0.957 &   0.965 &    0.980 \\\\\n",
      "\\bottomrule\n",
      "\\end{tabular}\n",
      "\n"
     ]
    }
   ],
   "source": [
    "print(df_res_mean.drop(index=5)[['type_','train_size','accuracy','f1_score','precision','recall','roc_auc']].to_latex(float_format=\"{:0.3f}\".format))"
   ]
  },
  {
   "cell_type": "code",
   "execution_count": 99,
   "id": "65cb7240",
   "metadata": {
    "ExecuteTime": {
     "end_time": "2022-10-22T19:29:03.881324Z",
     "start_time": "2022-10-22T19:29:03.874708Z"
    }
   },
   "outputs": [],
   "source": [
    "df_res_mean = pd.concat([df_res_mean_2020,df_res_mean_2022])"
   ]
  },
  {
   "cell_type": "code",
   "execution_count": 102,
   "id": "6cdd9638",
   "metadata": {
    "ExecuteTime": {
     "end_time": "2022-10-22T19:30:21.510361Z",
     "start_time": "2022-10-22T19:30:21.504274Z"
    }
   },
   "outputs": [],
   "source": [
    "df_res_mean = df_res_mean.reset_index()"
   ]
  },
  {
   "cell_type": "code",
   "execution_count": 111,
   "id": "e804793c",
   "metadata": {
    "ExecuteTime": {
     "end_time": "2022-10-22T19:54:07.910836Z",
     "start_time": "2022-10-22T19:54:07.762084Z"
    }
   },
   "outputs": [
    {
     "data": {
      "image/png": "[encoded data removed]",
      "text/plain": [
       "<Figure size 864x432 with 1 Axes>"
      ]
     },
     "metadata": {
      "needs_background": "light"
     },
     "output_type": "display_data"
    }
   ],
   "source": [
    "params = ['recall','precision','f1_score']\n",
    "\n",
    "plt.figure(figsize=(12,6))\n",
    "\n",
    "for type_ in df_res_mean.type.unique():\n",
    "    type_text = \"SocialVec_2020\" if type_ == 1 else \"SocialVec_2020_2022\"\n",
    "    plt.plot('train_size', 'f1_score', data=df_res_mean.drop(index=5)[df_res_mean.drop(index=5)['type']==type_], linestyle='-', marker='o', label=type_text)\n",
    "\n",
    "plt.legend(loc=\"lower right\")\n",
    "plt.xlabel('Number of samples in the train set')\n",
    "plt.ylabel('score')\n",
    "\n",
    "plt.show()"
   ]
  },
  {
   "cell_type": "code",
   "execution_count": 33,
   "id": "09398e6f",
   "metadata": {
    "ExecuteTime": {
     "end_time": "2022-10-22T16:47:19.784243Z",
     "start_time": "2022-10-22T16:47:19.776875Z"
    }
   },
   "outputs": [
    {
     "name": "stdout",
     "output_type": "stream",
     "text": [
      "\\begin{tabular}{lrrrrr}\n",
      "\\toprule\n",
      "{} &  accuracy &  f1\\_score &  precision &  recall &  roc\\_auc \\\\\n",
      "train\\_size &           &           &            &         &          \\\\\n",
      "\\midrule\n",
      "370        &     0.954 &     0.957 &      0.939 &   0.976 &    0.982 \\\\\n",
      "1370       &     0.955 &     0.959 &      0.957 &   0.962 &    0.981 \\\\\n",
      "2370       &     0.953 &     0.956 &      0.950 &   0.963 &    0.980 \\\\\n",
      "3370       &     0.955 &     0.958 &      0.952 &   0.965 &    0.981 \\\\\n",
      "4370       &     0.957 &     0.961 &      0.957 &   0.965 &    0.980 \\\\\n",
      "\\bottomrule\n",
      "\\end{tabular}\n",
      "\n"
     ]
    }
   ],
   "source": [
    "print(df_res_mean.to_latex(float_format=\"{:0.3f}\".format))"
   ]
  },
  {
   "cell_type": "code",
   "execution_count": 49,
   "id": "aad244a4",
   "metadata": {
    "ExecuteTime": {
     "end_time": "2022-10-13T13:48:43.750956Z",
     "start_time": "2022-10-13T13:48:43.620422Z"
    }
   },
   "outputs": [
    {
     "data": {
      "image/png": "[encoded data removed]",
      "text/plain": [
       "<Figure size 864x432 with 1 Axes>"
      ]
     },
     "metadata": {
      "needs_background": "light"
     },
     "output_type": "display_data"
    }
   ],
   "source": [
    "params = ['recall','precision','f1_score']\n",
    "\n",
    "plt.figure(figsize=(12,6))\n",
    "\n",
    "for metric in params:\n",
    "    plt.plot('train_size', metric, data=df_res_mean.reset_index(), linestyle='-', marker='o', label=metric)\n",
    "\n",
    "plt.legend(loc=\"lower right\")\n",
    "plt.xlabel('Number of samples in the train set')\n",
    "plt.ylabel('score')\n",
    "\n",
    "plt.show()"
   ]
  },
  {
   "cell_type": "code",
   "execution_count": 60,
   "id": "5790ee2f",
   "metadata": {
    "ExecuteTime": {
     "end_time": "2022-10-11T06:14:16.437215Z",
     "start_time": "2022-10-11T06:14:16.428450Z"
    }
   },
   "outputs": [],
   "source": [
    "preds1 = [pred[0] for pred in preds]\n",
    "compare = pd.DataFrame.from_dict({'preds':preds1,'test':y_test.values})\n",
    "compare.preds = compare.preds.astype(int)\n"
   ]
  },
  {
   "cell_type": "code",
   "execution_count": 61,
   "id": "eec86167",
   "metadata": {
    "ExecuteTime": {
     "end_time": "2022-10-11T06:14:18.357330Z",
     "start_time": "2022-10-11T06:14:18.334038Z"
    }
   },
   "outputs": [
    {
     "data": {
      "text/html": [
       "<div>\n",
       "<style scoped>\n",
       "    .dataframe tbody tr th:only-of-type {\n",
       "        vertical-align: middle;\n",
       "    }\n",
       "\n",
       "    .dataframe tbody tr th {\n",
       "        vertical-align: top;\n",
       "    }\n",
       "\n",
       "    .dataframe thead th {\n",
       "        text-align: right;\n",
       "    }\n",
       "</style>\n",
       "<table border=\"1\" class=\"dataframe\">\n",
       "  <thead>\n",
       "    <tr style=\"text-align: right;\">\n",
       "      <th></th>\n",
       "      <th>4</th>\n",
       "      <th>9</th>\n",
       "      <th>10</th>\n",
       "      <th>15</th>\n",
       "      <th>19</th>\n",
       "      <th>22</th>\n",
       "      <th>24</th>\n",
       "      <th>27</th>\n",
       "      <th>36</th>\n",
       "      <th>43</th>\n",
       "      <th>...</th>\n",
       "      <th>301</th>\n",
       "      <th>310</th>\n",
       "      <th>311</th>\n",
       "      <th>313</th>\n",
       "      <th>317</th>\n",
       "      <th>318</th>\n",
       "      <th>324</th>\n",
       "      <th>329</th>\n",
       "      <th>331</th>\n",
       "      <th>337</th>\n",
       "    </tr>\n",
       "  </thead>\n",
       "  <tbody>\n",
       "    <tr>\n",
       "      <th>preds</th>\n",
       "      <td>0</td>\n",
       "      <td>1</td>\n",
       "      <td>1</td>\n",
       "      <td>0</td>\n",
       "      <td>0</td>\n",
       "      <td>0</td>\n",
       "      <td>1</td>\n",
       "      <td>0</td>\n",
       "      <td>0</td>\n",
       "      <td>0</td>\n",
       "      <td>...</td>\n",
       "      <td>0</td>\n",
       "      <td>0</td>\n",
       "      <td>0</td>\n",
       "      <td>0</td>\n",
       "      <td>0</td>\n",
       "      <td>0</td>\n",
       "      <td>0</td>\n",
       "      <td>0</td>\n",
       "      <td>1</td>\n",
       "      <td>0</td>\n",
       "    </tr>\n",
       "    <tr>\n",
       "      <th>test</th>\n",
       "      <td>1</td>\n",
       "      <td>0</td>\n",
       "      <td>0</td>\n",
       "      <td>1</td>\n",
       "      <td>1</td>\n",
       "      <td>1</td>\n",
       "      <td>0</td>\n",
       "      <td>1</td>\n",
       "      <td>1</td>\n",
       "      <td>1</td>\n",
       "      <td>...</td>\n",
       "      <td>1</td>\n",
       "      <td>1</td>\n",
       "      <td>1</td>\n",
       "      <td>1</td>\n",
       "      <td>1</td>\n",
       "      <td>1</td>\n",
       "      <td>1</td>\n",
       "      <td>1</td>\n",
       "      <td>0</td>\n",
       "      <td>1</td>\n",
       "    </tr>\n",
       "  </tbody>\n",
       "</table>\n",
       "<p>2 rows × 72 columns</p>\n",
       "</div>"
      ],
      "text/plain": [
       "       4    9    10   15   19   22   24   27   36   43   ...  301  310  311  \\\n",
       "preds    0    1    1    0    0    0    1    0    0    0  ...    0    0    0   \n",
       "test     1    0    0    1    1    1    0    1    1    1  ...    1    1    1   \n",
       "\n",
       "       313  317  318  324  329  331  337  \n",
       "preds    0    0    0    0    0    1    0  \n",
       "test     1    1    1    1    1    0    1  \n",
       "\n",
       "[2 rows x 72 columns]"
      ]
     },
     "execution_count": 61,
     "metadata": {},
     "output_type": "execute_result"
    }
   ],
   "source": [
    "compare[compare['preds']!=compare['test']].T"
   ]
  },
  {
   "cell_type": "code",
   "execution_count": null,
   "id": "c61f2159",
   "metadata": {
    "ExecuteTime": {
     "end_time": "2022-10-11T05:14:08.016360Z",
     "start_time": "2022-10-11T05:14:07.999964Z"
    }
   },
   "outputs": [],
   "source": [
    "model.summary()"
   ]
  },
  {
   "cell_type": "code",
   "execution_count": 55,
   "id": "771ae8b5",
   "metadata": {
    "ExecuteTime": {
     "end_time": "2022-10-13T18:38:08.538526Z",
     "start_time": "2022-10-13T18:38:08.533609Z"
    }
   },
   "outputs": [],
   "source": [
    "from keras.models import save_model"
   ]
  },
  {
   "cell_type": "code",
   "execution_count": 59,
   "id": "2eea5a6c",
   "metadata": {
    "ExecuteTime": {
     "end_time": "2022-10-13T18:41:42.710015Z",
     "start_time": "2022-10-13T18:41:42.678147Z"
    }
   },
   "outputs": [],
   "source": [
    "model.save('models/SocialVec_political_2020_2022.h5',save_format='h5')"
   ]
  },
  {
   "cell_type": "code",
   "execution_count": 60,
   "id": "662ef8f4",
   "metadata": {
    "ExecuteTime": {
     "end_time": "2022-10-13T18:41:43.952903Z",
     "start_time": "2022-10-13T18:41:43.896130Z"
    }
   },
   "outputs": [],
   "source": [
    "from keras.models import load_model\n",
    "\n",
    "reconstructed_model = load_model(\"models/SocialVec_political_2020_2022.h5\")"
   ]
  },
  {
   "cell_type": "code",
   "execution_count": 63,
   "id": "739fda0d",
   "metadata": {
    "ExecuteTime": {
     "end_time": "2022-10-13T18:42:29.828635Z",
     "start_time": "2022-10-13T18:42:29.714244Z"
    }
   },
   "outputs": [
    {
     "ename": "AttributeError",
     "evalue": "'numpy.ndarray' object has no attribute 'plot'",
     "output_type": "error",
     "traceback": [
      "\u001b[0;31m---------------------------------------------------------------------------\u001b[0m",
      "\u001b[0;31mAttributeError\u001b[0m                            Traceback (most recent call last)",
      "Input \u001b[0;32mIn [63]\u001b[0m, in \u001b[0;36m<cell line: 1>\u001b[0;34m()\u001b[0m\n\u001b[0;32m----> 1\u001b[0m \u001b[43mreconstructed_model\u001b[49m\u001b[38;5;241;43m.\u001b[39;49m\u001b[43mpredict\u001b[49m\u001b[43m(\u001b[49m\u001b[43mX_test_\u001b[49m\u001b[43m)\u001b[49m\u001b[38;5;241;43m.\u001b[39;49m\u001b[43mplot\u001b[49m()\n",
      "\u001b[0;31mAttributeError\u001b[0m: 'numpy.ndarray' object has no attribute 'plot'"
     ]
    }
   ],
   "source": [
    "reconstructed_model.predict(X_test_)"
   ]
  },
  {
   "cell_type": "markdown",
   "id": "145f91cc",
   "metadata": {},
   "source": [
    "### save test"
   ]
  },
  {
   "cell_type": "code",
   "execution_count": 67,
   "id": "8de04f52",
   "metadata": {
    "ExecuteTime": {
     "end_time": "2022-10-14T12:08:35.911695Z",
     "start_time": "2022-10-14T12:08:35.905910Z"
    }
   },
   "outputs": [],
   "source": [
    "test_df_s = pd.DataFrame(X_test)"
   ]
  },
  {
   "cell_type": "code",
   "execution_count": 68,
   "id": "8744694f",
   "metadata": {
    "ExecuteTime": {
     "end_time": "2022-10-14T12:08:52.480807Z",
     "start_time": "2022-10-14T12:08:52.474650Z"
    }
   },
   "outputs": [],
   "source": [
    "test_df_s['y'] = y_test"
   ]
  },
  {
   "cell_type": "code",
   "execution_count": 70,
   "id": "47ec6e25",
   "metadata": {
    "ExecuteTime": {
     "end_time": "2022-10-14T12:09:10.762145Z",
     "start_time": "2022-10-14T12:09:10.127639Z"
    }
   },
   "outputs": [],
   "source": [
    "test_df_s.to_csv('test_po.csv')"
   ]
  },
  {
   "cell_type": "markdown",
   "id": "91a0300a",
   "metadata": {
    "ExecuteTime": {
     "end_time": "2022-10-14T12:10:09.665548Z",
     "start_time": "2022-10-14T12:10:09.661032Z"
    }
   },
   "source": [
    "## confusion Matrix"
   ]
  },
  {
   "cell_type": "code",
   "execution_count": 72,
   "id": "0d11f1ff",
   "metadata": {
    "ExecuteTime": {
     "end_time": "2022-10-14T12:10:20.519533Z",
     "start_time": "2022-10-14T12:10:20.514580Z"
    }
   },
   "outputs": [],
   "source": [
    "import sklearn.metrics as skm"
   ]
  },
  {
   "cell_type": "code",
   "execution_count": 86,
   "id": "d37068e7",
   "metadata": {
    "ExecuteTime": {
     "end_time": "2022-10-14T12:15:34.879191Z",
     "start_time": "2022-10-14T12:15:34.851476Z"
    }
   },
   "outputs": [
    {
     "ename": "AttributeError",
     "evalue": "'numpy.ndarray' object has no attribute 'values'",
     "output_type": "error",
     "traceback": [
      "\u001b[0;31m---------------------------------------------------------------------------\u001b[0m",
      "\u001b[0;31mAttributeError\u001b[0m                            Traceback (most recent call last)",
      "Input \u001b[0;32mIn [86]\u001b[0m, in \u001b[0;36m<cell line: 1>\u001b[0;34m()\u001b[0m\n\u001b[0;32m----> 1\u001b[0m y_test \u001b[38;5;241m=\u001b[39m \u001b[43my_test\u001b[49m\u001b[38;5;241;43m.\u001b[39;49m\u001b[43mvalues\u001b[49m\n\u001b[1;32m      2\u001b[0m preds \u001b[38;5;241m=\u001b[39m [\u001b[38;5;28mint\u001b[39m(pred[\u001b[38;5;241m0\u001b[39m]) \u001b[38;5;28;01mfor\u001b[39;00m pred \u001b[38;5;129;01min\u001b[39;00m preds]\n",
      "\u001b[0;31mAttributeError\u001b[0m: 'numpy.ndarray' object has no attribute 'values'"
     ]
    }
   ],
   "source": [
    "y_test = y_test.values\n",
    "preds = [int(pred[0]) for pred in preds]"
   ]
  },
  {
   "cell_type": "code",
   "execution_count": 88,
   "id": "929e9310",
   "metadata": {
    "ExecuteTime": {
     "end_time": "2022-10-14T12:15:59.650095Z",
     "start_time": "2022-10-14T12:15:59.644369Z"
    }
   },
   "outputs": [],
   "source": [
    "preds = [int(pred) for pred in preds]"
   ]
  },
  {
   "cell_type": "code",
   "execution_count": 90,
   "id": "aa12feab",
   "metadata": {
    "ExecuteTime": {
     "end_time": "2022-10-14T12:17:01.607306Z",
     "start_time": "2022-10-14T12:17:01.599782Z"
    }
   },
   "outputs": [
    {
     "data": {
      "text/plain": [
       "array([1, 0, 1, ..., 1, 1, 1])"
      ]
     },
     "execution_count": 90,
     "metadata": {},
     "output_type": "execute_result"
    }
   ],
   "source": [
    "y_test"
   ]
  },
  {
   "cell_type": "code",
   "execution_count": 97,
   "id": "9761e5d7",
   "metadata": {
    "ExecuteTime": {
     "end_time": "2022-10-14T12:18:23.102951Z",
     "start_time": "2022-10-14T12:18:22.906679Z"
    }
   },
   "outputs": [
    {
     "data": {
      "text/plain": [
       "<sklearn.metrics._plot.confusion_matrix.ConfusionMatrixDisplay at 0x7f103e7d2bb0>"
      ]
     },
     "execution_count": 97,
     "metadata": {},
     "output_type": "execute_result"
    },
    {
     "data": {
      "image/png": "[encoded data removed]",
      "text/plain": [
       "<Figure size 432x288 with 2 Axes>"
      ]
     },
     "metadata": {
      "needs_background": "light"
     },
     "output_type": "display_data"
    }
   ],
   "source": [
    "_labels = [0,1]\n",
    "\n",
    "cm = skm.confusion_matrix(y_test, preds, labels=_labels)\n",
    "\n",
    "skm.ConfusionMatrixDisplay(\n",
    "    cm,\n",
    "    display_labels = _labels).plot()\n",
    "\n",
    "#plt.show()"
   ]
  },
  {
   "cell_type": "code",
   "execution_count": 107,
   "id": "f2c8844a",
   "metadata": {
    "ExecuteTime": {
     "end_time": "2022-10-14T13:35:39.657365Z",
     "start_time": "2022-10-14T13:35:39.541717Z"
    }
   },
   "outputs": [],
   "source": [
    "test_df_s['p']= model.predict(X_test_)"
   ]
  },
  {
   "cell_type": "code",
   "execution_count": 109,
   "id": "6a45c038",
   "metadata": {
    "ExecuteTime": {
     "end_time": "2022-10-14T13:36:26.626132Z",
     "start_time": "2022-10-14T13:36:26.619620Z"
    }
   },
   "outputs": [],
   "source": [
    "test_df_s['pred']= test_df_s['p'].round()"
   ]
  },
  {
   "cell_type": "code",
   "execution_count": 121,
   "id": "b0b3ffa6",
   "metadata": {
    "ExecuteTime": {
     "end_time": "2022-10-14T13:42:20.273338Z",
     "start_time": "2022-10-14T13:42:20.265926Z"
    }
   },
   "outputs": [],
   "source": [
    "test_df_s['confidence'] = abs(test_df_s['p']-0.5)*2"
   ]
  },
  {
   "cell_type": "code",
   "execution_count": 123,
   "id": "fd0d067a",
   "metadata": {
    "ExecuteTime": {
     "end_time": "2022-10-14T13:43:17.742839Z",
     "start_time": "2022-10-14T13:43:17.736235Z"
    }
   },
   "outputs": [],
   "source": [
    "test_df_s['pred']=test_df_s['pred'].astype(int)"
   ]
  },
  {
   "cell_type": "code",
   "execution_count": 138,
   "id": "89a71814",
   "metadata": {
    "ExecuteTime": {
     "end_time": "2022-10-14T14:02:53.541197Z",
     "start_time": "2022-10-14T14:02:53.508535Z"
    }
   },
   "outputs": [],
   "source": [
    "p_func = lambda x: 100*x.count()/test_df_s.shape[0]\n",
    "\n",
    "cmv = test_df_s.pivot_table(index=['y','pred'],values=['confidence'],aggfunc=[p_func,'count','mean','std'])"
   ]
  },
  {
   "cell_type": "code",
   "execution_count": 139,
   "id": "21061329",
   "metadata": {
    "ExecuteTime": {
     "end_time": "2022-10-14T14:02:53.912887Z",
     "start_time": "2022-10-14T14:02:53.908427Z"
    }
   },
   "outputs": [],
   "source": [
    "cmv.columns = cmv.columns.get_level_values(0)"
   ]
  },
  {
   "cell_type": "code",
   "execution_count": 140,
   "id": "5c7b5272",
   "metadata": {
    "ExecuteTime": {
     "end_time": "2022-10-14T14:02:54.311297Z",
     "start_time": "2022-10-14T14:02:54.292786Z"
    }
   },
   "outputs": [
    {
     "name": "stdout",
     "output_type": "stream",
     "text": [
      "\\begin{table}\n",
      "\\centering\n",
      "\\caption[This table provides...]{Political Classification CM Confidence}\n",
      "\\begin{tabular}{llrrrr}\n",
      "\\toprule\n",
      "  &   &  <lambda> &  count &  mean &   std \\\\\n",
      "y & pred &           &        &       &       \\\\\n",
      "\\midrule\n",
      "0 & 0 &    43.278 &    544 & 0.943 & 0.128 \\\\\n",
      "  & 1 &     1.909 &     24 & 0.739 & 0.336 \\\\\n",
      "1 & 0 &     2.864 &     36 & 0.621 & 0.339 \\\\\n",
      "  & 1 &    51.949 &    653 & 0.966 & 0.119 \\\\\n",
      "\\bottomrule\n",
      "\\end{tabular}\n",
      "\\end{table}\n",
      "\n"
     ]
    }
   ],
   "source": [
    "print(cmv.to_latex(float_format=\"{:0.3f}\".format,\n",
    "                   caption=(\"Political Classification CM Confidence\",\"This table provides...\")))"
   ]
  },
  {
   "cell_type": "code",
   "execution_count": 143,
   "id": "70824e9f",
   "metadata": {
    "ExecuteTime": {
     "end_time": "2022-10-14T14:12:21.438200Z",
     "start_time": "2022-10-14T14:12:21.431049Z"
    }
   },
   "outputs": [
    {
     "data": {
      "text/plain": [
       "(393516, 4)"
      ]
     },
     "execution_count": 143,
     "metadata": {},
     "output_type": "execute_result"
    }
   ],
   "source": [
    "sv.entities.shape"
   ]
  },
  {
   "cell_type": "code",
   "execution_count": 74,
   "id": "45739bd3",
   "metadata": {
    "ExecuteTime": {
     "end_time": "2022-10-11T06:45:46.116321Z",
     "start_time": "2022-10-11T06:45:46.094470Z"
    }
   },
   "outputs": [
    {
     "data": {
      "text/html": [
       "<div>\n",
       "<style scoped>\n",
       "    .dataframe tbody tr th:only-of-type {\n",
       "        vertical-align: middle;\n",
       "    }\n",
       "\n",
       "    .dataframe tbody tr th {\n",
       "        vertical-align: top;\n",
       "    }\n",
       "\n",
       "    .dataframe thead th {\n",
       "        text-align: right;\n",
       "    }\n",
       "</style>\n",
       "<table border=\"1\" class=\"dataframe\">\n",
       "  <thead>\n",
       "    <tr style=\"text-align: right;\">\n",
       "      <th></th>\n",
       "      <th></th>\n",
       "      <th>user_id</th>\n",
       "      <th>list</th>\n",
       "      <th>political_train_test</th>\n",
       "      <th>source</th>\n",
       "      <th>socialvec</th>\n",
       "      <th>socialvec_len</th>\n",
       "    </tr>\n",
       "    <tr>\n",
       "      <th>political</th>\n",
       "      <th>political_enum</th>\n",
       "      <th></th>\n",
       "      <th></th>\n",
       "      <th></th>\n",
       "      <th></th>\n",
       "      <th></th>\n",
       "      <th></th>\n",
       "    </tr>\n",
       "  </thead>\n",
       "  <tbody>\n",
       "    <tr>\n",
       "      <th>Democrat</th>\n",
       "      <th>0</th>\n",
       "      <td>1363</td>\n",
       "      <td>1363</td>\n",
       "      <td>1363</td>\n",
       "      <td>1363</td>\n",
       "      <td>1363</td>\n",
       "      <td>1363</td>\n",
       "    </tr>\n",
       "    <tr>\n",
       "      <th>Republican</th>\n",
       "      <th>1</th>\n",
       "      <td>428</td>\n",
       "      <td>428</td>\n",
       "      <td>428</td>\n",
       "      <td>428</td>\n",
       "      <td>428</td>\n",
       "      <td>428</td>\n",
       "    </tr>\n",
       "  </tbody>\n",
       "</table>\n",
       "</div>"
      ],
      "text/plain": [
       "                           user_id  list  political_train_test  source  \\\n",
       "political  political_enum                                                \n",
       "Democrat   0                  1363  1363                  1363    1363   \n",
       "Republican 1                   428   428                   428     428   \n",
       "\n",
       "                           socialvec  socialvec_len  \n",
       "political  political_enum                            \n",
       "Democrat   0                    1363           1363  \n",
       "Republican 1                     428            428  "
      ]
     },
     "execution_count": 74,
     "metadata": {},
     "output_type": "execute_result"
    }
   ],
   "source": [
    "df.groupby(by=['political','political_enum']).count()"
   ]
  },
  {
   "cell_type": "code",
   "execution_count": 73,
   "id": "643e7707",
   "metadata": {
    "ExecuteTime": {
     "end_time": "2022-10-11T06:26:58.632087Z",
     "start_time": "2022-10-11T06:25:46.541634Z"
    }
   },
   "outputs": [
    {
     "name": "stdout",
     "output_type": "stream",
     "text": [
      "twitter_id: 15186859, tagged as: 1 Republican res: 0\n",
      "twitter_id: 263914867, tagged as: 1 Republican res: 0\n",
      "twitter_id: 462487376, tagged as: 1 Democrat res: 0\n",
      "twitter_id: 574250205, tagged as: 0 Republican res: 1\n",
      "twitter_id: 423941104, tagged as: 1 Democrat res: 0\n",
      "twitter_id: 454146385, tagged as: 1 Democrat res: 0\n",
      "twitter_id: 38579155, tagged as: 0 Democrat res: 1\n",
      "twitter_id: 202798666, tagged as: 1 Democrat res: 0\n",
      "twitter_id: 337937520, tagged as: 1 Democrat res: 0\n",
      "twitter_id: 24983393, tagged as: 0 Democrat res: 1\n",
      "twitter_id: 352486016, tagged as: 0 Democrat res: 1\n",
      "twitter_id: 536012978, tagged as: 1 Democrat res: 0\n",
      "twitter_id: 258609027, tagged as: 1 Democrat res: 0\n",
      "twitter_id: 354125458, tagged as: 1 Republican res: 0\n",
      "twitter_id: 27992224, tagged as: 1 Republican res: 0\n",
      "twitter_id: 184547888, tagged as: 1 Democrat res: 0\n",
      "twitter_id: 427464965, tagged as: 1 Republican res: 0\n",
      "twitter_id: 359446141, tagged as: 1 Democrat res: 0\n",
      "twitter_id: 249227650, tagged as: 0 Democrat res: 1\n",
      "twitter_id: 503741267, tagged as: 0 Republican res: 1\n",
      "twitter_id: 51480688, tagged as: 1 Democrat res: 0\n",
      "twitter_id: 265786675, tagged as: 0 Democrat res: 1\n",
      "twitter_id: 441039165, tagged as: 1 Democrat res: 0\n",
      "twitter_id: 504027031, tagged as: 1 Republican res: 0\n",
      "twitter_id: 570502101, tagged as: 1 Republican res: 0\n",
      "twitter_id: 23820736, tagged as: 1 Republican res: 0\n",
      "twitter_id: 435471503, tagged as: 1 Republican res: 0\n",
      "twitter_id: 402797583, tagged as: 0 Democrat res: 1\n",
      "twitter_id: 302525103, tagged as: 1 Democrat res: 0\n",
      "twitter_id: 421338980, tagged as: 1 Democrat res: 0\n",
      "twitter_id: 254210162, tagged as: 0 Democrat res: 1\n",
      "twitter_id: 218711172, tagged as: 1 Democrat res: 0\n",
      "twitter_id: 331246659, tagged as: 1 Democrat res: 0\n",
      "twitter_id: 17990173, tagged as: 1 Democrat res: 0\n",
      "twitter_id: 30787413, tagged as: 1 Democrat res: 0\n",
      "twitter_id: 30671407, tagged as: 1 Democrat res: 0\n",
      "twitter_id: 158948390, tagged as: 1 Republican res: 0\n",
      "twitter_id: 247374067, tagged as: 1 Democrat res: 0\n",
      "twitter_id: 497630362, tagged as: 0 Democrat res: 1\n",
      "twitter_id: 270041894, tagged as: 1 Democrat res: 0\n",
      "twitter_id: 153531619, tagged as: 1 Democrat res: 0\n",
      "twitter_id: 186314952, tagged as: 0 Democrat res: 1\n",
      "twitter_id: 280699168, tagged as: 1 Republican res: 0\n",
      "twitter_id: 29391732, tagged as: 1 Democrat res: 0\n",
      "twitter_id: 223375935, tagged as: 1 Republican res: 0\n",
      "twitter_id: 133341985, tagged as: 0 Democrat res: 1\n",
      "twitter_id: 17326645, tagged as: 1 Democrat res: 0\n",
      "twitter_id: 311766419, tagged as: 1 Democrat res: 0\n",
      "twitter_id: 240492455, tagged as: 0 Democrat res: 1\n",
      "twitter_id: 21059736, tagged as: 1 Democrat res: 0\n",
      "twitter_id: 266413556, tagged as: 1 Democrat res: 0\n",
      "twitter_id: 18547273, tagged as: 1 Republican res: 0\n",
      "twitter_id: 160828306, tagged as: 1 Democrat res: 0\n",
      "twitter_id: 17522792, tagged as: 1 Democrat res: 0\n",
      "twitter_id: 370845710, tagged as: 1 Democrat res: 0\n",
      "twitter_id: 31586329, tagged as: 1 Republican res: 0\n",
      "twitter_id: 407894919, tagged as: 1 Democrat res: 0\n",
      "twitter_id: 40126821, tagged as: 1 Democrat res: 0\n",
      "twitter_id: 39215095, tagged as: 1 Republican res: 0\n",
      "twitter_id: 19374297, tagged as: 1 Democrat res: 0\n",
      "twitter_id: 159953654, tagged as: 1 Democrat res: 0\n",
      "twitter_id: 36958694, tagged as: 1 Democrat res: 0\n",
      "twitter_id: 285125363, tagged as: 1 Democrat res: 0\n",
      "twitter_id: 443428711, tagged as: 1 Democrat res: 0\n",
      "twitter_id: 279235824, tagged as: 1 Democrat res: 0\n",
      "twitter_id: 23400461, tagged as: 1 Democrat res: 0\n",
      "twitter_id: 118469346, tagged as: 1 Democrat res: 0\n",
      "twitter_id: 321663912, tagged as: 1 Republican res: 0\n",
      "twitter_id: 701949296, tagged as: 1 Democrat res: 0\n",
      "twitter_id: 329471370, tagged as: 1 Republican res: 0\n",
      "twitter_id: 35597637, tagged as: 1 Republican res: 0\n",
      "twitter_id: 32755384, tagged as: 1 Democrat res: 0\n",
      "twitter_id: 477188816, tagged as: 1 Republican res: 0\n",
      "twitter_id: 74139583, tagged as: 1 Democrat res: 0\n",
      "twitter_id: 90211828, tagged as: 1 Democrat res: 0\n",
      "twitter_id: 18618379, tagged as: 1 Democrat res: 0\n",
      "twitter_id: 70839289, tagged as: 1 Democrat res: 0\n",
      "twitter_id: 592150138, tagged as: 0 Democrat res: 1\n",
      "twitter_id: 16566189, tagged as: 0 Republican res: 1\n",
      "twitter_id: 504987901, tagged as: 1 Republican res: 0\n",
      "twitter_id: 180388620, tagged as: 1 Republican res: 0\n",
      "twitter_id: 249468865, tagged as: 1 Democrat res: 0\n",
      "twitter_id: 310009833, tagged as: 1 Democrat res: 0\n",
      "twitter_id: 16166332, tagged as: 1 Democrat res: 0\n",
      "twitter_id: 141735027, tagged as: 0 Democrat res: 1\n",
      "twitter_id: 302408703, tagged as: 1 Democrat res: 0\n",
      "twitter_id: 308805449, tagged as: 1 Republican res: 0\n",
      "twitter_id: 26182895, tagged as: 1 Democrat res: 0\n",
      "twitter_id: 353544330, tagged as: 1 Democrat res: 0\n",
      "twitter_id: 377486283, tagged as: 1 Democrat res: 0\n",
      "twitter_id: 240532669, tagged as: 0 Democrat res: 1\n",
      "twitter_id: 360231979, tagged as: 0 Republican res: 1\n",
      "twitter_id: 467774585, tagged as: 1 Democrat res: 0\n",
      "twitter_id: 408831317, tagged as: 1 Democrat res: 0\n",
      "twitter_id: 205928265, tagged as: 1 Democrat res: 0\n",
      "twitter_id: 341700434, tagged as: 0 Democrat res: 1\n",
      "twitter_id: 55312313, tagged as: 0 Democrat res: 1\n",
      "twitter_id: 596678073, tagged as: 1 Republican res: 0\n",
      "twitter_id: 246571951, tagged as: 1 Democrat res: 0\n",
      "twitter_id: 279735090, tagged as: 1 Democrat res: 0\n",
      "twitter_id: 37316930, tagged as: 1 Democrat res: 0\n",
      "twitter_id: 130363809, tagged as: 1 Democrat res: 0\n",
      "twitter_id: 33011898, tagged as: 1 Democrat res: 0\n",
      "twitter_id: 90469755, tagged as: 0 Democrat res: 1\n",
      "twitter_id: 96882214, tagged as: 1 Democrat res: 0\n",
      "twitter_id: 426685539, tagged as: 1 Democrat res: 0\n",
      "twitter_id: 277659095, tagged as: 1 Republican res: 0\n",
      "twitter_id: 513434526, tagged as: 1 Republican res: 0\n",
      "twitter_id: 421548020, tagged as: 1 Republican res: 0\n",
      "twitter_id: 120853830, tagged as: 0 Republican res: 1\n",
      "twitter_id: 291413743, tagged as: 1 Democrat res: 0\n",
      "twitter_id: 37384165, tagged as: 1 Democrat res: 0\n",
      "twitter_id: 22193646, tagged as: 0 Democrat res: 1\n",
      "twitter_id: 7132042, tagged as: 1 Democrat res: 0\n",
      "twitter_id: 38910495, tagged as: 1 Democrat res: 0\n",
      "twitter_id: 232114448, tagged as: 1 Democrat res: 0\n",
      "twitter_id: 414374118, tagged as: 1 Republican res: 0\n",
      "twitter_id: 430072028, tagged as: 0 Democrat res: 1\n",
      "twitter_id: 420731308, tagged as: 0 Democrat res: 1\n",
      "twitter_id: 39140648, tagged as: 1 Republican res: 0\n",
      "twitter_id: 47880950, tagged as: 1 Democrat res: 0\n",
      "twitter_id: 19147974, tagged as: 0 Democrat res: 1\n",
      "twitter_id: 364428125, tagged as: 1 Democrat res: 0\n",
      "twitter_id: 21345227, tagged as: 0 Democrat res: 1\n",
      "twitter_id: 411700909, tagged as: 0 Democrat res: 1\n",
      "twitter_id: 12685102, tagged as: 1 Democrat res: 0\n",
      "twitter_id: 238322255, tagged as: 1 Democrat res: 0\n",
      "twitter_id: 237963845, tagged as: 1 Democrat res: 0\n",
      "twitter_id: 169378322, tagged as: 1 Democrat res: 0\n",
      "twitter_id: 74620173, tagged as: 0 Democrat res: 1\n",
      "twitter_id: 207781904, tagged as: 0 Democrat res: 1\n",
      "twitter_id: 253737829, tagged as: 1 Democrat res: 0\n",
      "twitter_id: 306169468, tagged as: 0 Democrat res: 1\n",
      "twitter_id: 43508994, tagged as: 0 Democrat res: 1\n",
      "twitter_id: 55744853, tagged as: 1 Democrat res: 0\n",
      "twitter_id: 23027915, tagged as: 1 Democrat res: 0\n",
      "twitter_id: 255299055, tagged as: 1 Democrat res: 0\n",
      "twitter_id: 343018153, tagged as: 1 Democrat res: 0\n",
      "twitter_id: 302934050, tagged as: 1 Democrat res: 0\n",
      "twitter_id: 46965667, tagged as: 1 Republican res: 0\n",
      "twitter_id: 415897649, tagged as: 1 Democrat res: 0\n",
      "twitter_id: 48098530, tagged as: 1 Republican res: 0\n",
      "twitter_id: 419105102, tagged as: 1 Democrat res: 0\n",
      "twitter_id: 21568615, tagged as: 1 Republican res: 0\n",
      "twitter_id: 196742313, tagged as: 0 Democrat res: 1\n",
      "twitter_id: 41675336, tagged as: 1 Republican res: 0\n",
      "twitter_id: 449902821, tagged as: 0 Democrat res: 1\n",
      "twitter_id: 219550942, tagged as: 0 Democrat res: 1\n",
      "twitter_id: 623065439, tagged as: 1 Democrat res: 0\n",
      "twitter_id: 29605636, tagged as: 0 Republican res: 1\n",
      "twitter_id: 35519448, tagged as: 0 Democrat res: 1\n",
      "twitter_id: 21374892, tagged as: 1 Democrat res: 0\n",
      "twitter_id: 250774954, tagged as: 0 Democrat res: 1\n",
      "twitter_id: 418480466, tagged as: 1 Democrat res: 0\n",
      "twitter_id: 255195496, tagged as: 0 Republican res: 1\n",
      "twitter_id: 60098410, tagged as: 0 Democrat res: 1\n",
      "twitter_id: 309167251, tagged as: 0 Democrat res: 1\n",
      "twitter_id: 13683762, tagged as: 0 Democrat res: 1\n"
     ]
    },
    {
     "name": "stdout",
     "output_type": "stream",
     "text": [
      "twitter_id: 89033916, tagged as: 1 Democrat res: 0\n",
      "twitter_id: 349904873, tagged as: 1 Republican res: 0\n",
      "twitter_id: 328858212, tagged as: 1 Democrat res: 0\n",
      "twitter_id: 584258797, tagged as: 1 Democrat res: 0\n",
      "twitter_id: 26589876, tagged as: 0 Democrat res: 1\n",
      "twitter_id: 257265522, tagged as: 1 Republican res: 0\n",
      "twitter_id: 104539435, tagged as: 1 Democrat res: 0\n",
      "twitter_id: 224410857, tagged as: 0 Republican res: 1\n",
      "twitter_id: 150518148, tagged as: 0 Republican res: 1\n",
      "twitter_id: 64791948, tagged as: 1 Democrat res: 0\n",
      "twitter_id: 397717926, tagged as: 1 Democrat res: 0\n",
      "twitter_id: 401089789, tagged as: 0 Republican res: 1\n",
      "twitter_id: 238024746, tagged as: 0 Democrat res: 1\n",
      "twitter_id: 381203261, tagged as: 0 Republican res: 1\n",
      "twitter_id: 50306226, tagged as: 1 Democrat res: 0\n",
      "twitter_id: 11146552, tagged as: 0 Democrat res: 1\n",
      "twitter_id: 110236585, tagged as: 0 Democrat res: 1\n",
      "twitter_id: 442082078, tagged as: 1 Democrat res: 0\n",
      "twitter_id: 382359896, tagged as: 1 Democrat res: 0\n",
      "twitter_id: 155034504, tagged as: 1 Democrat res: 0\n",
      "twitter_id: 140110825, tagged as: 1 Republican res: 0\n",
      "twitter_id: 28905424, tagged as: 1 Democrat res: 0\n",
      "twitter_id: 21623464, tagged as: 1 Democrat res: 0\n",
      "twitter_id: 255313314, tagged as: 0 Democrat res: 1\n",
      "twitter_id: 155926653, tagged as: 1 Republican res: 0\n",
      "twitter_id: 469970755, tagged as: 0 Democrat res: 1\n",
      "twitter_id: 16568377, tagged as: 0 Democrat res: 1\n",
      "twitter_id: 423865005, tagged as: 1 Republican res: 0\n",
      "twitter_id: 117877472, tagged as: 1 Republican res: 0\n",
      "twitter_id: 345626789, tagged as: 0 Democrat res: 1\n",
      "twitter_id: 314604858, tagged as: 0 Republican res: 1\n",
      "twitter_id: 402925254, tagged as: 1 Democrat res: 0\n",
      "twitter_id: 9899992, tagged as: 1 Democrat res: 0\n",
      "twitter_id: 109361476, tagged as: 0 Democrat res: 1\n",
      "twitter_id: 196152188, tagged as: 0 Democrat res: 1\n",
      "twitter_id: 172035134, tagged as: 1 Democrat res: 0\n",
      "twitter_id: 467758710, tagged as: 1 Republican res: 0\n",
      "twitter_id: 36460282, tagged as: 1 Democrat res: 0\n",
      "twitter_id: 15681561, tagged as: 0 Democrat res: 1\n",
      "twitter_id: 346998772, tagged as: 0 Republican res: 1\n",
      "twitter_id: 38326757, tagged as: 1 Republican res: 0\n",
      "twitter_id: 25368960, tagged as: 1 Democrat res: 0\n",
      "twitter_id: 410195122, tagged as: 0 Democrat res: 1\n",
      "twitter_id: 371477472, tagged as: 1 Republican res: 0\n",
      "twitter_id: 348785324, tagged as: 1 Democrat res: 0\n",
      "twitter_id: 178985516, tagged as: 0 Democrat res: 1\n",
      "twitter_id: 394796192, tagged as: 0 Republican res: 1\n",
      "twitter_id: 16370204, tagged as: 0 Democrat res: 1\n",
      "twitter_id: 524866555, tagged as: 1 Democrat res: 0\n",
      "twitter_id: 36219010, tagged as: 0 Democrat res: 1\n",
      "twitter_id: 38481051, tagged as: 1 Republican res: 0\n",
      "twitter_id: 289360824, tagged as: 1 Democrat res: 0\n",
      "twitter_id: 221205505, tagged as: 1 Democrat res: 0\n",
      "twitter_id: 17764624, tagged as: 1 Democrat res: 0\n",
      "twitter_id: 95299169, tagged as: 1 Democrat res: 0\n",
      "twitter_id: 14584037, tagged as: 0 Democrat res: 1\n",
      "twitter_id: 348682667, tagged as: 1 Republican res: 0\n",
      "twitter_id: 44399596, tagged as: 1 Republican res: 0\n",
      "twitter_id: 280119639, tagged as: 0 Democrat res: 1\n",
      "twitter_id: 49038458, tagged as: 1 Republican res: 0\n",
      "twitter_id: 8036902, tagged as: 0 Democrat res: 1\n",
      "twitter_id: 532542878, tagged as: 1 Democrat res: 0\n",
      "twitter_id: 354629644, tagged as: 1 Democrat res: 0\n",
      "twitter_id: 116988168, tagged as: 1 Democrat res: 0\n",
      "twitter_id: 14187808, tagged as: 0 Democrat res: 1\n",
      "twitter_id: 23450320, tagged as: 1 Democrat res: 0\n",
      "twitter_id: 849, tagged as: 1 Democrat res: 0\n",
      "twitter_id: 86474692, tagged as: 0 Democrat res: 1\n",
      "twitter_id: 357150048, tagged as: 1 Democrat res: 0\n",
      "twitter_id: 86617967, tagged as: 1 Democrat res: 0\n",
      "twitter_id: 260440912, tagged as: 1 Democrat res: 0\n",
      "twitter_id: 338076990, tagged as: 1 Democrat res: 0\n",
      "twitter_id: 130690913, tagged as: 1 Democrat res: 0\n",
      "twitter_id: 23838693, tagged as: 1 Democrat res: 0\n",
      "twitter_id: 15875100, tagged as: 0 Democrat res: 1\n",
      "twitter_id: 185716839, tagged as: 1 Democrat res: 0\n",
      "twitter_id: 260262291, tagged as: 1 Democrat res: 0\n",
      "twitter_id: 18137013, tagged as: 0 Democrat res: 1\n",
      "twitter_id: 631603360, tagged as: 1 Republican res: 0\n",
      "twitter_id: 393264911, tagged as: 1 Democrat res: 0\n",
      "twitter_id: 400249617, tagged as: 0 Democrat res: 1\n",
      "twitter_id: 32973618, tagged as: 1 Democrat res: 0\n",
      "twitter_id: 16322613, tagged as: 0 Democrat res: 1\n",
      "twitter_id: 189224604, tagged as: 1 Democrat res: 0\n",
      "twitter_id: 281408265, tagged as: 1 Republican res: 0\n",
      "twitter_id: 282692620, tagged as: 0 Republican res: 1\n",
      "twitter_id: 197692007, tagged as: 1 Democrat res: 0\n",
      "twitter_id: 355896730, tagged as: 1 Democrat res: 0\n",
      "twitter_id: 30944417, tagged as: 1 Democrat res: 0\n",
      "twitter_id: 101881386, tagged as: 0 Democrat res: 1\n",
      "twitter_id: 286265668, tagged as: 1 Democrat res: 0\n",
      "twitter_id: 552802620, tagged as: 0 Republican res: 1\n",
      "twitter_id: 64942768, tagged as: 1 Democrat res: 0\n",
      "twitter_id: 321839755, tagged as: 0 Republican res: 1\n",
      "twitter_id: 37578654, tagged as: 1 Republican res: 0\n",
      "twitter_id: 350645139, tagged as: 1 Democrat res: 0\n",
      "twitter_id: 268547296, tagged as: 0 Democrat res: 1\n",
      "twitter_id: 15467792, tagged as: 0 Democrat res: 1\n",
      "twitter_id: 185629189, tagged as: 0 Democrat res: 1\n",
      "twitter_id: 146512594, tagged as: 1 Democrat res: 0\n",
      "twitter_id: 252674018, tagged as: 1 Democrat res: 0\n",
      "twitter_id: 242607910, tagged as: 1 Republican res: 0\n",
      "twitter_id: 123300331, tagged as: 1 Republican res: 0\n",
      "twitter_id: 120851061, tagged as: 1 Democrat res: 0\n",
      "twitter_id: 432590763, tagged as: 1 Democrat res: 0\n",
      "twitter_id: 169318703, tagged as: 1 Democrat res: 0\n",
      "twitter_id: 167222207, tagged as: 1 Democrat res: 0\n",
      "twitter_id: 301717953, tagged as: 1 Republican res: 0\n",
      "twitter_id: 17339508, tagged as: 1 Democrat res: 0\n",
      "twitter_id: 330201359, tagged as: 1 Democrat res: 0\n",
      "twitter_id: 391778790, tagged as: 1 Republican res: 0\n",
      "twitter_id: 386861626, tagged as: 1 Democrat res: 0\n",
      "twitter_id: 379833720, tagged as: 1 Republican res: 0\n",
      "twitter_id: 41685125, tagged as: 1 Democrat res: 0\n",
      "twitter_id: 220867112, tagged as: 0 Democrat res: 1\n",
      "twitter_id: 553711382, tagged as: 1 Republican res: 0\n",
      "twitter_id: 276256841, tagged as: 1 Democrat res: 0\n",
      "twitter_id: 34841151, tagged as: 1 Democrat res: 0\n",
      "twitter_id: 469196810, tagged as: 1 Democrat res: 0\n",
      "twitter_id: 211316270, tagged as: 1 Republican res: 0\n",
      "twitter_id: 19683725, tagged as: 0 Republican res: 1\n",
      "twitter_id: 90966789, tagged as: 0 Republican res: 1\n",
      "twitter_id: 263433687, tagged as: 1 Democrat res: 0\n",
      "twitter_id: 197384499, tagged as: 1 Democrat res: 0\n",
      "twitter_id: 65995121, tagged as: 1 Democrat res: 0\n",
      "twitter_id: 169291538, tagged as: 0 Democrat res: 1\n",
      "twitter_id: 330691749, tagged as: 1 Democrat res: 0\n",
      "twitter_id: 341153843, tagged as: 0 Republican res: 1\n",
      "twitter_id: 38520445, tagged as: 1 Democrat res: 0\n",
      "twitter_id: 275260502, tagged as: 1 Republican res: 0\n",
      "twitter_id: 309355379, tagged as: 0 Democrat res: 1\n",
      "twitter_id: 186572442, tagged as: 1 Democrat res: 0\n",
      "twitter_id: 307372680, tagged as: 1 Republican res: 0\n",
      "twitter_id: 625951846, tagged as: 1 Democrat res: 0\n",
      "twitter_id: 309981035, tagged as: 1 Democrat res: 0\n",
      "twitter_id: 402587757, tagged as: 1 Democrat res: 0\n",
      "twitter_id: 78213, tagged as: 0 Republican res: 1\n",
      "twitter_id: 417606826, tagged as: 1 Republican res: 0\n",
      "twitter_id: 300135225, tagged as: 1 Republican res: 0\n",
      "twitter_id: 284931188, tagged as: 1 Republican res: 0\n",
      "twitter_id: 18968115, tagged as: 1 Democrat res: 0\n",
      "twitter_id: 207290040, tagged as: 1 Democrat res: 0\n",
      "twitter_id: 253828982, tagged as: 1 Republican res: 0\n",
      "twitter_id: 95712580, tagged as: 0 Democrat res: 1\n",
      "twitter_id: 30912658, tagged as: 1 Democrat res: 0\n",
      "twitter_id: 76977679, tagged as: 0 Democrat res: 1\n",
      "twitter_id: 475210759, tagged as: 1 Democrat res: 0\n",
      "twitter_id: 423666163, tagged as: 1 Democrat res: 0\n",
      "twitter_id: 204292930, tagged as: 1 Democrat res: 0\n",
      "twitter_id: 33703073, tagged as: 1 Democrat res: 0\n",
      "twitter_id: 419307287, tagged as: 1 Republican res: 0\n",
      "twitter_id: 26514591, tagged as: 1 Democrat res: 0\n",
      "twitter_id: 438566411, tagged as: 1 Democrat res: 0\n",
      "twitter_id: 114970673, tagged as: 1 Democrat res: 0\n",
      "twitter_id: 52818001, tagged as: 1 Democrat res: 0\n",
      "twitter_id: 526823315, tagged as: 0 Democrat res: 1\n",
      "twitter_id: 490016303, tagged as: 0 Republican res: 1\n",
      "twitter_id: 379304556, tagged as: 1 Republican res: 0\n",
      "twitter_id: 159011393, tagged as: 1 Democrat res: 0\n"
     ]
    },
    {
     "name": "stdout",
     "output_type": "stream",
     "text": [
      "twitter_id: 70982412, tagged as: 1 Democrat res: 0\n",
      "twitter_id: 299441398, tagged as: 1 Democrat res: 0\n",
      "twitter_id: 177101575, tagged as: 1 Democrat res: 0\n",
      "twitter_id: 313341167, tagged as: 1 Republican res: 0\n",
      "twitter_id: 412638454, tagged as: 1 Democrat res: 0\n",
      "twitter_id: 24537703, tagged as: 1 Democrat res: 0\n",
      "twitter_id: 387625128, tagged as: 1 Democrat res: 0\n",
      "twitter_id: 21089214, tagged as: 0 Republican res: 1\n",
      "twitter_id: 28498427, tagged as: 1 Republican res: 0\n",
      "twitter_id: 354047009, tagged as: 1 Democrat res: 0\n",
      "twitter_id: 315296719, tagged as: 1 Democrat res: 0\n",
      "twitter_id: 82257804, tagged as: 1 Democrat res: 0\n",
      "twitter_id: 56876875, tagged as: 1 Democrat res: 0\n",
      "twitter_id: 259541688, tagged as: 1 Republican res: 0\n",
      "twitter_id: 48157278, tagged as: 1 Democrat res: 0\n",
      "twitter_id: 22651134, tagged as: 1 Democrat res: 0\n",
      "twitter_id: 467688815, tagged as: 0 Democrat res: 1\n",
      "twitter_id: 192385616, tagged as: 1 Democrat res: 0\n",
      "twitter_id: 77765035, tagged as: 1 Democrat res: 0\n",
      "twitter_id: 251359942, tagged as: 1 Democrat res: 0\n",
      "twitter_id: 433470731, tagged as: 0 Republican res: 1\n",
      "twitter_id: 31144939, tagged as: 1 Republican res: 0\n",
      "twitter_id: 453280756, tagged as: 1 Republican res: 0\n",
      "twitter_id: 240941201, tagged as: 0 Democrat res: 1\n",
      "twitter_id: 17146204, tagged as: 1 Democrat res: 0\n",
      "twitter_id: 231483310, tagged as: 1 Democrat res: 0\n",
      "twitter_id: 494605871, tagged as: 1 Republican res: 0\n",
      "twitter_id: 453044363, tagged as: 0 Republican res: 1\n"
     ]
    }
   ],
   "source": [
    "count_rep = 0\n",
    "count_dem = 0\n",
    "\n",
    "for test_location in range(0,sub_df.shape[0]):\n",
    "    in_test = tf.stack([sub_df.iloc[test_location].socialvec.tolist()])\n",
    "    single_prediction = int(model.predict(in_test).round()[0][0])\n",
    "    if sub_df.iloc[test_location].political_enum != single_prediction:\n",
    "        print(f\"twitter_id: {sub_df.iloc[test_location].user_id}, tagged as: {sub_df.iloc[test_location].political_enum} {sub_df.iloc[test_location].political} res: {single_prediction}\")\n",
    "        if single_prediction == 0:\n",
    "            count_rep = count_rep + 1\n",
    "        else:\n",
    "            count_dem = count_dem + 1"
   ]
  },
  {
   "cell_type": "code",
   "execution_count": null,
   "id": "5fe07906",
   "metadata": {
    "ExecuteTime": {
     "end_time": "2022-10-11T05:35:04.141303Z",
     "start_time": "2022-10-11T05:35:04.131992Z"
    }
   },
   "outputs": [],
   "source": [
    "y_test.value_counts()"
   ]
  },
  {
   "cell_type": "code",
   "execution_count": 76,
   "id": "493554df",
   "metadata": {
    "ExecuteTime": {
     "end_time": "2022-10-11T06:47:36.820475Z",
     "start_time": "2022-10-11T06:47:36.813926Z"
    }
   },
   "outputs": [
    {
     "data": {
      "text/plain": [
       "249"
      ]
     },
     "execution_count": 76,
     "metadata": {},
     "output_type": "execute_result"
    }
   ],
   "source": [
    "count_rep"
   ]
  },
  {
   "cell_type": "code",
   "execution_count": 57,
   "id": "4cb88306",
   "metadata": {
    "ExecuteTime": {
     "end_time": "2022-10-11T06:13:36.506188Z",
     "start_time": "2022-10-11T06:13:36.490164Z"
    }
   },
   "outputs": [
    {
     "data": {
      "text/html": [
       "<div>\n",
       "<style scoped>\n",
       "    .dataframe tbody tr th:only-of-type {\n",
       "        vertical-align: middle;\n",
       "    }\n",
       "\n",
       "    .dataframe tbody tr th {\n",
       "        vertical-align: top;\n",
       "    }\n",
       "\n",
       "    .dataframe thead th {\n",
       "        text-align: right;\n",
       "    }\n",
       "</style>\n",
       "<table border=\"1\" class=\"dataframe\">\n",
       "  <thead>\n",
       "    <tr style=\"text-align: right;\">\n",
       "      <th></th>\n",
       "      <th>accuracy</th>\n",
       "      <th>f1_score</th>\n",
       "      <th>precision</th>\n",
       "      <th>recall</th>\n",
       "      <th>roc_auc</th>\n",
       "    </tr>\n",
       "    <tr>\n",
       "      <th>train_size</th>\n",
       "      <th></th>\n",
       "      <th></th>\n",
       "      <th></th>\n",
       "      <th></th>\n",
       "      <th></th>\n",
       "    </tr>\n",
       "  </thead>\n",
       "  <tbody>\n",
       "    <tr>\n",
       "      <th>370</th>\n",
       "      <td>0.784257</td>\n",
       "      <td>0.408834</td>\n",
       "      <td>0.316872</td>\n",
       "      <td>0.579621</td>\n",
       "      <td>0.782305</td>\n",
       "    </tr>\n",
       "    <tr>\n",
       "      <th>870</th>\n",
       "      <td>0.796404</td>\n",
       "      <td>0.452260</td>\n",
       "      <td>0.355967</td>\n",
       "      <td>0.620253</td>\n",
       "      <td>0.774228</td>\n",
       "    </tr>\n",
       "    <tr>\n",
       "      <th>1370</th>\n",
       "      <td>0.784257</td>\n",
       "      <td>0.431217</td>\n",
       "      <td>0.347737</td>\n",
       "      <td>0.569923</td>\n",
       "      <td>0.765008</td>\n",
       "    </tr>\n",
       "  </tbody>\n",
       "</table>\n",
       "</div>"
      ],
      "text/plain": [
       "            accuracy  f1_score  precision    recall   roc_auc\n",
       "train_size                                                   \n",
       "370         0.784257  0.408834   0.316872  0.579621  0.782305\n",
       "870         0.796404  0.452260   0.355967  0.620253  0.774228\n",
       "1370        0.784257  0.431217   0.347737  0.569923  0.765008"
      ]
     },
     "execution_count": 57,
     "metadata": {},
     "output_type": "execute_result"
    }
   ],
   "source": [
    "df_res_mean.columns = df_res_mean.columns.get_level_values(1)\n",
    "df_res_mean"
   ]
  },
  {
   "cell_type": "code",
   "execution_count": 27,
   "id": "d7e4e2e7",
   "metadata": {
    "ExecuteTime": {
     "end_time": "2022-10-13T13:17:21.049760Z",
     "start_time": "2022-10-13T13:17:19.193700Z"
    }
   },
   "outputs": [
    {
     "ename": "ValueError",
     "evalue": "'recall' is neither a data key nor a valid format string (unrecognized character 'e')",
     "output_type": "error",
     "traceback": [
      "\u001b[0;31m---------------------------------------------------------------------------\u001b[0m",
      "\u001b[0;31mValueError\u001b[0m                                Traceback (most recent call last)",
      "Input \u001b[0;32mIn [27]\u001b[0m, in \u001b[0;36m<cell line: 3>\u001b[0;34m()\u001b[0m\n\u001b[1;32m      1\u001b[0m params \u001b[38;5;241m=\u001b[39m [\u001b[38;5;124m'\u001b[39m\u001b[38;5;124mrecall\u001b[39m\u001b[38;5;124m'\u001b[39m,\u001b[38;5;124m'\u001b[39m\u001b[38;5;124mprecision\u001b[39m\u001b[38;5;124m'\u001b[39m,\u001b[38;5;124m'\u001b[39m\u001b[38;5;124mf1_score\u001b[39m\u001b[38;5;124m'\u001b[39m]\n\u001b[1;32m      3\u001b[0m \u001b[38;5;28;01mfor\u001b[39;00m metric \u001b[38;5;129;01min\u001b[39;00m params:\n\u001b[0;32m----> 4\u001b[0m     \u001b[43mplt\u001b[49m\u001b[38;5;241;43m.\u001b[39;49m\u001b[43mplot\u001b[49m\u001b[43m(\u001b[49m\u001b[38;5;124;43m'\u001b[39;49m\u001b[38;5;124;43mtrain_size\u001b[39;49m\u001b[38;5;124;43m'\u001b[39;49m\u001b[43m,\u001b[49m\u001b[43m \u001b[49m\u001b[43mmetric\u001b[49m\u001b[43m,\u001b[49m\u001b[43m \u001b[49m\u001b[43mdata\u001b[49m\u001b[38;5;241;43m=\u001b[39;49m\u001b[43mdf_res_mean\u001b[49m\u001b[38;5;241;43m.\u001b[39;49m\u001b[43mreset_index\u001b[49m\u001b[43m(\u001b[49m\u001b[43m)\u001b[49m\u001b[43m,\u001b[49m\u001b[43m \u001b[49m\u001b[43mlinestyle\u001b[49m\u001b[38;5;241;43m=\u001b[39;49m\u001b[38;5;124;43m'\u001b[39;49m\u001b[38;5;124;43m-\u001b[39;49m\u001b[38;5;124;43m'\u001b[39;49m\u001b[43m,\u001b[49m\u001b[43m \u001b[49m\u001b[43mmarker\u001b[49m\u001b[38;5;241;43m=\u001b[39;49m\u001b[38;5;124;43m'\u001b[39;49m\u001b[38;5;124;43mo\u001b[39;49m\u001b[38;5;124;43m'\u001b[39;49m\u001b[43m,\u001b[49m\u001b[43m \u001b[49m\u001b[43mlabel\u001b[49m\u001b[38;5;241;43m=\u001b[39;49m\u001b[43mmetric\u001b[49m\u001b[43m)\u001b[49m\n\u001b[1;32m      6\u001b[0m plt\u001b[38;5;241m.\u001b[39mlegend(loc\u001b[38;5;241m=\u001b[39m\u001b[38;5;124m\"\u001b[39m\u001b[38;5;124mupper right\u001b[39m\u001b[38;5;124m\"\u001b[39m)\n\u001b[1;32m      7\u001b[0m plt\u001b[38;5;241m.\u001b[39mshow()\n",
      "File \u001b[0;32m~/.local/lib/python3.8/site-packages/matplotlib/pyplot.py:2730\u001b[0m, in \u001b[0;36mplot\u001b[0;34m(scalex, scaley, data, *args, **kwargs)\u001b[0m\n\u001b[1;32m   2728\u001b[0m \u001b[38;5;129m@_copy_docstring_and_deprecators\u001b[39m(Axes\u001b[38;5;241m.\u001b[39mplot)\n\u001b[1;32m   2729\u001b[0m \u001b[38;5;28;01mdef\u001b[39;00m \u001b[38;5;21mplot\u001b[39m(\u001b[38;5;241m*\u001b[39margs, scalex\u001b[38;5;241m=\u001b[39m\u001b[38;5;28;01mTrue\u001b[39;00m, scaley\u001b[38;5;241m=\u001b[39m\u001b[38;5;28;01mTrue\u001b[39;00m, data\u001b[38;5;241m=\u001b[39m\u001b[38;5;28;01mNone\u001b[39;00m, \u001b[38;5;241m*\u001b[39m\u001b[38;5;241m*\u001b[39mkwargs):\n\u001b[0;32m-> 2730\u001b[0m     \u001b[38;5;28;01mreturn\u001b[39;00m \u001b[43mgca\u001b[49m\u001b[43m(\u001b[49m\u001b[43m)\u001b[49m\u001b[38;5;241;43m.\u001b[39;49m\u001b[43mplot\u001b[49m\u001b[43m(\u001b[49m\n\u001b[1;32m   2731\u001b[0m \u001b[43m        \u001b[49m\u001b[38;5;241;43m*\u001b[39;49m\u001b[43margs\u001b[49m\u001b[43m,\u001b[49m\u001b[43m \u001b[49m\u001b[43mscalex\u001b[49m\u001b[38;5;241;43m=\u001b[39;49m\u001b[43mscalex\u001b[49m\u001b[43m,\u001b[49m\u001b[43m \u001b[49m\u001b[43mscaley\u001b[49m\u001b[38;5;241;43m=\u001b[39;49m\u001b[43mscaley\u001b[49m\u001b[43m,\u001b[49m\n\u001b[1;32m   2732\u001b[0m \u001b[43m        \u001b[49m\u001b[38;5;241;43m*\u001b[39;49m\u001b[38;5;241;43m*\u001b[39;49m\u001b[43m(\u001b[49m\u001b[43m{\u001b[49m\u001b[38;5;124;43m\"\u001b[39;49m\u001b[38;5;124;43mdata\u001b[39;49m\u001b[38;5;124;43m\"\u001b[39;49m\u001b[43m:\u001b[49m\u001b[43m \u001b[49m\u001b[43mdata\u001b[49m\u001b[43m}\u001b[49m\u001b[43m \u001b[49m\u001b[38;5;28;43;01mif\u001b[39;49;00m\u001b[43m \u001b[49m\u001b[43mdata\u001b[49m\u001b[43m \u001b[49m\u001b[38;5;129;43;01mis\u001b[39;49;00m\u001b[43m \u001b[49m\u001b[38;5;129;43;01mnot\u001b[39;49;00m\u001b[43m \u001b[49m\u001b[38;5;28;43;01mNone\u001b[39;49;00m\u001b[43m \u001b[49m\u001b[38;5;28;43;01melse\u001b[39;49;00m\u001b[43m \u001b[49m\u001b[43m{\u001b[49m\u001b[43m}\u001b[49m\u001b[43m)\u001b[49m\u001b[43m,\u001b[49m\u001b[43m \u001b[49m\u001b[38;5;241;43m*\u001b[39;49m\u001b[38;5;241;43m*\u001b[39;49m\u001b[43mkwargs\u001b[49m\u001b[43m)\u001b[49m\n",
      "File \u001b[0;32m~/.local/lib/python3.8/site-packages/matplotlib/axes/_axes.py:1662\u001b[0m, in \u001b[0;36mAxes.plot\u001b[0;34m(self, scalex, scaley, data, *args, **kwargs)\u001b[0m\n\u001b[1;32m   1419\u001b[0m \u001b[38;5;124;03m\"\"\"\u001b[39;00m\n\u001b[1;32m   1420\u001b[0m \u001b[38;5;124;03mPlot y versus x as lines and/or markers.\u001b[39;00m\n\u001b[1;32m   1421\u001b[0m \n\u001b[0;32m   (...)\u001b[0m\n\u001b[1;32m   1659\u001b[0m \u001b[38;5;124;03m(``'green'``) or hex strings (``'#008000'``).\u001b[39;00m\n\u001b[1;32m   1660\u001b[0m \u001b[38;5;124;03m\"\"\"\u001b[39;00m\n\u001b[1;32m   1661\u001b[0m kwargs \u001b[38;5;241m=\u001b[39m cbook\u001b[38;5;241m.\u001b[39mnormalize_kwargs(kwargs, mlines\u001b[38;5;241m.\u001b[39mLine2D)\n\u001b[0;32m-> 1662\u001b[0m lines \u001b[38;5;241m=\u001b[39m [\u001b[38;5;241m*\u001b[39m\u001b[38;5;28mself\u001b[39m\u001b[38;5;241m.\u001b[39m_get_lines(\u001b[38;5;241m*\u001b[39margs, data\u001b[38;5;241m=\u001b[39mdata, \u001b[38;5;241m*\u001b[39m\u001b[38;5;241m*\u001b[39mkwargs)]\n\u001b[1;32m   1663\u001b[0m \u001b[38;5;28;01mfor\u001b[39;00m line \u001b[38;5;129;01min\u001b[39;00m lines:\n\u001b[1;32m   1664\u001b[0m     \u001b[38;5;28mself\u001b[39m\u001b[38;5;241m.\u001b[39madd_line(line)\n",
      "File \u001b[0;32m~/.local/lib/python3.8/site-packages/matplotlib/axes/_base.py:311\u001b[0m, in \u001b[0;36m_process_plot_var_args.__call__\u001b[0;34m(self, data, *args, **kwargs)\u001b[0m\n\u001b[1;32m    309\u001b[0m     this \u001b[38;5;241m+\u001b[39m\u001b[38;5;241m=\u001b[39m args[\u001b[38;5;241m0\u001b[39m],\n\u001b[1;32m    310\u001b[0m     args \u001b[38;5;241m=\u001b[39m args[\u001b[38;5;241m1\u001b[39m:]\n\u001b[0;32m--> 311\u001b[0m \u001b[38;5;28;01myield from\u001b[39;00m \u001b[38;5;28;43mself\u001b[39;49m\u001b[38;5;241;43m.\u001b[39;49m\u001b[43m_plot_args\u001b[49m\u001b[43m(\u001b[49m\n\u001b[1;32m    312\u001b[0m \u001b[43m    \u001b[49m\u001b[43mthis\u001b[49m\u001b[43m,\u001b[49m\u001b[43m \u001b[49m\u001b[43mkwargs\u001b[49m\u001b[43m,\u001b[49m\u001b[43m \u001b[49m\u001b[43mambiguous_fmt_datakey\u001b[49m\u001b[38;5;241;43m=\u001b[39;49m\u001b[43mambiguous_fmt_datakey\u001b[49m\u001b[43m)\u001b[49m\n",
      "File \u001b[0;32m~/.local/lib/python3.8/site-packages/matplotlib/axes/_base.py:454\u001b[0m, in \u001b[0;36m_process_plot_var_args._plot_args\u001b[0;34m(self, tup, kwargs, return_kwargs, ambiguous_fmt_datakey)\u001b[0m\n\u001b[1;32m    451\u001b[0m \u001b[38;5;28;01mif\u001b[39;00m \u001b[38;5;28mlen\u001b[39m(tup) \u001b[38;5;241m>\u001b[39m \u001b[38;5;241m1\u001b[39m \u001b[38;5;129;01mand\u001b[39;00m \u001b[38;5;28misinstance\u001b[39m(tup[\u001b[38;5;241m-\u001b[39m\u001b[38;5;241m1\u001b[39m], \u001b[38;5;28mstr\u001b[39m):\n\u001b[1;32m    452\u001b[0m     \u001b[38;5;66;03m# xy is tup with fmt stripped (could still be (y,) only)\u001b[39;00m\n\u001b[1;32m    453\u001b[0m     \u001b[38;5;241m*\u001b[39mxy, fmt \u001b[38;5;241m=\u001b[39m tup\n\u001b[0;32m--> 454\u001b[0m     linestyle, marker, color \u001b[38;5;241m=\u001b[39m \u001b[43m_process_plot_format\u001b[49m\u001b[43m(\u001b[49m\n\u001b[1;32m    455\u001b[0m \u001b[43m        \u001b[49m\u001b[43mfmt\u001b[49m\u001b[43m,\u001b[49m\u001b[43m \u001b[49m\u001b[43mambiguous_fmt_datakey\u001b[49m\u001b[38;5;241;43m=\u001b[39;49m\u001b[43mambiguous_fmt_datakey\u001b[49m\u001b[43m)\u001b[49m\n\u001b[1;32m    456\u001b[0m \u001b[38;5;28;01melif\u001b[39;00m \u001b[38;5;28mlen\u001b[39m(tup) \u001b[38;5;241m==\u001b[39m \u001b[38;5;241m3\u001b[39m:\n\u001b[1;32m    457\u001b[0m     \u001b[38;5;28;01mraise\u001b[39;00m \u001b[38;5;167;01mValueError\u001b[39;00m(\u001b[38;5;124m'\u001b[39m\u001b[38;5;124mthird arg must be a format string\u001b[39m\u001b[38;5;124m'\u001b[39m)\n",
      "File \u001b[0;32m~/.local/lib/python3.8/site-packages/matplotlib/axes/_base.py:197\u001b[0m, in \u001b[0;36m_process_plot_format\u001b[0;34m(fmt, ambiguous_fmt_datakey)\u001b[0m\n\u001b[1;32m    195\u001b[0m         i \u001b[38;5;241m+\u001b[39m\u001b[38;5;241m=\u001b[39m \u001b[38;5;241m2\u001b[39m\n\u001b[1;32m    196\u001b[0m     \u001b[38;5;28;01melse\u001b[39;00m:\n\u001b[0;32m--> 197\u001b[0m         \u001b[38;5;28;01mraise\u001b[39;00m \u001b[38;5;167;01mValueError\u001b[39;00m(\n\u001b[1;32m    198\u001b[0m             errfmt\u001b[38;5;241m.\u001b[39mformat(fmt, \u001b[38;5;124mf\u001b[39m\u001b[38;5;124m\"\u001b[39m\u001b[38;5;124munrecognized character \u001b[39m\u001b[38;5;132;01m{\u001b[39;00mc\u001b[38;5;132;01m!r}\u001b[39;00m\u001b[38;5;124m\"\u001b[39m))\n\u001b[1;32m    200\u001b[0m \u001b[38;5;28;01mif\u001b[39;00m linestyle \u001b[38;5;129;01mis\u001b[39;00m \u001b[38;5;28;01mNone\u001b[39;00m \u001b[38;5;129;01mand\u001b[39;00m marker \u001b[38;5;129;01mis\u001b[39;00m \u001b[38;5;28;01mNone\u001b[39;00m:\n\u001b[1;32m    201\u001b[0m     linestyle \u001b[38;5;241m=\u001b[39m mpl\u001b[38;5;241m.\u001b[39mrcParams[\u001b[38;5;124m'\u001b[39m\u001b[38;5;124mlines.linestyle\u001b[39m\u001b[38;5;124m'\u001b[39m]\n",
      "\u001b[0;31mValueError\u001b[0m: 'recall' is neither a data key nor a valid format string (unrecognized character 'e')"
     ]
    },
    {
     "data": {
      "image/png": "[encoded data removed]",
      "text/plain": [
       "<Figure size 432x288 with 1 Axes>"
      ]
     },
     "metadata": {
      "needs_background": "light"
     },
     "output_type": "display_data"
    }
   ],
   "source": [
    "params = ['recall','precision','f1_score']\n",
    "\n",
    "for metric in params:\n",
    "    plt.plot('train_size', metric, data=df_res_mean.reset_index(), linestyle='-', marker='o', label=metric)\n",
    "\n",
    "plt.legend(loc=\"upper right\")\n",
    "plt.show()"
   ]
  },
  {
   "cell_type": "code",
   "execution_count": null,
   "id": "e6654f04",
   "metadata": {
    "ExecuteTime": {
     "end_time": "2022-10-10T14:13:18.346921Z",
     "start_time": "2022-10-10T14:13:18.225912Z"
    }
   },
   "outputs": [],
   "source": [
    "params = ['roc_auc','accuracy']\n",
    "\n",
    "for metric in params:\n",
    "    plt.plot('train_size', metric, data=df_res_mean.reset_index(), linestyle='-', marker='o', label=metric)\n",
    "\n",
    "plt.legend(loc=\"upper right\")\n",
    "plt.show()"
   ]
  },
  {
   "cell_type": "code",
   "execution_count": null,
   "id": "54dd7169",
   "metadata": {
    "ExecuteTime": {
     "end_time": "2022-10-10T14:13:29.718591Z",
     "start_time": "2022-10-10T14:13:29.697813Z"
    }
   },
   "outputs": [],
   "source": [
    "df_res #7"
   ]
  },
  {
   "cell_type": "code",
   "execution_count": null,
   "id": "9e71270f",
   "metadata": {
    "ExecuteTime": {
     "end_time": "2022-10-10T13:20:42.033000Z",
     "start_time": "2022-10-10T13:20:42.017671Z"
    }
   },
   "outputs": [],
   "source": [
    "df_res - 42"
   ]
  },
  {
   "cell_type": "code",
   "execution_count": null,
   "id": "c5a5284f",
   "metadata": {
    "ExecuteTime": {
     "end_time": "2022-10-10T13:11:07.229508Z",
     "start_time": "2022-10-10T13:11:07.213747Z"
    }
   },
   "outputs": [],
   "source": [
    "model.summary()"
   ]
  },
  {
   "cell_type": "code",
   "execution_count": null,
   "id": "87b3ffeb",
   "metadata": {
    "ExecuteTime": {
     "end_time": "2022-10-10T13:56:33.854963Z",
     "start_time": "2022-10-10T13:56:33.734267Z"
    }
   },
   "outputs": [],
   "source": [
    "skm.ConfusionMatrixDisplay.from_predictions(y_test, preds)\n",
    "plt.show()"
   ]
  },
  {
   "cell_type": "code",
   "execution_count": null,
   "id": "d1a01733",
   "metadata": {
    "ExecuteTime": {
     "end_time": "2022-10-10T14:12:26.641008Z",
     "start_time": "2022-10-10T14:12:26.624082Z"
    }
   },
   "outputs": [],
   "source": []
  },
  {
   "cell_type": "code",
   "execution_count": null,
   "id": "8c1b6e4e",
   "metadata": {
    "ExecuteTime": {
     "end_time": "2022-10-10T14:12:32.185073Z",
     "start_time": "2022-10-10T14:12:32.055854Z"
    },
    "scrolled": true
   },
   "outputs": [],
   "source": []
  },
  {
   "cell_type": "code",
   "execution_count": null,
   "id": "65931b3c",
   "metadata": {
    "ExecuteTime": {
     "end_time": "2022-10-05T19:23:29.643151Z",
     "start_time": "2022-10-05T19:23:24.521Z"
    }
   },
   "outputs": [],
   "source": [
    "tf.keras.backend.clear_session()"
   ]
  },
  {
   "cell_type": "code",
   "execution_count": null,
   "id": "6611da96",
   "metadata": {
    "ExecuteTime": {
     "end_time": "2022-10-05T19:23:29.643794Z",
     "start_time": "2022-10-05T19:23:24.522Z"
    }
   },
   "outputs": [],
   "source": [
    "model.summary()"
   ]
  },
  {
   "cell_type": "markdown",
   "id": "39b5d6c4",
   "metadata": {},
   "source": [
    "# sklearn"
   ]
  },
  {
   "cell_type": "code",
   "execution_count": null,
   "id": "0ec96c1e",
   "metadata": {
    "ExecuteTime": {
     "end_time": "2022-10-10T15:52:36.954801Z",
     "start_time": "2022-10-10T15:52:36.745374Z"
    }
   },
   "outputs": [],
   "source": [
    "from sklearn.linear_model import LogisticRegression\n",
    "\n",
    "df_res = pd.DataFrame()\n",
    "\n",
    "for train_subset_size in range(319, len(X_train_), 300):\n",
    "\n",
    "    X_subset = tf.slice(X_train_, begin=[0,0],size=[train_subset_size,100])\n",
    "    y_subset = y_train[:train_subset_size]\n",
    "    \n",
    "    LR = LogisticRegression(random_state=0,\n",
    "                            max_iter=200).fit(X_subset,\n",
    "                                              y_subset)\n",
    "    preds = np.round(LR.predict(X_test_))\n",
    "    df_res = pd.concat([df_res,\n",
    "                        pd.DataFrame.from_dict({'train_size':train_subset_size,\n",
    "                                                'accuracy': [skm.accuracy_score(preds, y_test)],\n",
    "                                                'auc': [skm.roc_auc_score(preds, y_test)],\n",
    "                                                'f1_score': [skm.f1_score(preds, y_test)],\n",
    "                                                'recall': [skm.recall_score(preds, y_test)],\n",
    "                                                'precision': [skm.precision_score(preds, y_test)]}\n",
    "                                              )])\n",
    "     "
   ]
  },
  {
   "cell_type": "code",
   "execution_count": null,
   "id": "0187e926",
   "metadata": {
    "ExecuteTime": {
     "end_time": "2022-10-10T15:52:37.644098Z",
     "start_time": "2022-10-10T15:52:37.628321Z"
    }
   },
   "outputs": [],
   "source": [
    "df_res"
   ]
  },
  {
   "cell_type": "code",
   "execution_count": null,
   "id": "f7eefa35",
   "metadata": {
    "ExecuteTime": {
     "end_time": "2022-10-10T15:52:12.678931Z",
     "start_time": "2022-10-10T15:52:12.669180Z"
    }
   },
   "outputs": [],
   "source": [
    "skm.roc_auc_score(preds, y_test)"
   ]
  },
  {
   "cell_type": "code",
   "execution_count": null,
   "id": "2ef943df",
   "metadata": {
    "ExecuteTime": {
     "end_time": "2022-10-10T15:52:48.648348Z",
     "start_time": "2022-10-10T15:52:48.643349Z"
    }
   },
   "outputs": [],
   "source": [
    "import matplotlib.pyplot as plt"
   ]
  },
  {
   "cell_type": "code",
   "execution_count": null,
   "id": "10a13115",
   "metadata": {
    "ExecuteTime": {
     "end_time": "2022-10-10T15:52:49.198832Z",
     "start_time": "2022-10-10T15:52:49.079836Z"
    }
   },
   "outputs": [],
   "source": [
    "params = ['recall','precision','f1_score','auc']\n",
    "\n",
    "for metric in params:\n",
    "    plt.plot('train_size', metric, data=df_res, linestyle='-', marker='o', label=metric)\n",
    "\n",
    "plt.legend(loc=\"lower right\")\n",
    "plt.show()"
   ]
  },
  {
   "cell_type": "code",
   "execution_count": null,
   "id": "f10c5c04",
   "metadata": {
    "ExecuteTime": {
     "end_time": "2022-10-02T07:26:46.865007Z",
     "start_time": "2022-10-02T07:26:46.849054Z"
    }
   },
   "outputs": [],
   "source": []
  },
  {
   "cell_type": "markdown",
   "id": "88e0e646",
   "metadata": {},
   "source": [
    "## modeling"
   ]
  },
  {
   "cell_type": "code",
   "execution_count": null,
   "id": "5f7aa612",
   "metadata": {
    "ExecuteTime": {
     "end_time": "2022-10-05T19:23:29.647084Z",
     "start_time": "2022-10-05T19:23:24.530Z"
    }
   },
   "outputs": [],
   "source": [
    "model = NeuralNetClassifier()"
   ]
  },
  {
   "cell_type": "code",
   "execution_count": null,
   "id": "7eb42dbe",
   "metadata": {
    "ExecuteTime": {
     "end_time": "2022-10-05T19:23:29.647685Z",
     "start_time": "2022-10-05T19:23:24.532Z"
    }
   },
   "outputs": [],
   "source": [
    "X_df = pd.DataFrame()\n",
    "\n",
    "for line in X:\n",
    "    X_df = pd.concat([X_df,pd.DataFrame.from_dict(line).T],sort=False)\n"
   ]
  },
  {
   "cell_type": "code",
   "execution_count": null,
   "id": "d7bc572c",
   "metadata": {
    "ExecuteTime": {
     "end_time": "2022-10-05T19:23:29.648294Z",
     "start_time": "2022-10-05T19:23:24.533Z"
    }
   },
   "outputs": [],
   "source": [
    "model.train_model(X_df,\n",
    "                  y,\n",
    "                  hyper_params_dict=space,\n",
    "                  hyper_opt_iterations=150)"
   ]
  },
  {
   "cell_type": "code",
   "execution_count": null,
   "id": "927ddc28",
   "metadata": {
    "ExecuteTime": {
     "end_time": "2022-10-05T19:23:29.648967Z",
     "start_time": "2022-10-05T19:23:24.535Z"
    }
   },
   "outputs": [],
   "source": [
    "model.write_model(\"SocialVec_gender_all.model\")"
   ]
  },
  {
   "cell_type": "markdown",
   "id": "8ad2e1dd",
   "metadata": {},
   "source": [
    "# temp"
   ]
  },
  {
   "cell_type": "code",
   "execution_count": null,
   "id": "dbdee330",
   "metadata": {
    "ExecuteTime": {
     "end_time": "2022-10-05T19:23:29.649637Z",
     "start_time": "2022-10-05T19:23:24.536Z"
    }
   },
   "outputs": [],
   "source": [
    "params = {}\n",
    "params['num_of_hidden_layers'] = 3\n",
    "params['hidden_layer_dim'] = { 0: 50, 1: 30, 2: 20 }"
   ]
  },
  {
   "cell_type": "code",
   "execution_count": null,
   "id": "7081da82",
   "metadata": {
    "ExecuteTime": {
     "end_time": "2022-10-05T19:23:29.650267Z",
     "start_time": "2022-10-05T19:23:24.538Z"
    }
   },
   "outputs": [],
   "source": [
    "for layer_num in range(0, params['num_of_hidden_layers']):\n",
    "    print(params['hidden_layer_dim'][layer_num])"
   ]
  },
  {
   "cell_type": "code",
   "execution_count": null,
   "id": "3e1c8157",
   "metadata": {},
   "outputs": [],
   "source": []
  }
 ],
 "metadata": {
  "kernelspec": {
   "display_name": "Python 3 (ipykernel)",
   "language": "python",
   "name": "python3"
  },
  "language_info": {
   "codemirror_mode": {
    "name": "ipython",
    "version": 3
   },
   "file_extension": ".py",
   "mimetype": "text/x-python",
   "name": "python",
   "nbconvert_exporter": "python",
   "pygments_lexer": "ipython3",
   "version": "3.8.13"
  },
  "toc": {
   "base_numbering": 1,
   "nav_menu": {},
   "number_sections": true,
   "sideBar": true,
   "skip_h1_title": false,
   "title_cell": "Table of Contents",
   "title_sidebar": "Contents",
   "toc_cell": false,
   "toc_position": {},
   "toc_section_display": true,
   "toc_window_display": true
  },
  "varInspector": {
   "cols": {
    "lenName": 16,
    "lenType": 16,
    "lenVar": 40
   },
   "kernels_config": {
    "python": {
     "delete_cmd_postfix": "",
     "delete_cmd_prefix": "del ",
     "library": "var_list.py",
     "varRefreshCmd": "print(var_dic_list())"
    },
    "r": {
     "delete_cmd_postfix": ") ",
     "delete_cmd_prefix": "rm(",
     "library": "var_list.r",
     "varRefreshCmd": "cat(var_dic_list()) "
    }
   },
   "types_to_exclude": [
    "module",
    "function",
    "builtin_function_or_method",
    "instance",
    "_Feature"
   ],
   "window_display": false
  },
  "vscode": {
   "interpreter": {
    "hash": "31f2aee4e71d21fbe5cf8b01ff0e069b9275f58929596ceb00d14d90e3e16cd6"
   }
  }
 },
 "nbformat": 4,
 "nbformat_minor": 5
}
