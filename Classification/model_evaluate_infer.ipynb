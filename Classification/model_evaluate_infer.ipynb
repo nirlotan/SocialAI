{
 "cells": [
  {
   "cell_type": "code",
   "execution_count": 441,
   "id": "bc697da9",
   "metadata": {
    "ExecuteTime": {
     "end_time": "2023-08-17T15:12:10.387889Z",
     "start_time": "2023-08-17T15:12:10.376568Z"
    }
   },
   "outputs": [],
   "source": [
    "import os\n",
    "import ast\n",
    "import pandas as pd\n",
    "import tensorflow as tf\n",
    "from tensorflow import keras\n",
    "import swifter\n",
    "from tqdm import tqdm\n",
    "import yaml\n",
    "\n",
    "from socialvec.socialvec import SocialVec\n",
    "\n",
    "tqdm.pandas()"
   ]
  },
  {
   "cell_type": "markdown",
   "id": "6b87426d",
   "metadata": {
    "heading_collapsed": true
   },
   "source": [
    "# Infer on Sagi's data"
   ]
  },
  {
   "cell_type": "code",
   "execution_count": 442,
   "id": "4dca3bea",
   "metadata": {
    "ExecuteTime": {
     "end_time": "2023-08-17T15:12:22.461285Z",
     "start_time": "2023-08-17T15:12:22.453425Z"
    },
    "hidden": true
   },
   "outputs": [],
   "source": [
    "import ast\n",
    "from socialvec.socialvec import SocialVec\n",
    "import pandas as pd\n",
    "import pickle\n",
    "import swifter"
   ]
  },
  {
   "cell_type": "code",
   "execution_count": 443,
   "id": "b7b6b3d8",
   "metadata": {
    "ExecuteTime": {
     "end_time": "2023-08-17T15:12:23.167148Z",
     "start_time": "2023-08-17T15:12:23.160557Z"
    },
    "hidden": true
   },
   "outputs": [],
   "source": [
    "import sys\n",
    "sys.path.append('models')\n",
    "from custom_loss import label_smoothing_loss"
   ]
  },
  {
   "cell_type": "code",
   "execution_count": 444,
   "id": "5b7036b5",
   "metadata": {
    "ExecuteTime": {
     "end_time": "2023-08-17T15:12:28.926363Z",
     "start_time": "2023-08-17T15:12:28.919941Z"
    },
    "hidden": true
   },
   "outputs": [],
   "source": [
    "# gender - \"models/Gender_2020_230807.pkl\"\n",
    "model_path = 'models/Political_2020_230816.pkl'"
   ]
  },
  {
   "cell_type": "code",
   "execution_count": 445,
   "id": "ad5a89b0",
   "metadata": {
    "ExecuteTime": {
     "end_time": "2023-08-17T15:12:30.026246Z",
     "start_time": "2023-08-17T15:12:29.935063Z"
    },
    "hidden": true
   },
   "outputs": [],
   "source": [
    "with open(model_path, 'rb') as file:\n",
    "    # Load the pickled object using pickle.load()\n",
    "    cls_model = pickle.load(file)"
   ]
  },
  {
   "cell_type": "code",
   "execution_count": 389,
   "id": "31c8283c",
   "metadata": {
    "ExecuteTime": {
     "end_time": "2023-08-17T11:17:26.622081Z",
     "start_time": "2023-08-17T11:17:24.851268Z"
    },
    "hidden": true
   },
   "outputs": [
    {
     "name": "stdout",
     "output_type": "stream",
     "text": [
      "\u001b[K✅ \u001b[0m Initialize Model[?25h\n",
      "\u001b[K✅ \u001b[0m Load Metadata[?25h\u001b[K\n"
     ]
    }
   ],
   "source": [
    "sv = SocialVec(cls_model['SocialVec_version'])"
   ]
  },
  {
   "cell_type": "code",
   "execution_count": 390,
   "id": "f03a8f60",
   "metadata": {
    "ExecuteTime": {
     "end_time": "2023-08-17T11:18:15.704654Z",
     "start_time": "2023-08-17T11:17:49.798080Z"
    },
    "hidden": true
   },
   "outputs": [],
   "source": [
    "df = pd.read_pickle('../../working_area/sagi/242K_political_users_with_followees.pkl', compression='gzip')"
   ]
  },
  {
   "cell_type": "markdown",
   "id": "ab616f65",
   "metadata": {
    "hidden": true
   },
   "source": [
    "## select a random sample"
   ]
  },
  {
   "cell_type": "code",
   "execution_count": 391,
   "id": "666cb3fb",
   "metadata": {
    "ExecuteTime": {
     "end_time": "2023-08-17T11:18:23.777203Z",
     "start_time": "2023-08-17T11:18:20.812622Z"
    },
    "hidden": true
   },
   "outputs": [],
   "source": [
    "df_attribues = pd.read_csv('../../working_area/sagi/242k_users_all_attributes.csv.gz',compression='gzip')\n",
    "\n",
    "df_attribues['user_id'] = df_attribues['user_id'].astype('str')\n",
    "df = pd.merge(df, df_attribues, on='user_id')\n",
    "\n",
    "df = df.sample(n=5000)"
   ]
  },
  {
   "cell_type": "code",
   "execution_count": 392,
   "id": "cad187b0",
   "metadata": {
    "ExecuteTime": {
     "end_time": "2023-08-17T11:18:26.640622Z",
     "start_time": "2023-08-17T11:18:26.631111Z"
    },
    "hidden": true
   },
   "outputs": [
    {
     "data": {
      "text/plain": [
       "(242004, 50)"
      ]
     },
     "execution_count": 392,
     "metadata": {},
     "output_type": "execute_result"
    }
   ],
   "source": [
    "df.shape"
   ]
  },
  {
   "cell_type": "markdown",
   "id": "0a6fbb13",
   "metadata": {
    "hidden": true
   },
   "source": [
    "## or select previously selected file"
   ]
  },
  {
   "cell_type": "code",
   "execution_count": null,
   "id": "f3bc5b5c",
   "metadata": {
    "ExecuteTime": {
     "end_time": "2023-08-07T12:41:59.442256Z",
     "start_time": "2023-08-07T12:41:57.698561Z"
    },
    "hidden": true
   },
   "outputs": [],
   "source": [
    "#df = pd.read_excel('artifacts/classification_with_gpt.xlsx')\n",
    "df_sg = pd.read_excel('artifacts/sagi_Sample_with_gender_v1.xlsx')\n",
    "df_sg.drop(columns=['Unnamed: 0','SocialVec_len','gender_prediction','gender_confidence','predicted_label'], inplace=True)\n",
    "df_sg.rename(columns={'political_tweets_x':'political_tweets','collected_tweets_x':'collected_tweets'},inplace=True)\n",
    "df['user_id'] = df['user_id'].astype(int)\n",
    "df = pd.merge(df_sg,df[['user_id','friends_ids']], on='user_id')"
   ]
  },
  {
   "cell_type": "markdown",
   "id": "143c1a55",
   "metadata": {
    "ExecuteTime": {
     "end_time": "2023-08-07T12:42:03.774770Z",
     "start_time": "2023-08-07T12:42:03.769536Z"
    },
    "hidden": true
   },
   "source": [
    "## continue to process"
   ]
  },
  {
   "cell_type": "code",
   "execution_count": 312,
   "id": "c6258fd7",
   "metadata": {
    "ExecuteTime": {
     "end_time": "2023-08-16T16:44:52.342826Z",
     "start_time": "2023-08-16T16:43:56.468642Z"
    },
    "hidden": true
   },
   "outputs": [
    {
     "data": {
      "application/vnd.jupyter.widget-view+json": {
       "model_id": "0564ef24770a4926bbb6d6ee985371d2",
       "version_major": 2,
       "version_minor": 0
      },
      "text/plain": [
       "Pandas Apply:   0%|          | 0/5000 [00:00<?, ?it/s]"
      ]
     },
     "metadata": {},
     "output_type": "display_data"
    }
   ],
   "source": [
    "def parse_and_flatten_me(arr):\n",
    "    arr = ast.literal_eval(arr)\n",
    "    try:\n",
    "        return arr[0]\n",
    "    except:\n",
    "        return arr\n",
    "    \n",
    "df[\"friends_ids\"]=df[\"friends_ids\"].swifter.apply(parse_and_flatten_me)"
   ]
  },
  {
   "cell_type": "markdown",
   "id": "06572ae6",
   "metadata": {
    "hidden": true
   },
   "source": [
    "## infer on subset pmi"
   ]
  },
  {
   "cell_type": "code",
   "execution_count": 313,
   "id": "eb7a642c",
   "metadata": {
    "ExecuteTime": {
     "end_time": "2023-08-16T16:44:58.482459Z",
     "start_time": "2023-08-16T16:44:53.516116Z"
    },
    "hidden": true
   },
   "outputs": [
    {
     "data": {
      "application/vnd.jupyter.widget-view+json": {
       "model_id": "4acce312e47948d4aa96a8de968f838a",
       "version_major": 2,
       "version_minor": 0
      },
      "text/plain": [
       "Pandas Apply:   0%|          | 0/5000 [00:00<?, ?it/s]"
      ]
     },
     "metadata": {},
     "output_type": "display_data"
    }
   ],
   "source": [
    "def get_sv( friends_ids ):\n",
    "    friends_ids_subset = [x for x in friends_ids if x in cls_model['relevant_accounts']]\n",
    "    return sv.get_average_embeddings(friends_ids_subset)\n",
    "\n",
    "df[['SocialVec', 'SocialVec_len']] = df.swifter.apply(\n",
    "    lambda x: get_sv(x['friends_ids']), axis=1, result_type=\"expand\")"
   ]
  },
  {
   "cell_type": "code",
   "execution_count": 314,
   "id": "7e1e27de",
   "metadata": {
    "ExecuteTime": {
     "end_time": "2023-08-16T16:45:00.133117Z",
     "start_time": "2023-08-16T16:45:00.108567Z"
    },
    "hidden": true
   },
   "outputs": [
    {
     "data": {
      "text/plain": [
       "2775"
      ]
     },
     "execution_count": 314,
     "metadata": {},
     "output_type": "execute_result"
    }
   ],
   "source": [
    "df[df['SocialVec_len']>=10].shape[0]"
   ]
  },
  {
   "cell_type": "code",
   "execution_count": 315,
   "id": "81645a2a",
   "metadata": {
    "ExecuteTime": {
     "end_time": "2023-08-16T16:45:05.778897Z",
     "start_time": "2023-08-16T16:45:05.768528Z"
    },
    "hidden": true
   },
   "outputs": [
    {
     "data": {
      "text/plain": [
       "(5000, 52)"
      ]
     },
     "execution_count": 315,
     "metadata": {},
     "output_type": "execute_result"
    }
   ],
   "source": [
    "df.shape"
   ]
  },
  {
   "cell_type": "code",
   "execution_count": 316,
   "id": "c4a4d1e7",
   "metadata": {
    "ExecuteTime": {
     "end_time": "2023-08-16T16:45:36.492382Z",
     "start_time": "2023-08-16T16:45:36.470744Z"
    },
    "hidden": true
   },
   "outputs": [
    {
     "name": "stdout",
     "output_type": "stream",
     "text": [
      "when filtering socialVec_len>10 we lose 2225 of the data\n"
     ]
    }
   ],
   "source": [
    "print(f\"when filtering socialVec_len>10 we lose { df[df['SocialVec_len']<10].shape[0]} of the data\")\n",
    "\n",
    "df = df[df['SocialVec_len']>=10]"
   ]
  },
  {
   "cell_type": "markdown",
   "id": "d62547f8",
   "metadata": {
    "hidden": true
   },
   "source": [
    "### Predict"
   ]
  },
  {
   "cell_type": "code",
   "execution_count": 317,
   "id": "ae9d92a1",
   "metadata": {
    "ExecuteTime": {
     "end_time": "2023-08-16T16:45:43.204433Z",
     "start_time": "2023-08-16T16:45:42.857287Z"
    },
    "hidden": true
   },
   "outputs": [
    {
     "name": "stdout",
     "output_type": "stream",
     "text": [
      "87/87 [==============================] - 0s 2ms/step\n"
     ]
    },
    {
     "name": "stderr",
     "output_type": "stream",
     "text": [
      "/tmp/ipykernel_4913/3276307817.py:6: SettingWithCopyWarning: \n",
      "A value is trying to be set on a copy of a slice from a DataFrame.\n",
      "Try using .loc[row_indexer,col_indexer] = value instead\n",
      "\n",
      "See the caveats in the documentation: https://pandas.pydata.org/pandas-docs/stable/user_guide/indexing.html#returning-a-view-versus-a-copy\n",
      "  df['gender_prediction'] = tf.argmax(preds, axis=1)\n",
      "/tmp/ipykernel_4913/3276307817.py:7: SettingWithCopyWarning: \n",
      "A value is trying to be set on a copy of a slice from a DataFrame.\n",
      "Try using .loc[row_indexer,col_indexer] = value instead\n",
      "\n",
      "See the caveats in the documentation: https://pandas.pydata.org/pandas-docs/stable/user_guide/indexing.html#returning-a-view-versus-a-copy\n",
      "  df['gender_confidence'] = np.max(preds, axis=1)\n"
     ]
    }
   ],
   "source": [
    "values = np.stack(df['SocialVec'].to_numpy())\n",
    "X = tf.constant(values)\n",
    "\n",
    "preds = cls_model['model'].predict(X)\n",
    "\n",
    "df[f\"{cls_model['attribute']}_prediction\"] = tf.argmax(preds, axis=1)\n",
    "df[f\"{cls_model['attribute']}_confidence\"] = np.max(preds, axis=1)\n"
   ]
  },
  {
   "cell_type": "code",
   "execution_count": 318,
   "id": "45a3d194",
   "metadata": {
    "ExecuteTime": {
     "end_time": "2023-08-16T16:45:46.616485Z",
     "start_time": "2023-08-16T16:45:46.604990Z"
    },
    "hidden": true
   },
   "outputs": [
    {
     "name": "stderr",
     "output_type": "stream",
     "text": [
      "/tmp/ipykernel_4913/2680030106.py:1: SettingWithCopyWarning: \n",
      "A value is trying to be set on a copy of a slice from a DataFrame.\n",
      "Try using .loc[row_indexer,col_indexer] = value instead\n",
      "\n",
      "See the caveats in the documentation: https://pandas.pydata.org/pandas-docs/stable/user_guide/indexing.html#returning-a-view-versus-a-copy\n",
      "  df['predicted_label'] = cls_model['labels'].inverse_transform(df['gender_prediction'])\n"
     ]
    }
   ],
   "source": [
    "df['predicted_label'] = cls_model['labels'].inverse_transform(df[f\"{cls_model['attribute']}_prediction\"])"
   ]
  },
  {
   "cell_type": "code",
   "execution_count": 319,
   "id": "ead3dde2",
   "metadata": {
    "ExecuteTime": {
     "end_time": "2023-08-16T16:45:49.037350Z",
     "start_time": "2023-08-16T16:45:49.021272Z"
    },
    "hidden": true
   },
   "outputs": [
    {
     "name": "stderr",
     "output_type": "stream",
     "text": [
      "/tmp/ipykernel_4913/1498718575.py:1: SettingWithCopyWarning: \n",
      "A value is trying to be set on a copy of a slice from a DataFrame\n",
      "\n",
      "See the caveats in the documentation: https://pandas.pydata.org/pandas-docs/stable/user_guide/indexing.html#returning-a-view-versus-a-copy\n",
      "  df.drop(columns=['SocialVec'], inplace=True)\n"
     ]
    }
   ],
   "source": [
    "df.drop(columns=['SocialVec'], inplace=True)"
   ]
  },
  {
   "cell_type": "code",
   "execution_count": 320,
   "id": "c5247732",
   "metadata": {
    "ExecuteTime": {
     "end_time": "2023-08-16T16:45:53.902350Z",
     "start_time": "2023-08-16T16:45:53.885090Z"
    },
    "hidden": true
   },
   "outputs": [],
   "source": [
    "df = df[df[f\"{cls_model['attribute']}_confidence\"]>=0.9]"
   ]
  },
  {
   "cell_type": "code",
   "execution_count": 322,
   "id": "a862aefb",
   "metadata": {
    "ExecuteTime": {
     "end_time": "2023-08-16T16:46:04.466646Z",
     "start_time": "2023-08-16T16:46:04.458574Z"
    },
    "hidden": true
   },
   "outputs": [],
   "source": [
    "from tqdm import tqdm\n",
    "tqdm.pandas()"
   ]
  },
  {
   "cell_type": "code",
   "execution_count": 323,
   "id": "5fb1e207",
   "metadata": {
    "ExecuteTime": {
     "end_time": "2023-08-16T16:46:04.880259Z",
     "start_time": "2023-08-16T16:46:04.876567Z"
    },
    "hidden": true
   },
   "outputs": [],
   "source": [
    "def get_name(account_name):\n",
    "    try:\n",
    "        return sv.get_screen_name(account_name)\n",
    "    except:\n",
    "        return ''"
   ]
  },
  {
   "cell_type": "code",
   "execution_count": 324,
   "id": "89387822",
   "metadata": {
    "ExecuteTime": {
     "end_time": "2023-08-16T16:46:08.887107Z",
     "start_time": "2023-08-16T16:46:08.878066Z"
    },
    "hidden": true
   },
   "outputs": [],
   "source": [
    "account_list = list(cls_model['relevant_accounts'])"
   ]
  },
  {
   "cell_type": "code",
   "execution_count": 325,
   "id": "823c4d1b",
   "metadata": {
    "ExecuteTime": {
     "end_time": "2023-08-16T16:46:13.992575Z",
     "start_time": "2023-08-16T16:46:13.938423Z"
    },
    "hidden": true
   },
   "outputs": [],
   "source": [
    "account_list_str = []\n",
    "for ac in account_list:\n",
    "    account_list_str.append(str(ac))"
   ]
  },
  {
   "cell_type": "code",
   "execution_count": 326,
   "id": "08ab4553",
   "metadata": {
    "ExecuteTime": {
     "end_time": "2023-08-16T16:58:00.040752Z",
     "start_time": "2023-08-16T16:46:16.053884Z"
    },
    "hidden": true
   },
   "outputs": [
    {
     "name": "stderr",
     "output_type": "stream",
     "text": [
      "100%|██████████| 20000/20000 [11:43<00:00, 28.41it/s]\n"
     ]
    }
   ],
   "source": [
    "account_mapping = {}\n",
    "\n",
    "for ac in tqdm(account_list_str):\n",
    "    account_mapping[ac] = get_name(ac)\n"
   ]
  },
  {
   "cell_type": "code",
   "execution_count": 327,
   "id": "07f280e0",
   "metadata": {
    "ExecuteTime": {
     "end_time": "2023-08-16T16:58:00.455470Z",
     "start_time": "2023-08-16T16:58:00.451200Z"
    },
    "hidden": true
   },
   "outputs": [],
   "source": [
    "def get_friends_account_names(friends_ids):\n",
    "    friends_ids_subset = [str(x) for x in friends_ids if x in cls_model['relevant_accounts']]\n",
    "    friends_names = [account_mapping[x] for x in friends_ids_subset]\n",
    "    return friends_names"
   ]
  },
  {
   "cell_type": "code",
   "execution_count": 328,
   "id": "ab7fe2b8",
   "metadata": {
    "ExecuteTime": {
     "end_time": "2023-08-16T16:58:01.850807Z",
     "start_time": "2023-08-16T16:58:00.863081Z"
    },
    "hidden": true
   },
   "outputs": [
    {
     "data": {
      "application/vnd.jupyter.widget-view+json": {
       "model_id": "a85e27f464a54cfaa685a0cbdec450a5",
       "version_major": 2,
       "version_minor": 0
      },
      "text/plain": [
       "Pandas Apply:   0%|          | 0/1755 [00:00<?, ?it/s]"
      ]
     },
     "metadata": {},
     "output_type": "display_data"
    }
   ],
   "source": [
    "\n",
    "# def get_friends_account_names(friends_ids):\n",
    "#     friends_ids_subset = [x for x in friends_ids if x in cls_model['relevant_accounts']]\n",
    "#     friends_names = [ get_name(x) for x in friends_ids_subset]\n",
    "#     return friends_names\n",
    "\n",
    "df['relevant_accounts'] = df['friends_ids'].swifter.apply(get_friends_account_names)\n",
    "df.drop(columns=['friends_ids'], inplace=True)"
   ]
  },
  {
   "cell_type": "code",
   "execution_count": 329,
   "id": "f61a3f05",
   "metadata": {
    "ExecuteTime": {
     "end_time": "2023-08-16T16:58:05.091270Z",
     "start_time": "2023-08-16T16:58:02.261540Z"
    },
    "hidden": true
   },
   "outputs": [],
   "source": [
    "df.to_excel('artifacts/sagi_Sample_with_political_v2.xlsx')"
   ]
  },
  {
   "cell_type": "markdown",
   "id": "b51f0730",
   "metadata": {},
   "source": [
    "# Infer on all of Sagi's data"
   ]
  },
  {
   "cell_type": "code",
   "execution_count": 446,
   "id": "3c525306",
   "metadata": {
    "ExecuteTime": {
     "end_time": "2023-08-17T15:13:05.200749Z",
     "start_time": "2023-08-17T15:12:37.396495Z"
    }
   },
   "outputs": [],
   "source": [
    "df = pd.read_pickle('../../working_area/sagi/242K_political_users_with_followees.pkl', compression='gzip')"
   ]
  },
  {
   "cell_type": "code",
   "execution_count": 447,
   "id": "a5410622",
   "metadata": {
    "ExecuteTime": {
     "end_time": "2023-08-17T15:13:09.040180Z",
     "start_time": "2023-08-17T15:13:05.658484Z"
    }
   },
   "outputs": [],
   "source": [
    "df_attribues = pd.read_csv('../../working_area/sagi/242k_users_all_attributes.csv.gz',compression='gzip')\n",
    "\n",
    "df_attribues['user_id'] = df_attribues['user_id'].astype('str')\n",
    "df = pd.merge(df, df_attribues, on='user_id')\n"
   ]
  },
  {
   "cell_type": "code",
   "execution_count": null,
   "id": "a7b60409",
   "metadata": {
    "ExecuteTime": {
     "end_time": "2023-08-17T16:17:52.508702Z",
     "start_time": "2023-08-17T15:13:09.666993Z"
    }
   },
   "outputs": [],
   "source": [
    "def parse_and_flatten_me(arr):\n",
    "    arr = ast.literal_eval(arr)\n",
    "    try:\n",
    "        return arr[0]\n",
    "    except:\n",
    "        return arr\n",
    "    \n",
    "df[\"friends_ids\"]=df[\"friends_ids\"].swifter.apply(parse_and_flatten_me)"
   ]
  },
  {
   "cell_type": "code",
   "execution_count": null,
   "id": "2f361cc3",
   "metadata": {
    "ExecuteTime": {
     "end_time": "2023-08-17T16:21:34.358928Z",
     "start_time": "2023-08-17T16:17:53.132024Z"
    }
   },
   "outputs": [],
   "source": [
    "def get_sv( friends_ids ):\n",
    "    friends_ids_subset = [x for x in friends_ids if x in cls_model['relevant_accounts']]\n",
    "    return sv.get_average_embeddings(friends_ids_subset)\n",
    "\n",
    "df[['SocialVec', 'SocialVec_len']] = df.swifter.apply(\n",
    "    lambda x: get_sv(x['friends_ids']), axis=1, result_type=\"expand\")"
   ]
  },
  {
   "cell_type": "code",
   "execution_count": 450,
   "id": "17ca8f40",
   "metadata": {
    "ExecuteTime": {
     "end_time": "2023-08-17T17:22:20.267804Z",
     "start_time": "2023-08-17T17:22:20.086587Z"
    }
   },
   "outputs": [
    {
     "name": "stdout",
     "output_type": "stream",
     "text": [
      "Initial number of users 242,004\n",
      "Number of users with SocialVec_len>10 135,305\n"
     ]
    }
   ],
   "source": [
    "print(f\"Initial number of users {df.shape[0]:,}\")\n",
    "print(f\"Number of users with SocialVec_len>10 {df[df['SocialVec_len']>=10].shape[0]:,}\")"
   ]
  },
  {
   "cell_type": "code",
   "execution_count": 451,
   "id": "0f24a499",
   "metadata": {
    "ExecuteTime": {
     "end_time": "2023-08-17T17:23:45.962347Z",
     "start_time": "2023-08-17T17:23:45.889000Z"
    }
   },
   "outputs": [],
   "source": [
    "df = df[df['SocialVec_len']>=10]"
   ]
  },
  {
   "cell_type": "markdown",
   "id": "1322c2f2",
   "metadata": {},
   "source": [
    "### Predict"
   ]
  },
  {
   "cell_type": "code",
   "execution_count": null,
   "id": "c7639101",
   "metadata": {
    "ExecuteTime": {
     "end_time": "2023-08-17T17:23:59.465023Z",
     "start_time": "2023-08-17T17:23:48.673558Z"
    }
   },
   "outputs": [],
   "source": [
    "values = np.stack(df['SocialVec'].to_numpy())\n",
    "X = tf.constant(values)\n",
    "\n",
    "preds = cls_model['model'].predict(X)\n",
    "\n",
    "df[f\"{cls_model['attribute']}_prediction\"] = tf.argmax(preds, axis=1)\n",
    "df[f\"{cls_model['attribute']}_confidence\"] = np.max(preds, axis=1)"
   ]
  },
  {
   "cell_type": "code",
   "execution_count": 453,
   "id": "2bc3fd3c",
   "metadata": {
    "ExecuteTime": {
     "end_time": "2023-08-17T17:24:19.602220Z",
     "start_time": "2023-08-17T17:24:19.550007Z"
    }
   },
   "outputs": [
    {
     "name": "stdout",
     "output_type": "stream",
     "text": [
      "Number of users with confidence>0.9: 85,083\n"
     ]
    }
   ],
   "source": [
    "txt = f\"{cls_model['attribute']}_confidence\"\n",
    "print(f\"Number of users with confidence>0.9: {df[df[txt]>0.9].shape[0]:,}\")"
   ]
  },
  {
   "cell_type": "code",
   "execution_count": 454,
   "id": "673c7d72",
   "metadata": {
    "ExecuteTime": {
     "end_time": "2023-08-17T17:24:26.527921Z",
     "start_time": "2023-08-17T17:24:26.458572Z"
    }
   },
   "outputs": [],
   "source": [
    "df = df[df[txt]>0.9]"
   ]
  },
  {
   "cell_type": "code",
   "execution_count": 455,
   "id": "3c219610",
   "metadata": {
    "ExecuteTime": {
     "end_time": "2023-08-17T17:24:30.782106Z",
     "start_time": "2023-08-17T17:24:30.765880Z"
    }
   },
   "outputs": [],
   "source": [
    "df['predicted_label'] = cls_model['labels'].inverse_transform(df[f\"{cls_model['attribute']}_prediction\"])"
   ]
  },
  {
   "cell_type": "code",
   "execution_count": 456,
   "id": "a2393ee5",
   "metadata": {
    "ExecuteTime": {
     "end_time": "2023-08-17T17:24:32.517514Z",
     "start_time": "2023-08-17T17:24:32.484973Z"
    }
   },
   "outputs": [
    {
     "data": {
      "text/plain": [
       "Republican   0.514\n",
       "Democrat     0.486\n",
       "Name: predicted_label, dtype: float64"
      ]
     },
     "execution_count": 456,
     "metadata": {},
     "output_type": "execute_result"
    }
   ],
   "source": [
    "df['predicted_label'].value_counts(normalize=True)"
   ]
  },
  {
   "cell_type": "code",
   "execution_count": 353,
   "id": "3a82008e",
   "metadata": {
    "ExecuteTime": {
     "end_time": "2023-08-16T18:49:12.072760Z",
     "start_time": "2023-08-16T18:49:12.066250Z"
    }
   },
   "outputs": [],
   "source": [
    "import seaborn as sns"
   ]
  },
  {
   "cell_type": "code",
   "execution_count": 354,
   "id": "c7ddc6de",
   "metadata": {
    "ExecuteTime": {
     "end_time": "2023-08-16T18:49:13.807537Z",
     "start_time": "2023-08-16T18:49:12.922227Z"
    }
   },
   "outputs": [
    {
     "data": {
      "text/plain": [
       "<AxesSubplot: xlabel='political_tweets_x', ylabel='Density'>"
      ]
     },
     "execution_count": 354,
     "metadata": {},
     "output_type": "execute_result"
    },
    {
     "data": {
      "image/png": "[encoded data removed]",
      "text/plain": [
       "<Figure size 432x288 with 1 Axes>"
      ]
     },
     "metadata": {
      "needs_background": "light"
     },
     "output_type": "display_data"
    }
   ],
   "source": [
    "sns.distplot(df['political_tweets_x'], bins=25, color=\"g\")"
   ]
  },
  {
   "cell_type": "code",
   "execution_count": null,
   "id": "3dc1611f",
   "metadata": {
    "ExecuteTime": {
     "end_time": "2023-08-09T09:56:45.278128Z",
     "start_time": "2023-08-09T09:56:45.274855Z"
    }
   },
   "outputs": [],
   "source": [
    "from statsmodels.stats.weightstats import ztest as ztest"
   ]
  },
  {
   "cell_type": "code",
   "execution_count": 457,
   "id": "caefc795",
   "metadata": {
    "ExecuteTime": {
     "end_time": "2023-08-17T17:24:48.362404Z",
     "start_time": "2023-08-17T17:24:48.321903Z"
    }
   },
   "outputs": [
    {
     "name": "stdout",
     "output_type": "stream",
     "text": [
      "class1 is Democrat, class2 is Republican\n"
     ]
    }
   ],
   "source": [
    "class1 = df['predicted_label'].unique()[0]\n",
    "class2 = df['predicted_label'].unique()[1]\n",
    "\n",
    "print(f\"class1 is {class1}, class2 is {class2}\")"
   ]
  },
  {
   "cell_type": "code",
   "execution_count": 361,
   "id": "6b329bfa",
   "metadata": {
    "ExecuteTime": {
     "end_time": "2023-08-16T18:50:30.067745Z",
     "start_time": "2023-08-16T18:50:29.973313Z"
    }
   },
   "outputs": [
    {
     "data": {
      "text/plain": [
       "(-22.99088465949304, 5.750547130257188e-117)"
      ]
     },
     "execution_count": 361,
     "metadata": {},
     "output_type": "execute_result"
    }
   ],
   "source": [
    "ztest(df[df['predicted_label']==class1]['political_tweets_x'].values,\n",
    "      df[df['predicted_label']==class2]['political_tweets_x'].values)"
   ]
  },
  {
   "cell_type": "code",
   "execution_count": 362,
   "id": "abb45f46",
   "metadata": {
    "ExecuteTime": {
     "end_time": "2023-08-16T18:50:46.708013Z",
     "start_time": "2023-08-16T18:50:46.616142Z"
    }
   },
   "outputs": [
    {
     "data": {
      "text/plain": [
       "(-3.1549012703522834, 0.0016055242617860894)"
      ]
     },
     "execution_count": 362,
     "metadata": {},
     "output_type": "execute_result"
    }
   ],
   "source": [
    "ztest(df[df['predicted_label']==class1]['into_tweets_%_collected_tweets'].values,\n",
    "      df[df['predicted_label']==class2]['into_tweets_%_collected_tweets'].values)\n"
   ]
  },
  {
   "cell_type": "code",
   "execution_count": 364,
   "id": "48702647",
   "metadata": {
    "ExecuteTime": {
     "end_time": "2023-08-16T18:51:22.452573Z",
     "start_time": "2023-08-16T18:51:22.393638Z"
    }
   },
   "outputs": [
    {
     "data": {
      "text/plain": [
       "2.8222905830275464"
      ]
     },
     "execution_count": 364,
     "metadata": {},
     "output_type": "execute_result"
    }
   ],
   "source": [
    "df[df['predicted_label']==class1]['into_tweets_%_collected_tweets'].mean()"
   ]
  },
  {
   "cell_type": "code",
   "execution_count": 365,
   "id": "46455635",
   "metadata": {
    "ExecuteTime": {
     "end_time": "2023-08-16T18:51:23.166034Z",
     "start_time": "2023-08-16T18:51:23.126322Z"
    }
   },
   "outputs": [
    {
     "data": {
      "text/plain": [
       "2.932057758191577"
      ]
     },
     "execution_count": 365,
     "metadata": {},
     "output_type": "execute_result"
    }
   ],
   "source": [
    "df[df['predicted_label']==class2]['into_tweets_%_collected_tweets'].mean()"
   ]
  },
  {
   "cell_type": "markdown",
   "id": "6b76f99d",
   "metadata": {},
   "source": [
    "Since this p-value is less than .05, we have sufficient evidence to reject the null hypothesis. In other words, the mean level of political_tweets is significantly different between the two genders."
   ]
  },
  {
   "cell_type": "code",
   "execution_count": 366,
   "id": "b5922e56",
   "metadata": {
    "ExecuteTime": {
     "end_time": "2023-08-16T18:51:39.546234Z",
     "start_time": "2023-08-16T18:51:38.257820Z"
    }
   },
   "outputs": [
    {
     "data": {
      "text/plain": [
       "<AxesSubplot: xlabel='political_tweets_x', ylabel='Count'>"
      ]
     },
     "execution_count": 366,
     "metadata": {},
     "output_type": "execute_result"
    },
    {
     "data": {
      "image/png": "[encoded data removed]",
      "text/plain": [
       "<Figure size 432x288 with 1 Axes>"
      ]
     },
     "metadata": {
      "needs_background": "light"
     },
     "output_type": "display_data"
    }
   ],
   "source": [
    "sns.histplot(data=df, x='political_tweets_x', \n",
    "             bins=25, color=\"g\",\n",
    "             hue='predicted_label',\n",
    "             cumulative = False,\n",
    "             thresh=1000,\n",
    "             kde=True,\n",
    "            common_norm = False)\n"
   ]
  },
  {
   "cell_type": "code",
   "execution_count": null,
   "id": "b58ca51b",
   "metadata": {
    "ExecuteTime": {
     "end_time": "2023-08-10T08:45:03.248355Z",
     "start_time": "2023-08-10T08:45:03.236059Z"
    }
   },
   "outputs": [],
   "source": [
    "df.columns"
   ]
  },
  {
   "cell_type": "code",
   "execution_count": null,
   "id": "d78f238a",
   "metadata": {
    "ExecuteTime": {
     "end_time": "2023-08-09T10:39:16.665787Z",
     "start_time": "2023-08-09T10:39:16.620691Z"
    }
   },
   "outputs": [],
   "source": [
    "hist_values, bin_edges = np.histogram(df[df['predicted_label']=='Female']['political_tweets_x'], bins=50)  # Adjust the number of bins as needed\n",
    "hist_df = pd.DataFrame({'bin_edges': bin_edges[:-1], 'hist_occurrences': hist_values})"
   ]
  },
  {
   "cell_type": "code",
   "execution_count": null,
   "id": "e3d47301",
   "metadata": {
    "ExecuteTime": {
     "end_time": "2023-08-09T10:38:29.744870Z",
     "start_time": "2023-08-09T10:38:29.738164Z"
    }
   },
   "outputs": [],
   "source": [
    "import matplotlib.pyplot as plt"
   ]
  },
  {
   "cell_type": "code",
   "execution_count": null,
   "id": "ab24ce97",
   "metadata": {
    "ExecuteTime": {
     "end_time": "2023-08-09T10:39:11.628994Z",
     "start_time": "2023-08-09T10:39:11.380153Z"
    }
   },
   "outputs": [],
   "source": [
    "plt.bar(hist_df['bin_edges'], hist_df['hist_occurrences'], width=bin_edges[1] - bin_edges[0])"
   ]
  },
  {
   "cell_type": "code",
   "execution_count": null,
   "id": "4a10b018",
   "metadata": {
    "ExecuteTime": {
     "end_time": "2023-08-09T10:39:21.887874Z",
     "start_time": "2023-08-09T10:39:21.650026Z"
    }
   },
   "outputs": [],
   "source": [
    "plt.bar(hist_df['bin_edges'], hist_df['hist_occurrences'], width=bin_edges[1] - bin_edges[0])"
   ]
  },
  {
   "cell_type": "markdown",
   "id": "c208f929",
   "metadata": {},
   "source": [
    "* check ratio political\n"
   ]
  },
  {
   "cell_type": "code",
   "execution_count": 458,
   "id": "d3ba9541",
   "metadata": {
    "ExecuteTime": {
     "end_time": "2023-08-17T17:24:59.423985Z",
     "start_time": "2023-08-17T17:24:59.414081Z"
    }
   },
   "outputs": [],
   "source": [
    "df.rename(columns={\"political_tweets_x\":\"political_tweets\",\"collected_tweets_x\":\"collected_tweets\"}, inplace=True)"
   ]
  },
  {
   "cell_type": "code",
   "execution_count": 459,
   "id": "7d1b4fdb",
   "metadata": {
    "ExecuteTime": {
     "end_time": "2023-08-17T17:25:01.239943Z",
     "start_time": "2023-08-17T17:25:01.218378Z"
    }
   },
   "outputs": [],
   "source": [
    "df['political_ratio'] = df['political_tweets']/df['collected_tweets']\n",
    "df['intollerant_ratio'] = df['into_tweets']/df['political_tweets']\n",
    "df['impolite_ratio'] = df['impo_tweets']/df['political_tweets']\n",
    "df['uncivil_ratio'] = (df['into_tweets']+df['impo_tweets'])/df['political_tweets']"
   ]
  },
  {
   "cell_type": "code",
   "execution_count": 460,
   "id": "9611838c",
   "metadata": {
    "ExecuteTime": {
     "end_time": "2023-08-17T17:25:03.006897Z",
     "start_time": "2023-08-17T17:25:02.843191Z"
    }
   },
   "outputs": [],
   "source": [
    "df1 = df[df[\"predicted_label\"]==class1].copy()\n",
    "df2 = df[df[\"predicted_label\"]==class2].copy()"
   ]
  },
  {
   "cell_type": "code",
   "execution_count": 461,
   "id": "3e37d626",
   "metadata": {
    "ExecuteTime": {
     "end_time": "2023-08-17T17:25:05.158415Z",
     "start_time": "2023-08-17T17:25:05.150554Z"
    }
   },
   "outputs": [],
   "source": [
    "interesting_columns = [ 'political_tweets',\t'collected_tweets',\t'into_tweets',\t'impo_tweets',\n",
    "                       'political_ratio',\t'intollerant_ratio',\n",
    "                       'impolite_ratio',\t'uncivil_ratio']"
   ]
  },
  {
   "cell_type": "code",
   "execution_count": 462,
   "id": "e8985eee",
   "metadata": {
    "ExecuteTime": {
     "end_time": "2023-08-17T17:25:06.879246Z",
     "start_time": "2023-08-17T17:25:06.869491Z"
    }
   },
   "outputs": [
    {
     "data": {
      "text/plain": [
       "(16660,)"
      ]
     },
     "execution_count": 462,
     "metadata": {},
     "output_type": "execute_result"
    }
   ],
   "source": [
    "population2.shape"
   ]
  },
  {
   "cell_type": "code",
   "execution_count": 464,
   "id": "97376033",
   "metadata": {
    "ExecuteTime": {
     "end_time": "2023-08-17T17:26:02.912416Z",
     "start_time": "2023-08-17T17:26:02.871814Z"
    }
   },
   "outputs": [
    {
     "name": "stdout",
     "output_type": "stream",
     "text": [
      "political_tweets;14.878;12.247;-22.99;0.00000;0.00000\n",
      "collected_tweets;129.495;121.026;-20.43;0.00000;0.00000\n",
      "into_tweets;3.581;2.923;-16.98;0.00000;0.00000\n",
      "impo_tweets;4.693;3.442;-30.41;0.00000;0.00000\n",
      "political_ratio;0.121;0.115;-7.79;0.00000;0.00000\n",
      "intollerant_ratio;0.202;0.198;-2.41;0.01580;0.01580\n",
      "impolite_ratio;0.311;0.297;-7.02;0.00000;0.00000\n",
      "uncivil_ratio;0.512;0.495;-6.64;0.00000;0.00000\n"
     ]
    }
   ],
   "source": [
    "for columns_to_check in interesting_columns:\n",
    "    population1 = df1[columns_to_check].values\n",
    "    population2 = df2[columns_to_check].values\n",
    "\n",
    "    t_statistic, p_value = stats.ttest_ind(population1, population2)\n",
    "    t_statistic, p_value2 = ztest(population1, population2)\n",
    "    print(f\"{columns_to_check};{np.mean(population2):.3f};{np.mean(population1):.3f};{t_statistic:.2f};{p_value:.5f};{p_value2:.5f}\")"
   ]
  },
  {
   "cell_type": "code",
   "execution_count": 468,
   "id": "2a8c1d65",
   "metadata": {
    "ExecuteTime": {
     "end_time": "2023-08-17T17:28:17.189257Z",
     "start_time": "2023-08-17T17:27:15.552898Z"
    }
   },
   "outputs": [],
   "source": [
    "df.drop(columns=['friends_ids','political_prediction_new', 'NumOfPopular_political_new',\n",
    "       'gender_prediction_label', 'gender_prediction', 'NumOfPopular_gender',\n",
    "       'age_prediction_label', 'age_prediction', 'NumOfPopular_age',\n",
    "       'children_prediction_label', 'children_prediction',\n",
    "       'NumOfPopular_children', 'education_prediction_label',\n",
    "       'education_prediction', 'NumOfPopular_education',\n",
    "       'income_prediction_label', 'income_prediction', 'NumOfPopular_income',\n",
    "       'race_prediction_label', 'race_prediction', 'NumOfPopular_race',\n",
    "       'political_prediction_label_old', 'political_prediction_old',\n",
    "       'NumOfPopular_political_old', 'SocialVec', 'SocialVec_len','Unnamed: 0','favourites_count',\n",
    "                'friends_count','followers_count','verified','listed_count','statuses_count',\n",
    "                'created_at','collected_at','political_prediction_label_new', 'Political_prediction',\n",
    "                'collected_tweets_y','political_tweets_y',\n",
    "                'into_tweets_%_political','impo_tweets_%_political','political_%_collected_tweets',\n",
    "                'into_tweets_%_collected_tweets','impo_tweets_%_collected_tweets']).to_excel('242k_political.xlsx')"
   ]
  },
  {
   "cell_type": "code",
   "execution_count": 383,
   "id": "d64dfb60",
   "metadata": {
    "ExecuteTime": {
     "end_time": "2023-08-16T19:01:58.648747Z",
     "start_time": "2023-08-16T19:01:57.440642Z"
    }
   },
   "outputs": [
    {
     "data": {
      "text/plain": [
       "<AxesSubplot: xlabel='impolite_ratio', ylabel='Count'>"
      ]
     },
     "execution_count": 383,
     "metadata": {},
     "output_type": "execute_result"
    },
    {
     "data": {
      "image/png": "[encoded data removed]",
      "text/plain": [
       "<Figure size 432x288 with 1 Axes>"
      ]
     },
     "metadata": {
      "needs_background": "light"
     },
     "output_type": "display_data"
    }
   ],
   "source": [
    "sns.histplot(data=df, x='impolite_ratio', \n",
    "             bins=25, color=\"g\",\n",
    "             hue='predicted_label',\n",
    "             cumulative = False,\n",
    "             thresh=1000,\n",
    "             kde=True,\n",
    "            common_norm = False)\n"
   ]
  },
  {
   "cell_type": "markdown",
   "id": "e181d4ae",
   "metadata": {},
   "source": [
    "# Compare with Einat's calculations"
   ]
  },
  {
   "cell_type": "code",
   "execution_count": null,
   "id": "00c4b6b8",
   "metadata": {
    "ExecuteTime": {
     "end_time": "2023-08-11T10:05:04.809679Z",
     "start_time": "2023-08-11T10:05:04.347045Z"
    }
   },
   "outputs": [],
   "source": [
    "df_subset = pd.read_excel('artifacts/sagi_Sample_with_gender_v2.xlsx')"
   ]
  },
  {
   "cell_type": "code",
   "execution_count": null,
   "id": "3a35ad82",
   "metadata": {
    "ExecuteTime": {
     "end_time": "2023-08-11T10:12:34.261470Z",
     "start_time": "2023-08-11T10:12:34.242791Z"
    }
   },
   "outputs": [],
   "source": [
    "df_subset['political_ratio'] = df_subset['political_tweets']/df_subset['collected_tweets']\n",
    "df_subset['intollerant_ratio'] = df_subset['into_tweets']/df_subset['political_tweets']\n",
    "df_subset['impolite_ratio'] = df_subset['impo_tweets']/df_subset['political_tweets']\n",
    "df_subset['uncivil_ratio'] = (df_subset['into_tweets']+df_subset['impo_tweets'])/df_subset['political_tweets']"
   ]
  },
  {
   "cell_type": "code",
   "execution_count": null,
   "id": "7f766591",
   "metadata": {
    "ExecuteTime": {
     "end_time": "2023-08-11T10:15:59.714873Z",
     "start_time": "2023-08-11T10:15:59.707403Z"
    }
   },
   "outputs": [],
   "source": [
    "pd.set_option('display.float_format', lambda x: '%.3f' % x)"
   ]
  },
  {
   "cell_type": "code",
   "execution_count": null,
   "id": "2b965c82",
   "metadata": {
    "ExecuteTime": {
     "end_time": "2023-08-11T10:18:10.411309Z",
     "start_time": "2023-08-11T10:18:10.370822Z"
    }
   },
   "outputs": [],
   "source": [
    "df_subset.groupby(by=\"predicted_label\").sum().T"
   ]
  },
  {
   "cell_type": "code",
   "execution_count": null,
   "id": "a801d1c0",
   "metadata": {
    "ExecuteTime": {
     "end_time": "2023-08-11T10:19:47.585479Z",
     "start_time": "2023-08-11T10:19:47.575816Z"
    }
   },
   "outputs": [],
   "source": [
    "1.5 / 9.23"
   ]
  },
  {
   "cell_type": "code",
   "execution_count": null,
   "id": "8191786d",
   "metadata": {
    "ExecuteTime": {
     "end_time": "2023-08-13T19:52:26.643264Z",
     "start_time": "2023-08-13T19:52:26.614288Z"
    }
   },
   "outputs": [],
   "source": [
    "df_subset.groupby(by=\"predicted_label\").std().T"
   ]
  },
  {
   "cell_type": "code",
   "execution_count": null,
   "id": "08bfefcf",
   "metadata": {
    "ExecuteTime": {
     "end_time": "2023-08-11T10:38:18.245838Z",
     "start_time": "2023-08-11T10:38:18.239137Z"
    }
   },
   "outputs": [],
   "source": [
    "import scipy.stats as stats"
   ]
  },
  {
   "cell_type": "code",
   "execution_count": null,
   "id": "4337e84d",
   "metadata": {
    "ExecuteTime": {
     "end_time": "2023-08-13T19:48:13.357188Z",
     "start_time": "2023-08-13T19:48:13.331631Z"
    }
   },
   "outputs": [],
   "source": [
    "df1 = df_subset[df_subset[\"predicted_label\"]==\"Male\"].copy()\n",
    "df2 = df_subset[df_subset[\"predicted_label\"]==\"Female\"].copy()"
   ]
  },
  {
   "cell_type": "code",
   "execution_count": null,
   "id": "106796fc",
   "metadata": {
    "ExecuteTime": {
     "end_time": "2023-08-13T19:48:24.576154Z",
     "start_time": "2023-08-13T19:48:24.568179Z"
    }
   },
   "outputs": [],
   "source": [
    "interesting_columns = [ 'political_tweets',\t'collected_tweets',\t'into_tweets',\t'impo_tweets',\n",
    "                       'political_ratio',\t'intollerant_ratio',\n",
    "                       'impolite_ratio',\t'uncivil_ratio']"
   ]
  },
  {
   "cell_type": "code",
   "execution_count": null,
   "id": "a42ae34d",
   "metadata": {
    "ExecuteTime": {
     "end_time": "2023-08-13T19:48:54.169332Z",
     "start_time": "2023-08-13T19:48:54.144327Z"
    }
   },
   "outputs": [],
   "source": [
    "for columns_to_check in interesting_columns:\n",
    "    population1 = df1[columns_to_check].values\n",
    "    population2 = df2[columns_to_check].values\n",
    "\n",
    "    t_statistic, p_value = stats.ttest_ind(population1, population2)\n",
    "    t_statistic, p_value2 = ztest(population1, population2)\n",
    "    print(f\"{columns_to_check};{np.mean(population2):.3f};{np.mean(population1):.3f};{t_statistic:.2f};{p_value:.5f};{p_value2:.5f}\")"
   ]
  },
  {
   "cell_type": "code",
   "execution_count": null,
   "id": "b8963c13",
   "metadata": {
    "ExecuteTime": {
     "end_time": "2023-08-11T12:04:54.566851Z",
     "start_time": "2023-08-11T12:04:54.555186Z"
    }
   },
   "outputs": [],
   "source": [
    "ztest(population1, population2)[1]"
   ]
  },
  {
   "cell_type": "markdown",
   "id": "dea26a64",
   "metadata": {},
   "source": [
    "# Back to the full dataset"
   ]
  },
  {
   "cell_type": "code",
   "execution_count": null,
   "id": "1be69da5",
   "metadata": {
    "ExecuteTime": {
     "end_time": "2023-08-11T12:21:59.623014Z",
     "start_time": "2023-08-11T12:21:59.612931Z"
    }
   },
   "outputs": [],
   "source": [
    "#df.rename(columns={'collected_tweets_x':'collected_tweets'},inplace=True)"
   ]
  },
  {
   "cell_type": "code",
   "execution_count": null,
   "id": "2e126cb5",
   "metadata": {
    "ExecuteTime": {
     "end_time": "2023-08-11T12:22:00.642072Z",
     "start_time": "2023-08-11T12:22:00.633006Z"
    }
   },
   "outputs": [],
   "source": [
    "df['political_ratio'] = df['political_tweets']/df['collected_tweets']\n",
    "df['intollerant_ratio'] = df['into_tweets']/df['political_tweets']\n",
    "df['impolite_ratio'] = df['impo_tweets']/df['political_tweets']\n",
    "df['uncivil_ratio'] = (df['into_tweets']+df['impo_tweets'])/df['political_tweets']"
   ]
  },
  {
   "cell_type": "code",
   "execution_count": null,
   "id": "fd4db457",
   "metadata": {
    "ExecuteTime": {
     "end_time": "2023-08-11T12:22:53.176504Z",
     "start_time": "2023-08-11T12:22:53.122285Z"
    }
   },
   "outputs": [],
   "source": [
    "df.groupby(by=\"predicted_label\").mean().T"
   ]
  },
  {
   "cell_type": "code",
   "execution_count": null,
   "id": "44b320f5",
   "metadata": {
    "ExecuteTime": {
     "end_time": "2023-08-11T12:24:02.347140Z",
     "start_time": "2023-08-11T12:24:02.251101Z"
    }
   },
   "outputs": [],
   "source": [
    "df1 = df[df[\"predicted_label\"]==\"Male\"].copy()\n",
    "df2 = df[df[\"predicted_label\"]==\"Female\"].copy()"
   ]
  },
  {
   "cell_type": "code",
   "execution_count": null,
   "id": "463bb0ea",
   "metadata": {
    "ExecuteTime": {
     "end_time": "2023-08-11T12:24:26.805353Z",
     "start_time": "2023-08-11T12:24:26.788180Z"
    }
   },
   "outputs": [],
   "source": [
    "columns_to_check = 'uncivil_ratio'\n",
    "\n",
    "population1 = df1[columns_to_check].values\n",
    "population2 = df2[columns_to_check].values\n",
    "\n",
    "t_statistic, p_value = stats.ttest_ind(population1, population2)\n",
    "p_value"
   ]
  },
  {
   "cell_type": "code",
   "execution_count": null,
   "id": "f733dd6c",
   "metadata": {},
   "outputs": [],
   "source": []
  }
 ],
 "metadata": {
  "kernelspec": {
   "display_name": "Python 3 (ipykernel)",
   "language": "python",
   "name": "python3"
  },
  "language_info": {
   "codemirror_mode": {
    "name": "ipython",
    "version": 3
   },
   "file_extension": ".py",
   "mimetype": "text/x-python",
   "name": "python",
   "nbconvert_exporter": "python",
   "pygments_lexer": "ipython3",
   "version": "3.8.13"
  },
  "toc": {
   "base_numbering": 1,
   "nav_menu": {},
   "number_sections": true,
   "sideBar": true,
   "skip_h1_title": false,
   "title_cell": "Table of Contents",
   "title_sidebar": "Contents",
   "toc_cell": false,
   "toc_position": {},
   "toc_section_display": true,
   "toc_window_display": true
  },
  "varInspector": {
   "cols": {
    "lenName": 16,
    "lenType": 16,
    "lenVar": 40
   },
   "kernels_config": {
    "python": {
     "delete_cmd_postfix": "",
     "delete_cmd_prefix": "del ",
     "library": "var_list.py",
     "varRefreshCmd": "print(var_dic_list())"
    },
    "r": {
     "delete_cmd_postfix": ") ",
     "delete_cmd_prefix": "rm(",
     "library": "var_list.r",
     "varRefreshCmd": "cat(var_dic_list()) "
    }
   },
   "position": {
    "height": "271.844px",
    "left": "1175px",
    "right": "20px",
    "top": "120px",
    "width": "402px"
   },
   "types_to_exclude": [
    "module",
    "function",
    "builtin_function_or_method",
    "instance",
    "_Feature"
   ],
   "window_display": false
  }
 },
 "nbformat": 4,
 "nbformat_minor": 5
}
