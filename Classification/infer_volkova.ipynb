{
 "cells": [
  {
   "cell_type": "code",
   "execution_count": null,
   "id": "bc697da9",
   "metadata": {
    "ExecuteTime": {
     "end_time": "2023-06-03T10:13:02.334902Z",
     "start_time": "2023-06-03T10:13:02.322832Z"
    }
   },
   "outputs": [],
   "source": [
    "import os\n",
    "import ast\n",
    "import pandas as pd\n",
    "import tensorflow as tf\n",
    "from tensorflow import keras\n",
    "import swifter\n",
    "from tqdm import tqdm\n",
    "import yaml\n",
    "\n",
    "from socialvec.socialvec import SocialVec\n",
    "\n",
    "tqdm.pandas()"
   ]
  },
  {
   "cell_type": "code",
   "execution_count": null,
   "id": "7f3a7f2c",
   "metadata": {
    "ExecuteTime": {
     "end_time": "2023-06-03T10:13:02.794028Z",
     "start_time": "2023-06-03T10:13:02.778335Z"
    }
   },
   "outputs": [],
   "source": [
    "\n",
    "config = \"config.yaml\"\n",
    "\n",
    "with open(config, 'r') as file:\n",
    "    conf = yaml.load(file, Loader=yaml.FullLoader)\n"
   ]
  },
  {
   "cell_type": "code",
   "execution_count": null,
   "id": "11448425",
   "metadata": {
    "ExecuteTime": {
     "end_time": "2023-06-03T10:13:07.452445Z",
     "start_time": "2023-06-03T10:13:07.441770Z"
    }
   },
   "outputs": [],
   "source": [
    "conf"
   ]
  },
  {
   "cell_type": "code",
   "execution_count": null,
   "id": "c58cf4aa",
   "metadata": {
    "ExecuteTime": {
     "end_time": "2023-06-03T10:13:17.488220Z",
     "start_time": "2023-06-03T10:13:14.766740Z"
    }
   },
   "outputs": [],
   "source": [
    "data_path = \"../../Twitter/Data/Volkova/\"\n",
    "\n",
    "if conf['field_to_classify'] == 'political':\n",
    "    data_file = \"volkova_SocialVec_political_augmented_2020.csv\"\n",
    "    df_volkova = pd.read_csv(os.path.join(data_path,data_file),index_col=0)\n",
    "    df_volkova = df_volkova[df_volkova['source']=='volkova']\n",
    "    df_volkova['class'] = df_volkova['political'].apply(lambda x: 0 if x == \"Democrat\" else 1)\n",
    "    \n",
    "elif conf['field_to_classify'] == 'gender':\n",
    "    data_file = \"volkova_dataset_with_followees.csv\"\n",
    "    attributes_file = \"Volkova_all_arrtibues.csv\"\n",
    "    df_volkova = pd.read_csv(os.path.join(data_path,data_file),index_col=0)\n",
    "    df_volkova_attribues = pd.read_csv(os.path.join(data_path,attributes_file),index_col=0)\n",
    "    \n",
    "    df_volkova = pd.merge(df_volkova, df_volkova_attribues, left_on = 'user',right_on='user_id')\n",
    "    df_volkova = df_volkova[['user', 'screen_name','name','description','list', conf['field_to_classify']]]\n",
    "    df_volkova.rename(columns={'user':'twitter_id'},inplace=True)\n",
    "    df_volkova['source']='volkova'\n",
    "    df_volkova['class'] = df_volkova['gender'].apply(lambda x: 0 if x == \"Female\" else 1)"
   ]
  },
  {
   "cell_type": "markdown",
   "id": "183fca9f",
   "metadata": {},
   "source": [
    "## Load and manipulate data"
   ]
  },
  {
   "cell_type": "code",
   "execution_count": null,
   "id": "ecc1d751",
   "metadata": {
    "ExecuteTime": {
     "end_time": "2023-06-03T10:13:23.993847Z",
     "start_time": "2023-06-03T10:13:19.098880Z"
    }
   },
   "outputs": [],
   "source": [
    "def fix_list(row):\n",
    "    if row['source']=='volkova':\n",
    "        return \"[\" + row['list'] + \"]\"\n",
    "    else:\n",
    "        return row['list']\n",
    "\n",
    "df_volkova['list'] = df_volkova.progress_apply(lambda x: fix_list(x),axis=1)\n",
    "df_volkova.list = df_volkova.list.swifter.apply(lambda x: list(ast.literal_eval(x.strip())))\n"
   ]
  },
  {
   "cell_type": "code",
   "execution_count": null,
   "id": "468e04d0",
   "metadata": {
    "ExecuteTime": {
     "end_time": "2023-06-03T10:13:31.459136Z",
     "start_time": "2023-06-03T10:13:25.166530Z"
    }
   },
   "outputs": [],
   "source": [
    "sv = SocialVec(conf['SocialVec_version'])\n",
    "df_volkova[['socialvec', 'socialvec_len']] = df_volkova.progress_apply(lambda x: sv.get_average_embeddings(x['list']), axis=1, result_type='expand' )"
   ]
  },
  {
   "cell_type": "code",
   "execution_count": null,
   "id": "b1bac252",
   "metadata": {
    "ExecuteTime": {
     "end_time": "2023-06-03T10:13:33.356136Z",
     "start_time": "2023-06-03T10:13:33.342977Z"
    }
   },
   "outputs": [],
   "source": [
    "print(f\"size before filtering: {df_volkova.shape[0]}\")\n",
    "df_volkova = df_volkova[df_volkova[\"socialvec_len\"]>conf[\"minimal_socialvec_len\"]]\n",
    "print(f\"size after filtering: {df_volkova.shape[0]}\")"
   ]
  },
  {
   "cell_type": "markdown",
   "id": "4402fc21",
   "metadata": {},
   "source": [
    "## register our custom loss function and load model"
   ]
  },
  {
   "cell_type": "code",
   "execution_count": null,
   "id": "2cb3da01",
   "metadata": {
    "ExecuteTime": {
     "end_time": "2023-06-03T10:13:51.665678Z",
     "start_time": "2023-06-03T10:13:51.588046Z"
    }
   },
   "outputs": [],
   "source": [
    "def label_smoothing_loss(y_true, y_pred, smoothing=0.1):\n",
    "    \"\"\"\n",
    "    Custom loss function implementing label smoothing.\n",
    "    \"\"\"\n",
    "    num_classes = y_true.shape[-1]\n",
    "    smooth_positives = 1.0 - smoothing\n",
    "    smooth_negatives = smoothing / num_classes\n",
    "    y_true = y_true * smooth_positives + smooth_negatives\n",
    "\n",
    "    return keras.losses.categorical_crossentropy(y_true, y_pred)\n",
    "\n",
    "custom_objects = {'label_smoothing_loss': label_smoothing_loss}\n",
    "with keras.utils.custom_object_scope(custom_objects):\n",
    "    # Load the saved model\n",
    "    \n",
    "    model = keras.models.load_model(f\"models/{conf['model_name']}.h5\")"
   ]
  },
  {
   "cell_type": "code",
   "execution_count": null,
   "id": "334e67c6",
   "metadata": {
    "ExecuteTime": {
     "end_time": "2023-06-03T10:13:53.019208Z",
     "start_time": "2023-06-03T10:13:53.010050Z"
    }
   },
   "outputs": [],
   "source": [
    "def prep_tf_inputs(df_subset, field):\n",
    "    values = np.stack(df_subset[field].to_numpy())\n",
    "    X = tf.constant(values)\n",
    "    y = df_subset['class'].values\n",
    "    return X,y"
   ]
  },
  {
   "cell_type": "code",
   "execution_count": null,
   "id": "7902e146",
   "metadata": {
    "ExecuteTime": {
     "end_time": "2023-06-03T10:13:53.927609Z",
     "start_time": "2023-06-03T10:13:53.911974Z"
    }
   },
   "outputs": [],
   "source": [
    "X_volkova, y_volkova = prep_tf_inputs(df_volkova, 'socialvec')"
   ]
  },
  {
   "cell_type": "code",
   "execution_count": null,
   "id": "73b2f5d4",
   "metadata": {
    "ExecuteTime": {
     "end_time": "2023-06-03T10:13:54.775703Z",
     "start_time": "2023-06-03T10:13:54.554143Z"
    }
   },
   "outputs": [],
   "source": [
    "preds = model.predict(X_volkova)"
   ]
  },
  {
   "cell_type": "code",
   "execution_count": null,
   "id": "632bca13",
   "metadata": {
    "ExecuteTime": {
     "end_time": "2023-06-03T10:13:58.944156Z",
     "start_time": "2023-06-03T10:13:58.932977Z"
    }
   },
   "outputs": [],
   "source": [
    "df_volkova['preds'] = tf.argmax(preds, axis=1)\n",
    "df_volkova['confidence'] = np.max(preds, axis=1)"
   ]
  },
  {
   "cell_type": "code",
   "execution_count": null,
   "id": "616d4d88",
   "metadata": {
    "ExecuteTime": {
     "end_time": "2023-06-03T10:14:00.405362Z",
     "start_time": "2023-06-03T10:14:00.380409Z"
    }
   },
   "outputs": [],
   "source": [
    "from sklearn.metrics import classification_report\n",
    "print(classification_report(df_volkova['class'], df_volkova['preds']))"
   ]
  },
  {
   "cell_type": "code",
   "execution_count": null,
   "id": "34e6c85a",
   "metadata": {
    "ExecuteTime": {
     "end_time": "2023-06-03T10:14:19.812906Z",
     "start_time": "2023-06-03T10:14:19.679244Z"
    }
   },
   "outputs": [],
   "source": [
    "import seaborn as sns\n",
    "from sklearn.metrics import confusion_matrix\n",
    "# y_test  : actual labels or target\n",
    "# y_preds : predicted labels or target\n",
    "sns.heatmap(confusion_matrix(df_volkova['class'], df_volkova['preds']),square=True, annot=True, cmap='Blues', fmt='d', cbar=False);"
   ]
  },
  {
   "cell_type": "code",
   "execution_count": null,
   "id": "c963009d",
   "metadata": {
    "ExecuteTime": {
     "end_time": "2023-06-03T10:14:38.762479Z",
     "start_time": "2023-06-03T10:14:38.753405Z"
    }
   },
   "outputs": [],
   "source": [
    "df_volkova_high_confidence = df_volkova[df_volkova['confidence']> 0.9]"
   ]
  },
  {
   "cell_type": "code",
   "execution_count": null,
   "id": "2a42eae8",
   "metadata": {
    "ExecuteTime": {
     "end_time": "2023-06-03T10:14:39.750567Z",
     "start_time": "2023-06-03T10:14:39.729577Z"
    }
   },
   "outputs": [],
   "source": [
    "from sklearn.metrics import classification_report\n",
    "print(classification_report(df_volkova_high_confidence['class'], df_volkova_high_confidence['preds']))"
   ]
  },
  {
   "cell_type": "code",
   "execution_count": null,
   "id": "d431744c",
   "metadata": {
    "ExecuteTime": {
     "end_time": "2023-06-03T10:14:47.058211Z",
     "start_time": "2023-06-03T10:14:46.950229Z"
    }
   },
   "outputs": [],
   "source": [
    "sns.heatmap(confusion_matrix(df_volkova_high_confidence['class'], df_volkova_high_confidence['preds']),square=True, annot=True, cmap='Blues', fmt='d', cbar=False);"
   ]
  },
  {
   "cell_type": "code",
   "execution_count": null,
   "id": "055ac36b",
   "metadata": {},
   "outputs": [],
   "source": []
  }
 ],
 "metadata": {
  "kernelspec": {
   "display_name": "Python 3 (ipykernel)",
   "language": "python",
   "name": "python3"
  },
  "language_info": {
   "codemirror_mode": {
    "name": "ipython",
    "version": 3
   },
   "file_extension": ".py",
   "mimetype": "text/x-python",
   "name": "python",
   "nbconvert_exporter": "python",
   "pygments_lexer": "ipython3",
   "version": "3.8.13"
  },
  "toc": {
   "base_numbering": 1,
   "nav_menu": {},
   "number_sections": true,
   "sideBar": true,
   "skip_h1_title": false,
   "title_cell": "Table of Contents",
   "title_sidebar": "Contents",
   "toc_cell": false,
   "toc_position": {},
   "toc_section_display": true,
   "toc_window_display": false
  },
  "varInspector": {
   "cols": {
    "lenName": 16,
    "lenType": 16,
    "lenVar": 40
   },
   "kernels_config": {
    "python": {
     "delete_cmd_postfix": "",
     "delete_cmd_prefix": "del ",
     "library": "var_list.py",
     "varRefreshCmd": "print(var_dic_list())"
    },
    "r": {
     "delete_cmd_postfix": ") ",
     "delete_cmd_prefix": "rm(",
     "library": "var_list.r",
     "varRefreshCmd": "cat(var_dic_list()) "
    }
   },
   "types_to_exclude": [
    "module",
    "function",
    "builtin_function_or_method",
    "instance",
    "_Feature"
   ],
   "window_display": false
  }
 },
 "nbformat": 4,
 "nbformat_minor": 5
}
