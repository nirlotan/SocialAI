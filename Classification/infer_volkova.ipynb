{
 "cells": [
  {
   "cell_type": "code",
   "execution_count": null,
   "id": "77775f8b",
   "metadata": {
    "ExecuteTime": {
     "end_time": "2023-06-03T05:57:02.098923Z",
     "start_time": "2023-06-03T05:57:02.087118Z"
    }
   },
   "outputs": [],
   "source": [
    "import os\n",
    "import ast\n",
    "import pandas as pd\n",
    "import tensorflow as tf\n",
    "from tensorflow import keras\n",
    "import swifter\n",
    "from tqdm import tqdm\n",
    "import yaml\n",
    "\n",
    "from socialvec.socialvec import SocialVec\n",
    "\n",
    "tqdm.pandas()"
   ]
  },
  {
   "cell_type": "code",
   "execution_count": null,
   "id": "5d5b2fbd",
   "metadata": {
    "ExecuteTime": {
     "end_time": "2023-06-03T04:48:15.850959Z",
     "start_time": "2023-06-03T04:48:15.845065Z"
    }
   },
   "outputs": [],
   "source": [
    "data_path = \"../../Twitter/Data/Volkova/\"\n",
    "data_file = \"volkova_SocialVec_political_augmented_2020.csv\""
   ]
  },
  {
   "cell_type": "code",
   "execution_count": null,
   "id": "1aef76fd",
   "metadata": {
    "ExecuteTime": {
     "end_time": "2023-06-03T05:57:03.376252Z",
     "start_time": "2023-06-03T05:57:03.361328Z"
    }
   },
   "outputs": [],
   "source": [
    "\n",
    "config = \"config.yaml\"\n",
    "\n",
    "with open(config, 'r') as file:\n",
    "    conf = yaml.load(file, Loader=yaml.FullLoader)\n"
   ]
  },
  {
   "cell_type": "markdown",
   "id": "5905fb73",
   "metadata": {},
   "source": [
    "## Load and manipulate data"
   ]
  },
  {
   "cell_type": "code",
   "execution_count": null,
   "id": "b7873297",
   "metadata": {},
   "outputs": [],
   "source": [
    "df_volkova = pd.read_csv(os.path.join(data_path,data_file),index_col=0)\n",
    "df_volkova = df_volkova[df_volkova['source']=='volkova']"
   ]
  },
  {
   "cell_type": "code",
   "execution_count": null,
   "id": "fb66f42a",
   "metadata": {},
   "outputs": [],
   "source": [
    "def fix_list(row):\n",
    "    if row['source']=='volkova':\n",
    "        return \"[\" + row['list'] + \"]\"\n",
    "    else:\n",
    "        return row['list']\n",
    "\n",
    "df_volkova['list'] = df_volkova.progress_apply(lambda x: fix_list(x),axis=1)\n",
    "df_volkova.list = df_volkova.list.swifter.apply(lambda x: list(ast.literal_eval(x.strip())))\n",
    "df_volkova['class'] = df_volkova['political'].apply(lambda x: 0 if x == \"Democrat\" else 1)"
   ]
  },
  {
   "cell_type": "code",
   "execution_count": null,
   "id": "06680efb",
   "metadata": {
    "ExecuteTime": {
     "end_time": "2023-06-03T05:57:33.065883Z",
     "start_time": "2023-06-03T05:57:26.844163Z"
    }
   },
   "outputs": [],
   "source": [
    "sv = SocialVec(conf['SocialVec_version'])\n",
    "df_volkova[['socialvec', 'socialvec_len']] = df_volkova.progress_apply(lambda x: sv.get_average_embeddings(x['list']), axis=1, result_type='expand' )"
   ]
  },
  {
   "cell_type": "code",
   "execution_count": null,
   "id": "f5dd6478",
   "metadata": {
    "ExecuteTime": {
     "end_time": "2023-06-03T05:58:31.755587Z",
     "start_time": "2023-06-03T05:58:31.741970Z"
    }
   },
   "outputs": [],
   "source": [
    "print(f\"size before filtering: {df_volkova.shape[0]}\")\n",
    "df_volkova = df_volkova[df_volkova[\"socialvec_len\"]>conf[\"minimal_socialvec_len\"]]\n",
    "print(f\"size after filtering: {df_volkova.shape[0]}\")"
   ]
  },
  {
   "cell_type": "markdown",
   "id": "74a2d9d0",
   "metadata": {},
   "source": [
    "## register our custom loss function and load model"
   ]
  },
  {
   "cell_type": "code",
   "execution_count": null,
   "id": "9819aee9",
   "metadata": {
    "ExecuteTime": {
     "end_time": "2023-06-03T04:45:05.961614Z",
     "start_time": "2023-06-03T04:45:05.950341Z"
    }
   },
   "outputs": [],
   "source": [
    "def label_smoothing_loss(y_true, y_pred, smoothing=0.1):\n",
    "    \"\"\"\n",
    "    Custom loss function implementing label smoothing.\n",
    "    \"\"\"\n",
    "    num_classes = y_true.shape[-1]\n",
    "    smooth_positives = 1.0 - smoothing\n",
    "    smooth_negatives = smoothing / num_classes\n",
    "    y_true = y_true * smooth_positives + smooth_negatives\n",
    "\n",
    "    return keras.losses.categorical_crossentropy(y_true, y_pred)\n",
    "\n",
    "custom_objects = {'label_smoothing_loss': label_smoothing_loss}\n",
    "with keras.utils.custom_object_scope(custom_objects):\n",
    "    # Load the saved model\n",
    "    model = keras.models.load_model(\"models/political_model.h5\")"
   ]
  },
  {
   "cell_type": "code",
   "execution_count": null,
   "id": "f3677d1b",
   "metadata": {
    "ExecuteTime": {
     "end_time": "2023-06-03T05:00:24.381586Z",
     "start_time": "2023-06-03T05:00:24.371969Z"
    }
   },
   "outputs": [],
   "source": [
    "def prep_tf_inputs(df_subset, field):\n",
    "    values = np.stack(df_subset[field].to_numpy())\n",
    "    X = tf.constant(values)\n",
    "    y = df_subset['class'].values\n",
    "    return X,y"
   ]
  },
  {
   "cell_type": "code",
   "execution_count": null,
   "id": "c6b6edc0",
   "metadata": {
    "ExecuteTime": {
     "end_time": "2023-06-03T05:00:25.038187Z",
     "start_time": "2023-06-03T05:00:25.022260Z"
    }
   },
   "outputs": [],
   "source": [
    "X_volkova, y_volkova = prep_tf_inputs(df_volkova, 'socialvec')"
   ]
  },
  {
   "cell_type": "code",
   "execution_count": null,
   "id": "4a2ad2ca",
   "metadata": {
    "ExecuteTime": {
     "end_time": "2023-06-03T05:00:35.533793Z",
     "start_time": "2023-06-03T05:00:35.023912Z"
    }
   },
   "outputs": [],
   "source": [
    "preds = model.predict(X_volkova)"
   ]
  },
  {
   "cell_type": "code",
   "execution_count": null,
   "id": "48923e7b",
   "metadata": {
    "ExecuteTime": {
     "end_time": "2023-06-03T06:00:28.687148Z",
     "start_time": "2023-06-03T06:00:28.675216Z"
    }
   },
   "outputs": [],
   "source": [
    "df_volkova['preds'] = tf.argmax(preds, axis=1)\n",
    "df_volkova['confidence'] = np.max(preds, axis=1)"
   ]
  },
  {
   "cell_type": "code",
   "execution_count": null,
   "id": "d135c210",
   "metadata": {
    "ExecuteTime": {
     "end_time": "2023-06-03T05:02:26.074393Z",
     "start_time": "2023-06-03T05:02:26.041451Z"
    }
   },
   "outputs": [],
   "source": [
    "from sklearn.metrics import classification_report\n",
    "print(classification_report(df_volkova['class'], df_volkova['preds']))"
   ]
  },
  {
   "cell_type": "code",
   "execution_count": null,
   "id": "4d2eef99",
   "metadata": {
    "ExecuteTime": {
     "end_time": "2023-06-03T05:07:36.172856Z",
     "start_time": "2023-06-03T05:07:35.453626Z"
    }
   },
   "outputs": [],
   "source": [
    "import seaborn as sns\n",
    "from sklearn.metrics import confusion_matrix\n",
    "# y_test  : actual labels or target\n",
    "# y_preds : predicted labels or target\n",
    "sns.heatmap(confusion_matrix(df_volkova['class'], df_volkova['preds']),square=True, annot=True, cmap='Blues', fmt='d', cbar=False);"
   ]
  },
  {
   "cell_type": "code",
   "execution_count": null,
   "id": "54caf422",
   "metadata": {
    "ExecuteTime": {
     "end_time": "2023-06-03T06:01:23.245737Z",
     "start_time": "2023-06-03T06:01:23.236166Z"
    }
   },
   "outputs": [],
   "source": [
    "df_volkova_high_confidence = df_volkova[df_volkova['confidence']> 0.8]"
   ]
  },
  {
   "cell_type": "code",
   "execution_count": null,
   "id": "dd453b8f",
   "metadata": {
    "ExecuteTime": {
     "end_time": "2023-06-03T06:01:23.687637Z",
     "start_time": "2023-06-03T06:01:23.666414Z"
    }
   },
   "outputs": [],
   "source": [
    "from sklearn.metrics import classification_report\n",
    "print(classification_report(df_volkova_high_confidence['class'], df_volkova_high_confidence['preds']))"
   ]
  },
  {
   "cell_type": "code",
   "execution_count": null,
   "id": "32d8db80",
   "metadata": {
    "ExecuteTime": {
     "end_time": "2023-06-03T06:01:39.125236Z",
     "start_time": "2023-06-03T06:01:39.015742Z"
    }
   },
   "outputs": [],
   "source": [
    "sns.heatmap(confusion_matrix(df_volkova_high_confidence['class'], df_volkova_high_confidence['preds']),square=True, annot=True, cmap='Blues', fmt='d', cbar=False);"
   ]
  },
  {
   "cell_type": "code",
   "execution_count": null,
   "id": "325fa32d",
   "metadata": {},
   "outputs": [],
   "source": []
  }
 ],
 "metadata": {
  "kernelspec": {
   "display_name": "Python 3 (ipykernel)",
   "language": "python",
   "name": "python3"
  },
  "language_info": {
   "codemirror_mode": {
    "name": "ipython",
    "version": 3
   },
   "file_extension": ".py",
   "mimetype": "text/x-python",
   "name": "python",
   "nbconvert_exporter": "python",
   "pygments_lexer": "ipython3",
   "version": "3.8.13"
  },
  "toc": {
   "base_numbering": 1,
   "nav_menu": {},
   "number_sections": true,
   "sideBar": true,
   "skip_h1_title": false,
   "title_cell": "Table of Contents",
   "title_sidebar": "Contents",
   "toc_cell": false,
   "toc_position": {},
   "toc_section_display": true,
   "toc_window_display": false
  },
  "varInspector": {
   "cols": {
    "lenName": 16,
    "lenType": 16,
    "lenVar": 40
   },
   "kernels_config": {
    "python": {
     "delete_cmd_postfix": "",
     "delete_cmd_prefix": "del ",
     "library": "var_list.py",
     "varRefreshCmd": "print(var_dic_list())"
    },
    "r": {
     "delete_cmd_postfix": ") ",
     "delete_cmd_prefix": "rm(",
     "library": "var_list.r",
     "varRefreshCmd": "cat(var_dic_list()) "
    }
   },
   "types_to_exclude": [
    "module",
    "function",
    "builtin_function_or_method",
    "instance",
    "_Feature"
   ],
   "window_display": false
  }
 },
 "nbformat": 4,
 "nbformat_minor": 5
}
